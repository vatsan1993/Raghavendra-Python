{
 "cells": [
  {
   "cell_type": "code",
   "execution_count": 41,
   "metadata": {},
   "outputs": [
    {
     "name": "stdout",
     "output_type": "stream",
     "text": [
      "How are you?\n"
     ]
    }
   ],
   "source": [
    "sentence = 'How are you?'\n",
    "print(sentence)"
   ]
  },
  {
   "cell_type": "code",
   "execution_count": 42,
   "metadata": {},
   "outputs": [
    {
     "name": "stdout",
     "output_type": "stream",
     "text": [
      "How are you?\n",
      "What are you doing?\n"
     ]
    }
   ],
   "source": [
    "sentence2 = 'What are you doing?'\n",
    "sentence = sentence + '\\n' + sentence2\n",
    "print(sentence)"
   ]
  },
  {
   "cell_type": "markdown",
   "metadata": {},
   "source": [
    "# Strings are similar to lists.\n",
    "- WE have index for string too.\n",
    "- we can use the index to get characters from the string\n",
    "- We will have index for each character, including spaces and symbols"
   ]
  },
  {
   "cell_type": "code",
   "execution_count": 43,
   "metadata": {},
   "outputs": [
    {
     "name": "stdout",
     "output_type": "stream",
     "text": [
      "H\n",
      "o\n"
     ]
    }
   ],
   "source": [
    "print(sentence[0])\n",
    "print(sentence[1])"
   ]
  },
  {
   "cell_type": "code",
   "execution_count": 44,
   "metadata": {},
   "outputs": [
    {
     "name": "stdout",
     "output_type": "stream",
     "text": [
      "ow a\n"
     ]
    }
   ],
   "source": [
    "print(sentence[1:5])"
   ]
  },
  {
   "cell_type": "markdown",
   "metadata": {},
   "source": [
    "# String immutability\n",
    "- Unlike lists, strings are immutable\n",
    "- strings cannot be changed in memory.\n",
    "- when we try to change the string, it creates a copy and then changes the copy\n",
    "- after the change is done it returns the new string.\n"
   ]
  },
  {
   "cell_type": "code",
   "execution_count": 45,
   "metadata": {},
   "outputs": [
    {
     "ename": "TypeError",
     "evalue": "'str' object does not support item assignment",
     "output_type": "error",
     "traceback": [
      "\u001b[1;31m---------------------------------------------------------------------------\u001b[0m",
      "\u001b[1;31mTypeError\u001b[0m                                 Traceback (most recent call last)",
      "\u001b[1;32m<ipython-input-45-f9808bba0603>\u001b[0m in \u001b[0;36m<module>\u001b[1;34m\u001b[0m\n\u001b[0;32m      1\u001b[0m \u001b[1;31m# Changing a string\u001b[0m\u001b[1;33m\u001b[0m\u001b[1;33m\u001b[0m\u001b[1;33m\u001b[0m\u001b[0m\n\u001b[1;32m----> 2\u001b[1;33m \u001b[0msentence\u001b[0m\u001b[1;33m[\u001b[0m\u001b[1;36m0\u001b[0m\u001b[1;33m]\u001b[0m \u001b[1;33m=\u001b[0m \u001b[1;34m'h'\u001b[0m \u001b[1;31m# this is not possible\u001b[0m\u001b[1;33m\u001b[0m\u001b[1;33m\u001b[0m\u001b[0m\n\u001b[0m\u001b[0;32m      3\u001b[0m \u001b[0mprint\u001b[0m\u001b[1;33m(\u001b[0m\u001b[0msentence\u001b[0m\u001b[1;33m)\u001b[0m\u001b[1;33m\u001b[0m\u001b[1;33m\u001b[0m\u001b[0m\n",
      "\u001b[1;31mTypeError\u001b[0m: 'str' object does not support item assignment"
     ]
    }
   ],
   "source": [
    "# Changing a string\n",
    "sentence[0] = 'h' # this is not possible \n",
    "print(sentence)"
   ]
  },
  {
   "cell_type": "code",
   "execution_count": 46,
   "metadata": {},
   "outputs": [
    {
     "name": "stdout",
     "output_type": "stream",
     "text": [
      "Max Kennith Winchester\n"
     ]
    }
   ],
   "source": [
    "name = 'Max Dennis Winchester'\n",
    "name = name[ : 4] + 'Kennith' +name[10 : ]\n",
    "print(name)"
   ]
  },
  {
   "cell_type": "markdown",
   "metadata": {},
   "source": [
    "# String methods\n",
    "- String methods are different compared to list methods\n",
    "- Strings are immutable. The methods do not edit the original string. they return a new string with the edited values.\n",
    "- Some string methods are conditional methods.\n",
    "- They give us True or False.\n",
    "- These can be used in conditional staments and loop which we will learn in the next chapter."
   ]
  },
  {
   "cell_type": "markdown",
   "metadata": {},
   "source": [
    "### string transformation methods\n",
    "- upper -- makes string uppercase\n",
    "- lower -- makes string lowercase\n",
    "- casefold - makes string lowercase\n",
    "- title - makes each first character uppercase\n",
    "- capitalize - Makes First chracter of a sentence uppercase\n",
    "<p style=\"color:red\">These method do not edit the origoinal string. They give new string</p>"
   ]
  },
  {
   "cell_type": "code",
   "execution_count": 47,
   "metadata": {},
   "outputs": [
    {
     "name": "stdout",
     "output_type": "stream",
     "text": [
      "How are you?\n",
      "What are you doing?\n"
     ]
    }
   ],
   "source": [
    "print(sentence)"
   ]
  },
  {
   "cell_type": "code",
   "execution_count": 48,
   "metadata": {},
   "outputs": [
    {
     "name": "stdout",
     "output_type": "stream",
     "text": [
      "HOW ARE YOU?\n",
      "WHAT ARE YOU DOING?\n"
     ]
    }
   ],
   "source": [
    "upperSentence = sentence.upper()\n",
    "print(upperSentence)"
   ]
  },
  {
   "cell_type": "code",
   "execution_count": 49,
   "metadata": {},
   "outputs": [
    {
     "name": "stdout",
     "output_type": "stream",
     "text": [
      "how are you?\n",
      "what are you doing?\n"
     ]
    }
   ],
   "source": [
    "lowerSentence = sentence.lower()\n",
    "print(lowerSentence)"
   ]
  },
  {
   "cell_type": "code",
   "execution_count": 50,
   "metadata": {},
   "outputs": [
    {
     "name": "stdout",
     "output_type": "stream",
     "text": [
      "how are you?\n",
      "what are you doing?\n"
     ]
    }
   ],
   "source": [
    "caseFoldedSentence=  sentence.casefold()\n",
    "print(caseFoldedSentence)"
   ]
  },
  {
   "cell_type": "code",
   "execution_count": 51,
   "metadata": {},
   "outputs": [
    {
     "name": "stdout",
     "output_type": "stream",
     "text": [
      "How Are You?\n",
      "What Are You Doing?\n"
     ]
    }
   ],
   "source": [
    "titleCase = sentence.title()\n",
    "print(titleCase)"
   ]
  },
  {
   "cell_type": "code",
   "execution_count": 52,
   "metadata": {},
   "outputs": [
    {
     "name": "stdout",
     "output_type": "stream",
     "text": [
      "How are you?\n",
      "what are you doing?\n"
     ]
    }
   ],
   "source": [
    "capitalizedText = sentence.capitalize()\n",
    "print(capitalizedText)"
   ]
  },
  {
   "cell_type": "markdown",
   "metadata": {},
   "source": [
    "- startswith - checks if a string starts with a particular substring\n",
    "- endswith - checks if a string ends with a particular substring.\n",
    "<p style= \"color:red\">These methods return True or False</p>"
   ]
  },
  {
   "cell_type": "code",
   "execution_count": 53,
   "metadata": {},
   "outputs": [
    {
     "name": "stdout",
     "output_type": "stream",
     "text": [
      "True\n"
     ]
    }
   ],
   "source": [
    "print(name.startswith('Max'))"
   ]
  },
  {
   "cell_type": "code",
   "execution_count": 54,
   "metadata": {},
   "outputs": [
    {
     "name": "stdout",
     "output_type": "stream",
     "text": [
      "True\n"
     ]
    }
   ],
   "source": [
    "print(name.endswith('r'))"
   ]
  },
  {
   "cell_type": "markdown",
   "metadata": {},
   "source": [
    "- center - takes a string and center it by repeating the provided string based on the provided number of chracters\n",
    "- rjut - makes the string look perfect in the lines"
   ]
  },
  {
   "cell_type": "code",
   "execution_count": 55,
   "metadata": {},
   "outputs": [
    {
     "name": "stdout",
     "output_type": "stream",
     "text": [
      "**************Max Kennith Winchester**************\n"
     ]
    }
   ],
   "source": [
    "print(name.center(50, \"*\"))"
   ]
  },
  {
   "cell_type": "code",
   "execution_count": 56,
   "metadata": {},
   "outputs": [
    {
     "name": "stdout",
     "output_type": "stream",
     "text": [
      "                            Max Kennith Winchester\n"
     ]
    }
   ],
   "source": [
    "print(name.rjust(50))"
   ]
  },
  {
   "cell_type": "markdown",
   "metadata": {},
   "source": [
    "- index - tells us where the substring exists in the original string - returns an index - if the substring does not existthe index method gives an error \n",
    "- find - tells us where the substring exists in the original string - returns an index -if the substring does not exist in the string, it returns a -1 .\n",
    "- count - counts the number of times the provided substring exists in the string"
   ]
  },
  {
   "cell_type": "code",
   "execution_count": 57,
   "metadata": {},
   "outputs": [
    {
     "name": "stdout",
     "output_type": "stream",
     "text": [
      "4\n",
      "4\n"
     ]
    }
   ],
   "source": [
    "print(name.index('Ken'))\n",
    "print(name.find('Ken'))"
   ]
  },
  {
   "cell_type": "code",
   "execution_count": 58,
   "metadata": {},
   "outputs": [
    {
     "name": "stdout",
     "output_type": "stream",
     "text": [
      "-1\n"
     ]
    }
   ],
   "source": [
    "print(name.find('ken'))"
   ]
  },
  {
   "cell_type": "code",
   "execution_count": 59,
   "metadata": {},
   "outputs": [
    {
     "ename": "ValueError",
     "evalue": "substring not found",
     "output_type": "error",
     "traceback": [
      "\u001b[1;31m---------------------------------------------------------------------------\u001b[0m",
      "\u001b[1;31mValueError\u001b[0m                                Traceback (most recent call last)",
      "\u001b[1;32m<ipython-input-59-abca25875bab>\u001b[0m in \u001b[0;36m<module>\u001b[1;34m\u001b[0m\n\u001b[1;32m----> 1\u001b[1;33m \u001b[0mprint\u001b[0m\u001b[1;33m(\u001b[0m\u001b[0mname\u001b[0m\u001b[1;33m.\u001b[0m\u001b[0mindex\u001b[0m\u001b[1;33m(\u001b[0m\u001b[1;34m'ken'\u001b[0m\u001b[1;33m)\u001b[0m\u001b[1;33m)\u001b[0m\u001b[1;33m\u001b[0m\u001b[1;33m\u001b[0m\u001b[0m\n\u001b[0m",
      "\u001b[1;31mValueError\u001b[0m: substring not found"
     ]
    }
   ],
   "source": [
    "print(name.index('ken'))"
   ]
  },
  {
   "cell_type": "code",
   "execution_count": 60,
   "metadata": {},
   "outputs": [
    {
     "name": "stdout",
     "output_type": "stream",
     "text": [
      "2\n"
     ]
    }
   ],
   "source": [
    "sentence = \"He works at a very good company called google.\"\n",
    "print(sentence.count('oo'))"
   ]
  },
  {
   "cell_type": "code",
   "execution_count": 61,
   "metadata": {},
   "outputs": [
    {
     "name": "stdout",
     "output_type": "stream",
     "text": [
      "6\n"
     ]
    }
   ],
   "source": [
    "print(sentence.count('o'))"
   ]
  },
  {
   "cell_type": "markdown",
   "metadata": {},
   "source": [
    "- isalpha - checks if a string contains only alphabets\n",
    "- isalnum - checks if a string contains only alphabets and digits\n",
    "- isspace - checks if a string has only white spaces\n",
    "- isdecimal - check if a string contains only decimal values\n",
    "- isdigit - checks if a string contains only digits\n",
    "<p style= \"color:red\">These methods return True or False</p>"
   ]
  },
  {
   "cell_type": "code",
   "execution_count": 62,
   "metadata": {},
   "outputs": [
    {
     "name": "stdout",
     "output_type": "stream",
     "text": [
      "True\n"
     ]
    }
   ],
   "source": [
    "name = 'james'\n",
    "print(name.isalpha())"
   ]
  },
  {
   "cell_type": "code",
   "execution_count": 63,
   "metadata": {},
   "outputs": [
    {
     "name": "stdout",
     "output_type": "stream",
     "text": [
      "False\n"
     ]
    }
   ],
   "source": [
    "username = 'example123'\n",
    "print(username. isalpha())"
   ]
  },
  {
   "cell_type": "code",
   "execution_count": 64,
   "metadata": {},
   "outputs": [
    {
     "name": "stdout",
     "output_type": "stream",
     "text": [
      "True\n"
     ]
    }
   ],
   "source": [
    "print(username.isalnum())"
   ]
  },
  {
   "cell_type": "code",
   "execution_count": 65,
   "metadata": {},
   "outputs": [
    {
     "name": "stdout",
     "output_type": "stream",
     "text": [
      "True\n"
     ]
    }
   ],
   "source": [
    "spaces = '\\t \\n'\n",
    "print(spaces.isspace())"
   ]
  },
  {
   "cell_type": "code",
   "execution_count": 66,
   "metadata": {},
   "outputs": [
    {
     "name": "stdout",
     "output_type": "stream",
     "text": [
      "True\n",
      "True\n"
     ]
    }
   ],
   "source": [
    "val = '10'\n",
    "print(val.isdecimal()) # does not support unicode\n",
    "print(val.isdigit()) # supports unicode."
   ]
  },
  {
   "cell_type": "markdown",
   "metadata": {},
   "source": [
    "- strip - removes the specified sunstring from both  the ends of the string if they exist\n",
    "- split - splits a string at a privided seperator"
   ]
  },
  {
   "cell_type": "code",
   "execution_count": 67,
   "metadata": {},
   "outputs": [
    {
     "name": "stdout",
     "output_type": "stream",
     "text": [
      "how are you?\n",
      "\n"
     ]
    }
   ],
   "source": [
    "sentence = \"how are you?\\n\"\n",
    "print(sentence)"
   ]
  },
  {
   "cell_type": "code",
   "execution_count": 68,
   "metadata": {},
   "outputs": [
    {
     "name": "stdout",
     "output_type": "stream",
     "text": [
      "how are you?\n"
     ]
    }
   ],
   "source": [
    "sentence = sentence.strip(\"\\n\")\n",
    "print(sentence)"
   ]
  },
  {
   "cell_type": "code",
   "execution_count": 69,
   "metadata": {},
   "outputs": [
    {
     "name": "stdout",
     "output_type": "stream",
     "text": [
      "['how', 'are', 'you?']\n"
     ]
    }
   ],
   "source": [
    "words = sentence.split(\" \")\n",
    "print(words)"
   ]
  },
  {
   "cell_type": "markdown",
   "metadata": {},
   "source": [
    "- replace - replaces the provided substring with another provided substring"
   ]
  },
  {
   "cell_type": "code",
   "execution_count": 71,
   "metadata": {},
   "outputs": [
    {
     "name": "stdout",
     "output_type": "stream",
     "text": [
      "How are you?\n",
      "What are you doing?\n"
     ]
    }
   ],
   "source": [
    "sentence = 'How are you?'\n",
    "sentence2 = 'What are you doing?'\n",
    "sentence = sentence + '\\n' + sentence2\n",
    "print(sentence)"
   ]
  },
  {
   "cell_type": "code",
   "execution_count": 72,
   "metadata": {},
   "outputs": [
    {
     "name": "stdout",
     "output_type": "stream",
     "text": [
      "How was you?\n",
      "What was you doing?\n"
     ]
    }
   ],
   "source": [
    "sentence = sentence .replace('are', 'was')\n",
    "print(sentence)"
   ]
  },
  {
   "cell_type": "code",
   "execution_count": null,
   "metadata": {},
   "outputs": [],
   "source": [
    "# format\n",
    "- https://www.programiz.com/python-programming/methods/string/format\n",
    "- "
   ]
  },
  {
   "cell_type": "code",
   "execution_count": 3,
   "metadata": {},
   "outputs": [
    {
     "name": "stdout",
     "output_type": "stream",
     "text": [
      "Enter car name: M3\n",
      "Enter manufacturerBMW\n",
      "Enter car color: Black\n",
      "Enter engine: V8\n",
      "Enter car price150000\n",
      "Black BMW M3 comes with a V8 engine  and costs  $150000\n"
     ]
    }
   ],
   "source": [
    "carName = input('Enter car name: ')\n",
    "manufacturer = input('Enter manufacturer')\n",
    "color = input('Enter car color: ')\n",
    "engine  = input('Enter engine: ')\n",
    "price = int(input('Enter car price'))\n",
    "\n",
    "# Black BMW M3 comes with a v8 engine and costs $150000\n",
    "output =  \"{0} {1} {2} comes with a {3} engine and costs ${4:d}\". format(color, manufacturer, carName , engine , price)\n",
    "print(output)"
   ]
  },
  {
   "cell_type": "code",
   "execution_count": 9,
   "metadata": {},
   "outputs": [
    {
     "name": "stdout",
     "output_type": "stream",
     "text": [
      "name                 age        marks\n",
      "Max Winchester       20         99.90\n",
      "Bill Morgan          19         87.50\n"
     ]
    }
   ],
   "source": [
    "name1 = 'Max Winchester'\n",
    "age1 = 20\n",
    "marks1 = 99.9\n",
    "\n",
    "name2 = 'Bill Morgan'\n",
    "age2 = 19\n",
    "marks2 = 87.5\n",
    "\n",
    "print('{:<20} {:<10} {}'.format('name', 'age', 'marks'))\n",
    "print('{:<20} {:<10d} {:.2f}'.format(name1, age1, marks1))\n",
    "print('{:<20} {:<10d} {:.2f}'.format(name2, age2, marks2))"
   ]
  },
  {
   "cell_type": "code",
   "execution_count": null,
   "metadata": {},
   "outputs": [],
   "source": []
  },
  {
   "cell_type": "code",
   "execution_count": null,
   "metadata": {},
   "outputs": [],
   "source": []
  }
 ],
 "metadata": {
  "kernelspec": {
   "display_name": "Python 3",
   "language": "python",
   "name": "python3"
  },
  "language_info": {
   "codemirror_mode": {
    "name": "ipython",
    "version": 3
   },
   "file_extension": ".py",
   "mimetype": "text/x-python",
   "name": "python",
   "nbconvert_exporter": "python",
   "pygments_lexer": "ipython3",
   "version": "3.8.5"
  }
 },
 "nbformat": 4,
 "nbformat_minor": 4
}
