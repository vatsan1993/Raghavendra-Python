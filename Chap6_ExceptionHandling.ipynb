{
 "cells": [
  {
   "cell_type": "code",
   "execution_count": 2,
   "id": "dd6c696a-62ae-48f8-9860-43e538b545a4",
   "metadata": {
    "tags": []
   },
   "outputs": [
    {
     "name": "stdin",
     "output_type": "stream",
     "text": [
      "Enter a value:  hi\n"
     ]
    },
    {
     "ename": "ValueError",
     "evalue": "invalid literal for int() with base 10: 'hi'",
     "output_type": "error",
     "traceback": [
      "\u001b[1;31m---------------------------------------------------------------------------\u001b[0m",
      "\u001b[1;31mValueError\u001b[0m                                Traceback (most recent call last)",
      "Cell \u001b[1;32mIn[2], line 1\u001b[0m\n\u001b[1;32m----> 1\u001b[0m value \u001b[38;5;241m=\u001b[39m \u001b[38;5;28mint\u001b[39m(\u001b[38;5;28minput\u001b[39m(\u001b[38;5;124m'\u001b[39m\u001b[38;5;124mEnter a value: \u001b[39m\u001b[38;5;124m'\u001b[39m))\n",
      "\u001b[1;31mValueError\u001b[0m: invalid literal for int() with base 10: 'hi'"
     ]
    }
   ],
   "source": [
    "value = int(input('Enter a value: '))"
   ]
  },
  {
   "cell_type": "markdown",
   "id": "06bbbb25-c89f-4fa7-861d-d3bee88ad5e1",
   "metadata": {
    "tags": []
   },
   "source": [
    "# Error Handling:\n",
    "- The process of handling errors and displaying meaninful messages or trying to recover from the error is called error handling.\n",
    "- We get error for lot of stuations\n",
    "- Example:\n",
    "    - conversion problem like earlier example\n",
    "    - division with 0\n",
    "    - a file we are trying to work with does not exist.\n",
    "    - a file is protected.\n",
    "    - a database is not found.\n",
    "    - unsupported operations."
   ]
  },
  {
   "cell_type": "markdown",
   "id": "9e5e1cc5-2a37-4324-84e8-431ca4599cf5",
   "metadata": {
    "tags": []
   },
   "source": [
    "- To handle error we have different ways\n",
    "    1. using inbult errors\n",
    "    2. creating custom errors.\n",
    "- We generally use a try except else block to work with the exceptions.\n",
    "- but dont over do the try except.\n",
    "- Syntax:\n",
    "```python\n",
    "try:\n",
    "    code\n",
    "except:\n",
    "    code to fix\n",
    "else:\n",
    "    code if no exception\n",
    "```\n",
    "        "
   ]
  },
  {
   "cell_type": "code",
   "execution_count": 7,
   "id": "8834bcd5-19bc-4625-9565-636ed455956e",
   "metadata": {
    "tags": []
   },
   "outputs": [
    {
     "name": "stdin",
     "output_type": "stream",
     "text": [
      "Enter a value:  hi\n"
     ]
    },
    {
     "name": "stdout",
     "output_type": "stream",
     "text": [
      "Unable to convert the data.\n"
     ]
    }
   ],
   "source": [
    "try:\n",
    "    value = int(input('Enter a value: '))\n",
    "except:\n",
    "    print('Unable to convert the data.')\n",
    "else:\n",
    "    print(value)"
   ]
  },
  {
   "cell_type": "code",
   "execution_count": 12,
   "id": "099a5233-54d7-48bc-b2f5-b7b0a4f92d36",
   "metadata": {
    "tags": []
   },
   "outputs": [
    {
     "name": "stdin",
     "output_type": "stream",
     "text": [
      "Enter a value:  10\n",
      "Enter b value:  0\n"
     ]
    },
    {
     "name": "stdout",
     "output_type": "stream",
     "text": [
      "The data has to be numbers and b should not be 0\n"
     ]
    }
   ],
   "source": [
    "# Handles 2 errors\n",
    "try:\n",
    "    a = int(input('Enter a value: '))\n",
    "    b = int(input('Enter b value: '))\n",
    "    print(a/b)\n",
    "except:\n",
    "    print('The data has to be numbers and b should not be 0')"
   ]
  },
  {
   "cell_type": "markdown",
   "id": "c6a894fc-3da2-40b1-80d2-900b470f321b",
   "metadata": {
    "tags": []
   },
   "source": [
    "# Named Error Handling\n",
    "- When the code base increases the possibility for getting errors also increases.\n",
    "- one except block that prints all the possible errors is not going to be clear.\n",
    "- We need to splits errors into seperate except blocks.\n",
    "- Each type of an error as a specific name given to it. We can use this to identify the type of the error.\n",
    "- Syntax:\n",
    "```python\n",
    "try:\n",
    "    code\n",
    "except Error1Name:\n",
    "    code\n",
    "except Error2Name:\n",
    "    code\n",
    "...\n",
    "except:\n",
    "    code\n",
    "```"
   ]
  },
  {
   "cell_type": "code",
   "execution_count": 15,
   "id": "b1b56eb2-7f35-4f44-bc8f-ab7e5005acac",
   "metadata": {
    "tags": []
   },
   "outputs": [
    {
     "name": "stdin",
     "output_type": "stream",
     "text": [
      "Enter a value:  10\n",
      "Enter b value:  0\n"
     ]
    },
    {
     "name": "stdout",
     "output_type": "stream",
     "text": [
      "Cannot divide by 0\n"
     ]
    }
   ],
   "source": [
    "try:\n",
    "    a = int(input('Enter a value: '))\n",
    "    b = int(input('Enter b value: '))\n",
    "    print(a/b)\n",
    "except ValueError:\n",
    "    print('The data must be integer')\n",
    "except ZeroDivisionError:\n",
    "    print('Cannot divide by 0')"
   ]
  },
  {
   "cell_type": "code",
   "execution_count": 18,
   "id": "1f7abffb-73b3-4d20-849d-e75fd03abe4e",
   "metadata": {
    "tags": []
   },
   "outputs": [
    {
     "name": "stdin",
     "output_type": "stream",
     "text": [
      "Enter name of the person:  drake\n"
     ]
    },
    {
     "name": "stdout",
     "output_type": "stream",
     "text": [
      "drake is not in the list\n"
     ]
    }
   ],
   "source": [
    "marks = {\n",
    "    'max' : 99,\n",
    "    'james' : 89,\n",
    "    'bill': 76\n",
    "}\n",
    "\n",
    "try:\n",
    "    name = input('Enter name of the person: ')\n",
    "    print(marks[name])\n",
    "except KeyError:\n",
    "    print(f'{name} is not in the list')"
   ]
  },
  {
   "cell_type": "code",
   "execution_count": 22,
   "id": "03e0dfb7-2d97-4765-bc29-13fbdc8185da",
   "metadata": {
    "tags": []
   },
   "outputs": [
    {
     "name": "stdin",
     "output_type": "stream",
     "text": [
      "Enter name of the person:  max\n"
     ]
    },
    {
     "name": "stdout",
     "output_type": "stream",
     "text": [
      "The person is in the list\n"
     ]
    }
   ],
   "source": [
    "friends_list = ['max', 'mike', 'james']\n",
    "try:\n",
    "    name = input('Enter name of the person: ')\n",
    "    location = friends_list.index(name)\n",
    "except ValueError:\n",
    "    print('The person is not the list')\n",
    "else:\n",
    "    print('The person is in the list')\n"
   ]
  },
  {
   "cell_type": "code",
   "execution_count": 23,
   "id": "f6b5c4a9-689c-45ca-ac3f-5534e4e36aca",
   "metadata": {
    "tags": []
   },
   "outputs": [
    {
     "name": "stdout",
     "output_type": "stream",
     "text": [
      "The person is in the list\n"
     ]
    }
   ],
   "source": [
    "# alternative for the above problem\n",
    "if name in friends_list:\n",
    "    print('The person is in the list')\n",
    "else:\n",
    "    print('The person is not the list')"
   ]
  },
  {
   "cell_type": "markdown",
   "id": "5b2c11f3-c2f7-492e-97d8-abee9a99ef45",
   "metadata": {
    "tags": []
   },
   "source": [
    "# Raise an exception\n",
    "- In some programs we want the program to give us an error when a certain condition satisfies.\n",
    "- To do this, we use the raise keyword.\n",
    "- Syntax:\n",
    "```python\n",
    "if condition:\n",
    "    raise Exception(\"Error Message\")\n",
    "```"
   ]
  },
  {
   "cell_type": "code",
   "execution_count": 4,
   "id": "8362becc-e016-4214-bccb-875f7bd30cef",
   "metadata": {},
   "outputs": [
    {
     "name": "stdin",
     "output_type": "stream",
     "text": [
      "Enter your name:          \n"
     ]
    },
    {
     "name": "stdout",
     "output_type": "stream",
     "text": [
      "Name should be atleast 3 character long\n"
     ]
    }
   ],
   "source": [
    "try:\n",
    "    name = input('Enter your name: ').strip()\n",
    "    if len(name) <3:\n",
    "        raise ValueError(\"Name should be atleast 3 character long\")\n",
    "    age = int(input('Enter age: '))\n",
    "    if age < 18 or age > 65:\n",
    "        raise ValueError(\"Age should be between 18 and 65\")\n",
    "except ValueError as e:\n",
    "    print(e)\n",
    "    \n",
    "                    "
   ]
  },
  {
   "cell_type": "code",
   "execution_count": 6,
   "id": "b2636207-dcca-465f-823f-702d27828957",
   "metadata": {
    "tags": []
   },
   "outputs": [
    {
     "name": "stdin",
     "output_type": "stream",
     "text": [
      "Enter length:  10\n",
      "Enter width:  7\n",
      "Enter height:  3\n"
     ]
    },
    {
     "name": "stdout",
     "output_type": "stream",
     "text": [
      "Volume : 210\n"
     ]
    }
   ],
   "source": [
    "try:\n",
    "    length = int(input('Enter length: '))\n",
    "    if length <= 0:\n",
    "        raise ValueError('Length should be greater than 0')\n",
    "    width = int(input('Enter width: '))\n",
    "    if width <= 0:\n",
    "        raise ValueError('Width should be greater than 0')\n",
    "    height = int(input('Enter height: '))\n",
    "    if height <= 0:\n",
    "        raise ValueError('Height should be greater than 0')\n",
    "except ValueError as e:\n",
    "    print(e)\n",
    "else:\n",
    "    print('Volume : '+ str(length * width * height))"
   ]
  },
  {
   "cell_type": "code",
   "execution_count": 12,
   "id": "c913f602-85fc-4045-9ccb-b08f65d62907",
   "metadata": {
    "tags": []
   },
   "outputs": [
    {
     "name": "stdout",
     "output_type": "stream",
     "text": [
      "15.25\n",
      "This function needs a list\n"
     ]
    },
    {
     "ename": "TypeError",
     "evalue": "This function needs a list",
     "output_type": "error",
     "traceback": [
      "\u001b[1;31m---------------------------------------------------------------------------\u001b[0m",
      "\u001b[1;31mTypeError\u001b[0m                                 Traceback (most recent call last)",
      "Cell \u001b[1;32mIn[12], line 11\u001b[0m\n\u001b[0;32m      9\u001b[0m         \u001b[38;5;28;01mraise\u001b[39;00m\n\u001b[0;32m     10\u001b[0m \u001b[38;5;28mprint\u001b[39m(getAVG([\u001b[38;5;241m1\u001b[39m,\u001b[38;5;241m4\u001b[39m,\u001b[38;5;241m54\u001b[39m,\u001b[38;5;241m2\u001b[39m]))\n\u001b[1;32m---> 11\u001b[0m \u001b[38;5;28mprint\u001b[39m(getAVG(\u001b[38;5;241m10\u001b[39m))\n",
      "Cell \u001b[1;32mIn[12], line 4\u001b[0m, in \u001b[0;36mgetAVG\u001b[1;34m(lst)\u001b[0m\n\u001b[0;32m      2\u001b[0m \u001b[38;5;28;01mtry\u001b[39;00m:\n\u001b[0;32m      3\u001b[0m     \u001b[38;5;28;01mif\u001b[39;00m \u001b[38;5;28mtype\u001b[39m(lst) \u001b[38;5;241m!=\u001b[39m \u001b[38;5;28mlist\u001b[39m:\n\u001b[1;32m----> 4\u001b[0m         \u001b[38;5;28;01mraise\u001b[39;00m \u001b[38;5;167;01mTypeError\u001b[39;00m(\u001b[38;5;124m'\u001b[39m\u001b[38;5;124mThis function needs a list\u001b[39m\u001b[38;5;124m'\u001b[39m)\n\u001b[0;32m      5\u001b[0m     \u001b[38;5;28;01melse\u001b[39;00m:\n\u001b[0;32m      6\u001b[0m         \u001b[38;5;28;01mreturn\u001b[39;00m \u001b[38;5;28msum\u001b[39m(lst)\u001b[38;5;241m/\u001b[39m \u001b[38;5;28mlen\u001b[39m(lst)\n",
      "\u001b[1;31mTypeError\u001b[0m: This function needs a list"
     ]
    }
   ],
   "source": [
    "def getAVG(lst):\n",
    "    try:\n",
    "        if type(lst) != list:\n",
    "            raise TypeError('This function needs a list')\n",
    "        else:\n",
    "            return sum(lst)/ len(lst)\n",
    "    except TypeError as e:\n",
    "        print(e)\n",
    "        raise\n",
    "print(getAVG([1,4,54,2]))\n",
    "print(getAVG(10))"
   ]
  },
  {
   "cell_type": "code",
   "execution_count": 15,
   "id": "5072c9f2-adf4-4d67-8927-b704e30e6a73",
   "metadata": {
    "tags": []
   },
   "outputs": [
    {
     "name": "stdin",
     "output_type": "stream",
     "text": [
      "Enter length: hi\n"
     ]
    },
    {
     "name": "stdout",
     "output_type": "stream",
     "text": [
      "invalid literal for int() with base 10: 'hi'\n"
     ]
    },
    {
     "name": "stdin",
     "output_type": "stream",
     "text": [
      "Enter length: -5\n"
     ]
    },
    {
     "name": "stdout",
     "output_type": "stream",
     "text": [
      "length must be greater than 0\n"
     ]
    },
    {
     "name": "stdin",
     "output_type": "stream",
     "text": [
      "Enter length: 6\n",
      "Enter width: bye\n"
     ]
    },
    {
     "name": "stdout",
     "output_type": "stream",
     "text": [
      "invalid literal for int() with base 10: 'bye'\n"
     ]
    },
    {
     "name": "stdin",
     "output_type": "stream",
     "text": [
      "Enter width: 3\n",
      "Enter height: -100\n"
     ]
    },
    {
     "name": "stdout",
     "output_type": "stream",
     "text": [
      "height must be greater than 0\n"
     ]
    },
    {
     "name": "stdin",
     "output_type": "stream",
     "text": [
      "Enter height: 1\n"
     ]
    },
    {
     "name": "stdout",
     "output_type": "stream",
     "text": [
      "18\n"
     ]
    }
   ],
   "source": [
    "# using loop with exceptions\n",
    "def getNumberGreaterThanZero(name):\n",
    "    while True:\n",
    "        try :\n",
    "            number = int(input(f'Enter {name}:'))\n",
    "            if number <= 0:\n",
    "                raise ValueError(f'{name} must be greater than 0')\n",
    "        except ValueError as e:\n",
    "            print(e)\n",
    "        else:\n",
    "            return number\n",
    "def getVolume():\n",
    "    length = getNumberGreaterThanZero('length')\n",
    "    width = getNumberGreaterThanZero('width')\n",
    "    height = getNumberGreaterThanZero('height')\n",
    "    volume = length * width * height\n",
    "    print(volume)\n",
    "\n",
    "def main():\n",
    "    getVolume()\n",
    "\n",
    "main()\n"
   ]
  },
  {
   "cell_type": "markdown",
   "id": "c8353acc-aef3-4eae-9079-566ff8719079",
   "metadata": {},
   "source": [
    "# Custom Exception:\n",
    "- We need to create a class that inherits from a specific kind of an exception.\n",
    "- WE can use the Exception class.\n",
    "- Syntax:\n",
    "```python\n",
    "class MyCustomErrorClass(Exception):\n",
    "    pass\n",
    "```"
   ]
  },
  {
   "cell_type": "code",
   "execution_count": 19,
   "id": "ace0bf44-b618-4ea4-b19b-573f7474132e",
   "metadata": {
    "tags": []
   },
   "outputs": [
    {
     "ename": "AgeError",
     "evalue": "Age should be between 18 and 65",
     "output_type": "error",
     "traceback": [
      "\u001b[1;31m---------------------------------------------------------------------------\u001b[0m",
      "\u001b[1;31mAgeError\u001b[0m                                  Traceback (most recent call last)",
      "Cell \u001b[1;32mIn[19], line 5\u001b[0m\n\u001b[0;32m      3\u001b[0m age \u001b[38;5;241m=\u001b[39m \u001b[38;5;241m7\u001b[39m\n\u001b[0;32m      4\u001b[0m \u001b[38;5;28;01mif\u001b[39;00m age \u001b[38;5;241m<\u001b[39m \u001b[38;5;241m18\u001b[39m \u001b[38;5;129;01mor\u001b[39;00m age \u001b[38;5;241m>\u001b[39m \u001b[38;5;241m65\u001b[39m:\n\u001b[1;32m----> 5\u001b[0m     \u001b[38;5;28;01mraise\u001b[39;00m AgeError(\u001b[38;5;124m\"\u001b[39m\u001b[38;5;124mAge should be between 18 and 65\u001b[39m\u001b[38;5;124m\"\u001b[39m)\n",
      "\u001b[1;31mAgeError\u001b[0m: Age should be between 18 and 65"
     ]
    }
   ],
   "source": [
    "class AgeError(Exception):\n",
    "    pass\n",
    "age = 7\n",
    "if age < 18 or age > 65:\n",
    "    raise AgeError(\"Age should be between 18 and 65\")"
   ]
  },
  {
   "cell_type": "markdown",
   "id": "3a495b72-c195-4b7a-9f5d-798ab767137c",
   "metadata": {
    "tags": []
   },
   "source": [
    "# Finally\n",
    "- Runs no matter if there is an exception or not.\n",
    "- It runs at the end.\n",
    "- Used for cleanup tasks like free up a resource or clean up memory.(closing a file or database connection so on)"
   ]
  },
  {
   "cell_type": "code",
   "execution_count": 22,
   "id": "4ade2d4a-dced-4be6-ac7a-af121fc09b34",
   "metadata": {
    "tags": []
   },
   "outputs": [
    {
     "name": "stdout",
     "output_type": "stream",
     "text": [
      "Eligible for voting\n",
      "Exiting the program\n"
     ]
    }
   ],
   "source": [
    "age = 20\n",
    "try:\n",
    "    if age < 18 or age > 65:\n",
    "        raise AgeError(\"Age should be between 18 and 65\")\n",
    "except AgeError as e:\n",
    "    print(e)\n",
    "else:\n",
    "    print('Eligible for voting')\n",
    "finally:\n",
    "    print('Exiting the program')\n",
    "    "
   ]
  },
  {
   "cell_type": "code",
   "execution_count": null,
   "id": "0df1c026-3c68-4687-9b66-5095c9d60b4a",
   "metadata": {},
   "outputs": [],
   "source": []
  }
 ],
 "metadata": {
  "kernelspec": {
   "display_name": "Python 3 (ipykernel)",
   "language": "python",
   "name": "python3"
  },
  "language_info": {
   "codemirror_mode": {
    "name": "ipython",
    "version": 3
   },
   "file_extension": ".py",
   "mimetype": "text/x-python",
   "name": "python",
   "nbconvert_exporter": "python",
   "pygments_lexer": "ipython3",
   "version": "3.11.3"
  }
 },
 "nbformat": 4,
 "nbformat_minor": 5
}
