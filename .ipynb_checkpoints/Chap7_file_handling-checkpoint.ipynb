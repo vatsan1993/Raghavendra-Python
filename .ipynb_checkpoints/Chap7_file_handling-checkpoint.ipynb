{
 "cells": [
  {
   "cell_type": "markdown",
   "id": "60fb225a-6131-4923-b1ca-69864c601d0e",
   "metadata": {
    "tags": []
   },
   "source": [
    "# open function.\n",
    "- we use the open function to work with a file.\n",
    "- A file can be opened in different ways\n",
    "- Syntax:\n",
    "```python\n",
    "file_handle = open('file_path/filename.extention', mode)\n",
    "```\n",
    "- the mode is  used to specify to which operation we are opening the file.\n",
    "- The following modes are available\n",
    "    - r - read\n",
    "    - w - write\n",
    "    - a - append\n",
    "    - rb - read binary (used for images, audio, video)\n",
    "    - wb - write binary\n",
    "    - ab - append binart\n",
    "    - t - text\n",
    "    <p>* - update(both read and write)</p>\n",
    "- file_handle will be an object that we can make use of in out program.\n",
    "- It contains lot of details related to the files and it gives us access to them using different methods.\n",
    "<p style=\"color:red\"> The open function just opens the file does not read it</p>"
   ]
  },
  {
   "cell_type": "markdown",
   "id": "55890c47-d0aa-466a-825f-bbf75dbf1b17",
   "metadata": {
    "tags": []
   },
   "source": [
    "# Close Method.\n",
    "- When we open a file, we need to make sure we close the file.\n",
    "- If we dont the file will be still in the memory and the file operation might not be performed in correct ways.\n",
    "- Syntax:\n",
    "```python\n",
    "file_handle.close()\n",
    "```"
   ]
  },
  {
   "cell_type": "code",
   "execution_count": 3,
   "id": "91e30ed8-1274-468a-9140-63bfec38665a",
   "metadata": {
    "tags": []
   },
   "outputs": [],
   "source": [
    "file_name = 'sample1.txt'\n",
    "file = open(file_name, 'r')\n",
    "file.close()"
   ]
  },
  {
   "cell_type": "markdown",
   "id": "98c44f15-c91e-468e-b0d7-fbd472bd2e57",
   "metadata": {},
   "source": [
    "# Reading content from  the file\n",
    "- the file handle has 3 methods that we can make use of.\n",
    "    1. read - reads all content character by character. It can read specific number of characters aswell.\n",
    "    2. readline - reads a single line. we can also specify the number of characters we want to read \n",
    "    3. readlines - reads all lines and puts them in a list.\n",
    "- We have a cursor that represents which line we have read. \n",
    "- Syntax:\n",
    "```python\n",
    "data_variable = file_handle.method_name()\n",
    "```\n",
    "- the data taken in will be in a string format."
   ]
  },
  {
   "cell_type": "markdown",
   "id": "3ed31fc2-f59e-40b2-be5d-c3d602df24ff",
   "metadata": {},
   "source": [
    "- There is a 4th way available but  it doesnt use any method. WE use a for loop and the iterable for the for loop will be the file.\n",
    "- The loop variable will get one line at a time.\n",
    "- Syntax:\n",
    "```python\n",
    "for line in file:\n",
    "    code\n",
    "```"
   ]
  },
  {
   "cell_type": "code",
   "execution_count": 5,
   "id": "c32decaa-5cf6-4aee-a084-2b9462943831",
   "metadata": {
    "tags": []
   },
   "outputs": [
    {
     "name": "stdout",
     "output_type": "stream",
     "text": [
      "This is the data in the file.\n",
      "\n"
     ]
    }
   ],
   "source": [
    "# read data from file.txt\n",
    "file_name = 'file1.txt'\n",
    "file = open(file_name, 'r')\n",
    "data = file.read()\n",
    "print(data)\n",
    "file.close()"
   ]
  },
  {
   "cell_type": "code",
   "execution_count": 8,
   "id": "8a2d7faf-1621-43cc-aaf8-047ff541311a",
   "metadata": {
    "tags": []
   },
   "outputs": [
    {
     "name": "stdin",
     "output_type": "stream",
     "text": [
      "Enter the file name file2\n"
     ]
    },
    {
     "name": "stdout",
     "output_type": "stream",
     "text": [
      "This is first line\n",
      "This is second line\n",
      "This is last line\n"
     ]
    }
   ],
   "source": [
    "# reading data with multiple lines.\n",
    "file_name = input('Enter the file name')\n",
    "if '.txt' not in file_name:\n",
    "    file_name = file_name + '.txt'\n",
    "file = open(file_name, 'r')\n",
    "data = file.read() # data is 1 string value containing multiple lines of text.\n",
    "print(data)\n",
    "file.close()"
   ]
  },
  {
   "cell_type": "code",
   "execution_count": 9,
   "id": "d7b71d71-1af8-465f-9531-1ed68297f3c2",
   "metadata": {
    "tags": []
   },
   "outputs": [
    {
     "name": "stdout",
     "output_type": "stream",
     "text": [
      "This is th\n"
     ]
    }
   ],
   "source": [
    "# reading a part of the file.\n",
    "file_name = 'file1.txt'\n",
    "file = open(file_name, 'r')\n",
    "data = file.read(10)\n",
    "print(data)\n",
    "file.close()"
   ]
  },
  {
   "cell_type": "code",
   "execution_count": 12,
   "id": "b99e8e19-5ab9-4108-849c-6b3b7d5ebe6c",
   "metadata": {
    "tags": []
   },
   "outputs": [
    {
     "name": "stdout",
     "output_type": "stream",
     "text": [
      "This is first line\n",
      "\n",
      "This is second line\n",
      "\n"
     ]
    }
   ],
   "source": [
    "# readline\n",
    "file_name = 'file2.txt'\n",
    "file = open(file_name, 'r')\n",
    "first_line = file.readline()\n",
    "second_line = file.readline()\n",
    "print(first_line) \n",
    "# we get an extra space when displaying data because each line has a \\n in the text file\n",
    "# print function also has a \\n automatically printing.\n",
    "print(second_line)\n",
    "file.close()"
   ]
  },
  {
   "cell_type": "code",
   "execution_count": 14,
   "id": "43bb1960-a3c4-49f1-9de4-d7aad130e1cc",
   "metadata": {
    "tags": []
   },
   "outputs": [
    {
     "name": "stdout",
     "output_type": "stream",
     "text": [
      "This is fi\n",
      "rst line\n",
      "\n"
     ]
    }
   ],
   "source": [
    "# reading certain number of characters.\n",
    "file_name = 'file2.txt'\n",
    "file = open(file_name, 'r')\n",
    "first_line = file.readline(10)\n",
    "second_line = file.readline(10)\n",
    "print(first_line) \n",
    "print(second_line)\n",
    "file.close()"
   ]
  },
  {
   "cell_type": "code",
   "execution_count": 15,
   "id": "993517dd-ac0d-4ba6-83d3-e17f8f43cdb8",
   "metadata": {
    "tags": []
   },
   "outputs": [
    {
     "name": "stdout",
     "output_type": "stream",
     "text": [
      "['This is the data in the file.\\n']\n",
      "['This is first line\\n', 'This is second line\\n', 'This is last line']\n"
     ]
    }
   ],
   "source": [
    "# readlines method\n",
    "def read_file(file_name):\n",
    "    file = open(file_name, 'r')\n",
    "    data = file.readlines()\n",
    "    file.close()\n",
    "    return data\n",
    "\n",
    "data = read_file('file1.txt')\n",
    "print(data)\n",
    "data = read_file('file2.txt')\n",
    "print(data)"
   ]
  },
  {
   "cell_type": "code",
   "execution_count": 3,
   "id": "7879c8b0-5504-40ab-a970-dcb8bd72e745",
   "metadata": {},
   "outputs": [
    {
     "name": "stdout",
     "output_type": "stream",
     "text": [
      "This is the data in the file.\n",
      "\n",
      "This is first line\n",
      "\n",
      "This is second line\n",
      "\n",
      "This is last line\n"
     ]
    }
   ],
   "source": [
    "# using for loops directly on the file\n",
    "def display_text(file_name):\n",
    "    file = open(file_name, 'r')\n",
    "    for line in file:\n",
    "        print(line)\n",
    "    file.close()\n",
    "\n",
    "display_text('file1.txt')\n",
    "display_text('file2.txt')"
   ]
  },
  {
   "cell_type": "markdown",
   "id": "2de28451-af27-496c-a717-96f172432939",
   "metadata": {
    "tags": []
   },
   "source": [
    "# Errors with files\n",
    "- WE get error when we try to open a file that does not exist.\n",
    "- WE might get an error if we dont have permission for reading or writing the file.\n",
    "- FileExistsError\n",
    "- FileNotFoundError\n",
    "- IsADirectoryError\n",
    "- NotADirectoryError\n",
    "- PermissionError"
   ]
  },
  {
   "cell_type": "code",
   "execution_count": 5,
   "id": "6461cac1-a6c9-4e35-acb6-d3a78a391c36",
   "metadata": {
    "tags": []
   },
   "outputs": [
    {
     "ename": "FileNotFoundError",
     "evalue": "[Errno 2] No such file or directory: 'not_a_file.txt'",
     "output_type": "error",
     "traceback": [
      "\u001b[1;31m---------------------------------------------------------------------------\u001b[0m",
      "\u001b[1;31mFileNotFoundError\u001b[0m                         Traceback (most recent call last)",
      "Cell \u001b[1;32mIn[5], line 2\u001b[0m\n\u001b[0;32m      1\u001b[0m file_name \u001b[38;5;241m=\u001b[39m \u001b[38;5;124m'\u001b[39m\u001b[38;5;124mnot_a_file.txt\u001b[39m\u001b[38;5;124m'\u001b[39m\n\u001b[1;32m----> 2\u001b[0m file \u001b[38;5;241m=\u001b[39m \u001b[38;5;28mopen\u001b[39m(file_name, \u001b[38;5;124m'\u001b[39m\u001b[38;5;124mr\u001b[39m\u001b[38;5;124m'\u001b[39m)\n\u001b[0;32m      3\u001b[0m file\u001b[38;5;241m.\u001b[39mclose()\n",
      "File \u001b[1;32m~\\anaconda3\\Lib\\site-packages\\IPython\\core\\interactiveshell.py:284\u001b[0m, in \u001b[0;36m_modified_open\u001b[1;34m(file, *args, **kwargs)\u001b[0m\n\u001b[0;32m    277\u001b[0m \u001b[38;5;28;01mif\u001b[39;00m file \u001b[38;5;129;01min\u001b[39;00m {\u001b[38;5;241m0\u001b[39m, \u001b[38;5;241m1\u001b[39m, \u001b[38;5;241m2\u001b[39m}:\n\u001b[0;32m    278\u001b[0m     \u001b[38;5;28;01mraise\u001b[39;00m \u001b[38;5;167;01mValueError\u001b[39;00m(\n\u001b[0;32m    279\u001b[0m         \u001b[38;5;124mf\u001b[39m\u001b[38;5;124m\"\u001b[39m\u001b[38;5;124mIPython won\u001b[39m\u001b[38;5;124m'\u001b[39m\u001b[38;5;124mt let you open fd=\u001b[39m\u001b[38;5;132;01m{\u001b[39;00mfile\u001b[38;5;132;01m}\u001b[39;00m\u001b[38;5;124m by default \u001b[39m\u001b[38;5;124m\"\u001b[39m\n\u001b[0;32m    280\u001b[0m         \u001b[38;5;124m\"\u001b[39m\u001b[38;5;124mas it is likely to crash IPython. If you know what you are doing, \u001b[39m\u001b[38;5;124m\"\u001b[39m\n\u001b[0;32m    281\u001b[0m         \u001b[38;5;124m\"\u001b[39m\u001b[38;5;124myou can use builtins\u001b[39m\u001b[38;5;124m'\u001b[39m\u001b[38;5;124m open.\u001b[39m\u001b[38;5;124m\"\u001b[39m\n\u001b[0;32m    282\u001b[0m     )\n\u001b[1;32m--> 284\u001b[0m \u001b[38;5;28;01mreturn\u001b[39;00m io_open(file, \u001b[38;5;241m*\u001b[39margs, \u001b[38;5;241m*\u001b[39m\u001b[38;5;241m*\u001b[39mkwargs)\n",
      "\u001b[1;31mFileNotFoundError\u001b[0m: [Errno 2] No such file or directory: 'not_a_file.txt'"
     ]
    }
   ],
   "source": [
    "file_name = 'not_a_file.txt'\n",
    "file = open(file_name, 'r')\n",
    "file.close()"
   ]
  },
  {
   "cell_type": "code",
   "execution_count": 6,
   "id": "3baba8c9-9e61-4d79-992b-d3979bcb257e",
   "metadata": {
    "tags": []
   },
   "outputs": [
    {
     "name": "stdout",
     "output_type": "stream",
     "text": [
      "The file does not exist\n"
     ]
    }
   ],
   "source": [
    "# try except with file related errors\n",
    "try:\n",
    "    file_name = 'not_a_file.txt'\n",
    "    file = open(file_name, 'r')\n",
    "    file.close()\n",
    "except FileNotFoundError as e:\n",
    "    print('The file does not exist')"
   ]
  },
  {
   "cell_type": "markdown",
   "id": "578968f7-3b44-4ae2-be6f-d85b2f3360b1",
   "metadata": {
    "tags": []
   },
   "source": [
    "# Context Manager\n",
    "- Helps to manage resources easily.\n",
    "- We dont need to close the file. Its automatically closes.\n",
    "- As soon as we exit the context manager, file automatically closes\n",
    "```python\n",
    "with open('filename.extension',mode ) as file_object:\n",
    "    code\n",
    "```\n"
   ]
  },
  {
   "cell_type": "code",
   "execution_count": 9,
   "id": "8d2135fa-2abd-4ff7-89a3-69c81944f83a",
   "metadata": {
    "tags": []
   },
   "outputs": [
    {
     "name": "stdout",
     "output_type": "stream",
     "text": [
      "file doesnt exists\n"
     ]
    }
   ],
   "source": [
    "try:\n",
    "    file_name = 'not_a_file.txt'\n",
    "    with open(file_name, 'r') as file:\n",
    "        print(file.read())\n",
    "except  FileNotFoundError as e:\n",
    "    print('file doesnt exists')"
   ]
  },
  {
   "cell_type": "code",
   "execution_count": 15,
   "id": "f3849a80-8be8-4bf4-843e-b19dc19e94d8",
   "metadata": {
    "tags": []
   },
   "outputs": [
    {
     "name": "stdout",
     "output_type": "stream",
     "text": [
      "Mike, Max, Jimmy, Joe\n",
      "['Mike', 'Max', 'Jimmy', 'Joe']\n",
      "Mike\n"
     ]
    }
   ],
   "source": [
    "# Using the strip and split on a csv file\n",
    "def get_names(file_name = 'names.csv'):\n",
    "    try:\n",
    "        with open(file_name, 'r') as file:\n",
    "            line = file.readline()\n",
    "        # print(line) # at this point we have a \\n at the end of the file.\n",
    "        # we use the strip method to remove it.\n",
    "        line = line.strip()\n",
    "        print(line)\n",
    "        # seperating names\n",
    "        names = line.split(', ')\n",
    "        print(names)\n",
    "        print(names[0])\n",
    "    except  FileNotFoundError as e:\n",
    "        print('file doesnt exists')\n",
    "get_names()"
   ]
  },
  {
   "cell_type": "code",
   "execution_count": 16,
   "id": "cd72d4d3-2b15-4a3c-8a69-012c6cf8d1c7",
   "metadata": {
    "tags": []
   },
   "outputs": [
    {
     "name": "stdout",
     "output_type": "stream",
     "text": [
      "[['Max', 20, 99.9, 'A Grade'], ['Jimmy', 19, 73.4, 'B Grade'], ['Jean', 21, 50.3, 'D Grade'], ['Ali', 20, 60.12, 'C Grade']]\n"
     ]
    }
   ],
   "source": [
    "# Reading a csv with multiple lines\n",
    "def getData(file_name = 'students.csv'):\n",
    "    try:\n",
    "        data = []\n",
    "        with open(file_name, 'r') as file:\n",
    "            for line in file:\n",
    "                line = line. strip('\\n') # removes \\n at the end of the line\n",
    "                row = line.split(', ') # splits a line into multiple values\n",
    "                row[1] = int(row[1])\n",
    "                row[2] = float(row[2])\n",
    "                data.append(row)\n",
    "        return data\n",
    "    except  FileNotFoundError as e:\n",
    "        print('file doesnt exists')\n",
    "print(getData())"
   ]
  },
  {
   "cell_type": "code",
   "execution_count": 19,
   "id": "2583372f-875d-4b31-ac1f-8103158e3889",
   "metadata": {},
   "outputs": [
    {
     "name": "stdout",
     "output_type": "stream",
     "text": [
      "[{'Name': 'ipad Pro', 'Manufacturer': 'Apple', 'Color': 'Silver', 'Price': 799}, {'Name': 'inspiron 5250', 'Manufacturer': 'Dell', 'Color': 'Black', 'Price': 900}, {'Name': 'Legion', 'Manufacturer': 'Lenovo', 'Color': 'Red', 'Price': 950}, {'Name': 'AB-219tx', 'Manufacturer': 'Hp', 'Color': 'Silver', 'Price': 500}]\n",
      "[{'Name': 'ipad Pro', 'Discount': 759.05}, {'Name': 'inspiron 5250', 'Discount': 855.0}, {'Name': 'Legion', 'Discount': 902.5}, {'Name': 'AB-219tx', 'Discount': 475.0}]\n"
     ]
    }
   ],
   "source": [
    "# reading data from items.csv and converting it into a list of dictionaries.\n",
    "def get_data(file_name = 'items.csv'):\n",
    "    try:\n",
    "        data = []\n",
    "        with open(file_name, 'r') as file:\n",
    "            headings = file.readline()\n",
    "            headings = headings.strip('\\n').split(', ')\n",
    "            for row in file:\n",
    "                row = row.strip(\"\\n\").split(\", \")\n",
    "                row[-1] = int(row[-1])\n",
    "                row_dict = {}\n",
    "                for key, value in zip(headings, row):\n",
    "                    row_dict[key] = value\n",
    "                data.append(row_dict)\n",
    "        return data\n",
    "    except FileNotFoundError as e:\n",
    "        print('File does not exists')\n",
    "def getDiscount(price, discountRate):\n",
    "    return price - (price * discountRate/100)\n",
    "def createDiscountDict(data):\n",
    "    new_data = []\n",
    "    for row in data:\n",
    "        new_data.append({'Name': row['Name'],'Discount': getDiscount(row['Price'], 5)})\n",
    "    return new_data\n",
    "data = get_data() \n",
    "print(data)\n",
    "print(createDiscountDict(data))"
   ]
  },
  {
   "cell_type": "markdown",
   "id": "c0461fca-3741-441c-a37b-12b8fd4a9fef",
   "metadata": {},
   "source": [
    "# Writing data to the file\n",
    "- To write data into the file we need to open the file in the write mode\n",
    "- data that we write has to be string\n",
    "- the data in the file will be replaced with the data we are writing\n",
    "- if a file does not exists. it creates the file.\n",
    "- Syntax:\n",
    "```python\n",
    "with open(filename.extension, 'w') as file:\n",
    "    code\n",
    "```"
   ]
  },
  {
   "cell_type": "code",
   "execution_count": 16,
   "id": "646951cd-f374-49ce-bcf1-976a765720a0",
   "metadata": {
    "tags": []
   },
   "outputs": [
    {
     "name": "stdin",
     "output_type": "stream",
     "text": [
      "Enter a message:  how are you?\n"
     ]
    }
   ],
   "source": [
    "message = input('Enter a message: ') \n",
    "try: \n",
    "    with open('sample_write.txt', 'w') as file:\n",
    "        file.write(message)\n",
    "except PermissionError:\n",
    "    print('Unable to write to the file.')"
   ]
  },
  {
   "cell_type": "code",
   "execution_count": 17,
   "id": "9b0efdd0-3eb4-44f0-96bc-23f6cd32fb83",
   "metadata": {
    "tags": []
   },
   "outputs": [],
   "source": [
    "data = ['Max', 'Mike', 'Jake']\n",
    "try: \n",
    "    with open('sample_write2.txt', 'w') as file:\n",
    "        file.write(','.join(data))\n",
    "except PermissionError:\n",
    "    print('Unable to write to the file.')"
   ]
  },
  {
   "cell_type": "code",
   "execution_count": 18,
   "id": "390c10aa-4d09-45dc-a838-cbab4fa25732",
   "metadata": {
    "tags": []
   },
   "outputs": [],
   "source": [
    "data = ['Max', 'Mike', 'Jake']\n",
    "try: \n",
    "    with open('sample_write3.txt', 'w') as file:\n",
    "        for name in data:\n",
    "            file. write(name+'\\n')\n",
    "except PermissionError:\n",
    "    print('Unable to write to the file.')"
   ]
  },
  {
   "cell_type": "code",
   "execution_count": 26,
   "id": "f2343ac5-1df4-48a6-9116-80586faabd9a",
   "metadata": {
    "tags": []
   },
   "outputs": [],
   "source": [
    "def write_data(data, file_name):\n",
    "    try:\n",
    "        with open(file_name, 'w') as file:\n",
    "            headings =  list(data[0].keys())\n",
    "            file.write(', '.join(headings)+ '\\n')\n",
    "            for row in data:\n",
    "                file.write(row['Name']+ ', '+ row['Manufacturer']+ ', '+ row['Color']+ ', '+ str(row['Price']) + '\\n')\n",
    "    except:\n",
    "        print('Unable to write to the fil')\n",
    "\n",
    "data = [\n",
    "    {'Name': 'ipad Pro', 'Manufacturer': 'Apple', 'Color': 'Silver', 'Price': 799}, \n",
    "    {'Name': 'inspiron 5250', 'Manufacturer': 'Dell', 'Color': 'Black', 'Price': 900}, \n",
    "    {'Name': 'Legion', 'Manufacturer': 'Lenovo', 'Color': 'Red', 'Price': 950}, \n",
    "    {'Name': 'AB-219tx', 'Manufacturer': 'Hp', 'Color': 'Silver', 'Price': 500}\n",
    "]\n",
    "\n",
    "write_data(data, 'sample_write4.csv')\n",
    "\n"
   ]
  },
  {
   "cell_type": "code",
   "execution_count": 27,
   "id": "284d9ad3-f8a4-40aa-88bd-54797f332286",
   "metadata": {
    "tags": []
   },
   "outputs": [
    {
     "ename": "PermissionError",
     "evalue": "[Errno 13] Permission denied: 'error_file.txt'",
     "output_type": "error",
     "traceback": [
      "\u001b[1;31m---------------------------------------------------------------------------\u001b[0m",
      "\u001b[1;31mPermissionError\u001b[0m                           Traceback (most recent call last)",
      "Cell \u001b[1;32mIn[27], line 2\u001b[0m\n\u001b[0;32m      1\u001b[0m \u001b[38;5;66;03m# error with writing file\u001b[39;00m\n\u001b[1;32m----> 2\u001b[0m \u001b[38;5;28;01mwith\u001b[39;00m \u001b[38;5;28mopen\u001b[39m(\u001b[38;5;124m'\u001b[39m\u001b[38;5;124merror_file.txt\u001b[39m\u001b[38;5;124m'\u001b[39m, \u001b[38;5;124m'\u001b[39m\u001b[38;5;124mw\u001b[39m\u001b[38;5;124m'\u001b[39m) \u001b[38;5;28;01mas\u001b[39;00m file:\n\u001b[0;32m      3\u001b[0m     data \u001b[38;5;241m=\u001b[39m \u001b[38;5;124m'\u001b[39m\u001b[38;5;124mhi\u001b[39m\u001b[38;5;124m'\u001b[39m\n\u001b[0;32m      4\u001b[0m     file\u001b[38;5;241m.\u001b[39mwrite(data)\n",
      "File \u001b[1;32m~\\anaconda3\\Lib\\site-packages\\IPython\\core\\interactiveshell.py:284\u001b[0m, in \u001b[0;36m_modified_open\u001b[1;34m(file, *args, **kwargs)\u001b[0m\n\u001b[0;32m    277\u001b[0m \u001b[38;5;28;01mif\u001b[39;00m file \u001b[38;5;129;01min\u001b[39;00m {\u001b[38;5;241m0\u001b[39m, \u001b[38;5;241m1\u001b[39m, \u001b[38;5;241m2\u001b[39m}:\n\u001b[0;32m    278\u001b[0m     \u001b[38;5;28;01mraise\u001b[39;00m \u001b[38;5;167;01mValueError\u001b[39;00m(\n\u001b[0;32m    279\u001b[0m         \u001b[38;5;124mf\u001b[39m\u001b[38;5;124m\"\u001b[39m\u001b[38;5;124mIPython won\u001b[39m\u001b[38;5;124m'\u001b[39m\u001b[38;5;124mt let you open fd=\u001b[39m\u001b[38;5;132;01m{\u001b[39;00mfile\u001b[38;5;132;01m}\u001b[39;00m\u001b[38;5;124m by default \u001b[39m\u001b[38;5;124m\"\u001b[39m\n\u001b[0;32m    280\u001b[0m         \u001b[38;5;124m\"\u001b[39m\u001b[38;5;124mas it is likely to crash IPython. If you know what you are doing, \u001b[39m\u001b[38;5;124m\"\u001b[39m\n\u001b[0;32m    281\u001b[0m         \u001b[38;5;124m\"\u001b[39m\u001b[38;5;124myou can use builtins\u001b[39m\u001b[38;5;124m'\u001b[39m\u001b[38;5;124m open.\u001b[39m\u001b[38;5;124m\"\u001b[39m\n\u001b[0;32m    282\u001b[0m     )\n\u001b[1;32m--> 284\u001b[0m \u001b[38;5;28;01mreturn\u001b[39;00m io_open(file, \u001b[38;5;241m*\u001b[39margs, \u001b[38;5;241m*\u001b[39m\u001b[38;5;241m*\u001b[39mkwargs)\n",
      "\u001b[1;31mPermissionError\u001b[0m: [Errno 13] Permission denied: 'error_file.txt'"
     ]
    }
   ],
   "source": [
    "# error with writing file # error file is readonly\n",
    "with open('error_file.txt', 'w') as file:\n",
    "    data = 'hi'\n",
    "    file.write(data)"
   ]
  },
  {
   "cell_type": "code",
   "execution_count": 28,
   "id": "b4cbbd72-7956-4285-9733-fd84ff349bee",
   "metadata": {
    "tags": []
   },
   "outputs": [
    {
     "name": "stdout",
     "output_type": "stream",
     "text": [
      "Unable to write to the fil\n"
     ]
    }
   ],
   "source": [
    "try:\n",
    "    with open('error_file.txt', 'w') as file:\n",
    "        data = 'hi'\n",
    "        file.write(data)\n",
    "except:\n",
    "    print('Unable to write to the fil')\n"
   ]
  },
  {
   "cell_type": "code",
   "execution_count": 3,
   "id": "b98d4aee-981d-4fca-a547-b50cb609a9d5",
   "metadata": {},
   "outputs": [],
   "source": [
    "# wrting multiple lines to the file\n",
    "def write_data(file_name, data):\n",
    "    try:\n",
    "        with open(file_name, 'w') as file:\n",
    "            for value in data:\n",
    "                file.write(str(value)+ '\\n')\n",
    "    except PermissionError:\n",
    "        print('Unable to write to the file.')\n",
    "            \n",
    "sales_data = [5,8,4,7,5]\n",
    "write_data('sales_details.txt', sales_data)"
   ]
  },
  {
   "cell_type": "code",
   "execution_count": 12,
   "id": "83b3c83e-dab9-42b3-a0b8-1912ff65bcef",
   "metadata": {
    "tags": []
   },
   "outputs": [],
   "source": [
    "# writing list of dictionaries into the file.\n",
    "data = [\n",
    "    {'id': 'Ab101', 'book name': 'The Great Gatsby', 'author':'F. Scott Fitzgerald', 'sold copies': 1000},\n",
    "    {'id': 'Ab102', 'book name': 'To Kill a Mockingbird', 'author':'Harper Lee', 'sold copies': 350},\n",
    "    {'id': 'Ab103', 'book name': 'The Book Thief', 'author':'Markus Zusak', 'sold copies': 570},\n",
    "    {'id': 'Ab104', 'book name': 'The Lord of the Rings', 'author':'John Ronald Reuel', 'sold copies': 2000}\n",
    "]\n",
    "def write_data(file_name, data):\n",
    "    try:\n",
    "        with open(file_name,  'w') as file:\n",
    "            headings = list(data[0].keys())\n",
    "            file.write('\\t'.join(headings)+ '\\n')\n",
    "            for book in data:\n",
    "                values = list(book.values())\n",
    "                values[-1] = str(values[-1])\n",
    "                file.write('\\t'.join(values) + '\\n')\n",
    "    except:\n",
    "        print('Unable to write to the file.')\n",
    "write_data('books.tsv', data)"
   ]
  },
  {
   "cell_type": "code",
   "execution_count": 17,
   "id": "dd4b8f12-8c5b-4c67-8352-48a81d240508",
   "metadata": {
    "tags": []
   },
   "outputs": [
    {
     "name": "stdout",
     "output_type": "stream",
     "text": [
      "[{'order_id': '1', 'quantity': '1', 'item_name': 'Chips and Fresh Tomato Salsa', 'choice_description': 'NULL', 'item_price': '$2.39 '}, {'order_id': '1', 'quantity': '1', 'item_name': 'Izze', 'choice_description': '[Clementine]', 'item_price': '$3.39 '}]\n"
     ]
    }
   ],
   "source": [
    "# reading data with tab spaces and multiple values in a single column\n",
    "def read_data(file_name):\n",
    "    try:\n",
    "        with open(file_name, 'r') as file:\n",
    "            headings = file.readline().strip('\\n').split('\\t')\n",
    "            data = file.readlines()\n",
    "        data = [{key:value for key,value in zip(headings, row.strip('\\n').split('\\t'))} for row in data]\n",
    "        \n",
    "        # for row in data:\n",
    "        #     row = row.strip('\\n').split('\\t')\n",
    "        #     temp = {}\n",
    "        #     for key,value in zip(headings, row)\n",
    "        #         temp[key] = value\n",
    "        #     data.append(temp)\n",
    "            \n",
    "        return data\n",
    "    except:\n",
    "        print('Unable to rad from the file.')\n",
    "print(read_data('chipotle.tsv') [:2])\n",
    "            \n",
    "            \n",
    "                            "
   ]
  },
  {
   "cell_type": "markdown",
   "id": "b56409eb-1443-4478-b68e-5fc5f61ac6a4",
   "metadata": {},
   "source": [
    "# Append \n",
    "- We can add new data into the file but we do not replace the original data.\n",
    "- Instead  we add the data after the existing data.\n",
    "- We have to open the file in append mode.\n",
    "- Syntax:\n",
    "```python\n",
    "with open(filename.extension, 'a') as file:\n",
    "    code\n",
    "```"
   ]
  },
  {
   "cell_type": "code",
   "execution_count": 21,
   "id": "0581a438-d09a-42c3-8ad3-42a572c54881",
   "metadata": {
    "tags": []
   },
   "outputs": [
    {
     "name": "stdin",
     "output_type": "stream",
     "text": [
      "Enter a name:  Brandon\n",
      "Enter a name:  Blake\n",
      "Enter a name:  quit\n"
     ]
    }
   ],
   "source": [
    "def write_names(file_name):\n",
    "    try:\n",
    "        data = []\n",
    "        while True:\n",
    "                name = input('Enter a name: ')\n",
    "                if name == 'quit':\n",
    "                    break\n",
    "                data.append(name)\n",
    "        str_value = ', ' +','.join(data) \n",
    "        with open(file_name, 'a') as file:\n",
    "                file.write(str_value)\n",
    "    except:\n",
    "        print('Unable to write to the file')\n",
    "write_names('names.csv')"
   ]
  },
  {
   "cell_type": "code",
   "execution_count": 25,
   "id": "dd7060e2-213d-4a7d-bf0b-f985fb826521",
   "metadata": {
    "tags": []
   },
   "outputs": [
    {
     "name": "stdin",
     "output_type": "stream",
     "text": [
      "Enter name of the product:  Lumia 720\n",
      "Enter the manufacturer:  Nokia\n",
      "Enter the color:  black\n",
      "Enter the price:  hi\n"
     ]
    },
    {
     "name": "stdout",
     "output_type": "stream",
     "text": [
      "you provided something that is not an int \n"
     ]
    }
   ],
   "source": [
    "# Accepting multiple details and inseting dta\n",
    "from IPython.display import clear_output # only works in jupyter and spyder # used to clear the output of the jupyter notebook\n",
    "def append_items(file_name):\n",
    "    data = ''\n",
    "    try:\n",
    "        another_value = True\n",
    "        while another_value:\n",
    "            name = input('Enter name of the product: ')\n",
    "            manufacturer = input('Enter the manufacturer: ')\n",
    "            color = input('Enter the color: ')\n",
    "            price = float(input('Enter the price: '))\n",
    "            data += f'{name}, {manufacturer}, {color}, {price}\\n'\n",
    "            choice = input('Do you want to provide another set of values? (y or n): ')\n",
    "            if choice != 'y':\n",
    "                another_value = False\n",
    "            else:\n",
    "                clear_output()\n",
    "        with open(file_name, 'a') as file:\n",
    "            file.write(data)\n",
    "    except PermissionError as e1:\n",
    "        print('Unable to write to the file')\n",
    "    except ValueError as e2:\n",
    "        print('you provided something that is not an int ')\n",
    "        with open(file_name, 'a') as file:\n",
    "            file.write(data)\n",
    "append_items('sample_write4.csv')\n"
   ]
  },
  {
   "cell_type": "code",
   "execution_count": 28,
   "id": "cecbfd54-a222-40eb-b6b1-485170e20113",
   "metadata": {
    "tags": []
   },
   "outputs": [
    {
     "name": "stdin",
     "output_type": "stream",
     "text": [
      "Enter name of the product:  3 in 1 mic\n",
      "Enter the manufacturer:  Grenaro\n",
      "Enter the color:  Bla\n",
      "Enter the price:  hi\n"
     ]
    },
    {
     "name": "stdout",
     "output_type": "stream",
     "text": [
      "you provided something that is not an int \n"
     ]
    },
    {
     "name": "stdin",
     "output_type": "stream",
     "text": [
      "Enter the price:  20\n",
      "Do you want to provide another set of values? (y or n):  n\n"
     ]
    }
   ],
   "source": [
    "# fixing the issue with the price\n",
    "from IPython.display import clear_output # only works in jupyter and spyder\n",
    "def get_price():\n",
    "    try:\n",
    "        price = float(input('Enter the price: '))\n",
    "    except ValueError as e2:\n",
    "        print('you provided something that is not an int ')\n",
    "        return get_price()\n",
    "    else:\n",
    "        return price\n",
    "def append_items(file_name):\n",
    "    data = ''\n",
    "    try:\n",
    "        another_value = True\n",
    "        while another_value:\n",
    "            name = input('Enter name of the product: ')\n",
    "            manufacturer = input('Enter the manufacturer: ')\n",
    "            color = input('Enter the color: ')\n",
    "            price = get_price()\n",
    "            data += f'{name}, {manufacturer}, {color}, {price}\\n'\n",
    "            choice = input('Do you want to provide another set of values? (y or n): ')\n",
    "            if choice != 'y':\n",
    "                another_value = False\n",
    "            else:\n",
    "                clear_output()\n",
    "        with open(file_name, 'a') as file:\n",
    "            file.write(data)\n",
    "    except PermissionError as e1:\n",
    "        print('Unable to write to the file')\n",
    "    \n",
    "append_items('sample_write4.csv')"
   ]
  },
  {
   "cell_type": "code",
   "execution_count": null,
   "id": "847350db-63f7-4ac8-8b5a-79df4f5c967f",
   "metadata": {},
   "outputs": [],
   "source": []
  }
 ],
 "metadata": {
  "kernelspec": {
   "display_name": "Python 3 (ipykernel)",
   "language": "python",
   "name": "python3"
  },
  "language_info": {
   "codemirror_mode": {
    "name": "ipython",
    "version": 3
   },
   "file_extension": ".py",
   "mimetype": "text/x-python",
   "name": "python",
   "nbconvert_exporter": "python",
   "pygments_lexer": "ipython3",
   "version": "3.11.3"
  }
 },
 "nbformat": 4,
 "nbformat_minor": 5
}
