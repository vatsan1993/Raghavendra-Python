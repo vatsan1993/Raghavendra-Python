{
 "cells": [
  {
   "cell_type": "markdown",
   "id": "60fb225a-6131-4923-b1ca-69864c601d0e",
   "metadata": {
    "tags": []
   },
   "source": [
    "# open function.\n",
    "- we use the open function to work with a file.\n",
    "- A file can be opened in different ways\n",
    "- Syntax:\n",
    "```python\n",
    "file_handle = open('file_path/filename.extention', mode)\n",
    "```\n",
    "- the mode is  used to specify to which operation we are opening the file.\n",
    "- The following modes are available\n",
    "    - r - read\n",
    "    - w - write\n",
    "    - a - append\n",
    "    - rb - read binary (used for images, audio, video)\n",
    "    - wb - write binary\n",
    "    - ab - append binart\n",
    "    - t - text\n",
    "    <p>* - update(both read and write)</p>\n",
    "- file_handle will be an object that we can make use of in out program.\n",
    "- It contains lot of details related to the files and it gives us access to them using different methods.\n",
    "<p style=\"color:red\"> The open function just opens the file does not read it</p>"
   ]
  },
  {
   "cell_type": "markdown",
   "id": "55890c47-d0aa-466a-825f-bbf75dbf1b17",
   "metadata": {
    "tags": []
   },
   "source": [
    "# Close Method.\n",
    "- When we open a file, we need to make sure we close the file.\n",
    "- If we dont the file will be still in the memory and the file operation might not be performed in correct ways.\n",
    "- Syntax:\n",
    "```python\n",
    "file_handle.close()\n",
    "```"
   ]
  },
  {
   "cell_type": "code",
   "execution_count": 3,
   "id": "91e30ed8-1274-468a-9140-63bfec38665a",
   "metadata": {
    "tags": []
   },
   "outputs": [],
   "source": [
    "file_name = 'sample1.txt'\n",
    "file = open(file_name, 'r')\n",
    "file.close()"
   ]
  },
  {
   "cell_type": "markdown",
   "id": "98c44f15-c91e-468e-b0d7-fbd472bd2e57",
   "metadata": {},
   "source": [
    "# Reading content from  the file\n",
    "- the file handle has 3 methods that we can make use of.\n",
    "    1. read - reads all content character by character. It can read specific number of characters aswell.\n",
    "    2. readline - reads a single line. we can also specify the number of characters we want to read \n",
    "    3. readlines - reads all lines and puts them in a list.\n",
    "- We have a cursor that represents which line we have read. \n",
    "- Syntax:\n",
    "```python\n",
    "data_variable = file_handle.method_name()\n",
    "```\n",
    "- the data taken in will be in a string format."
   ]
  },
  {
   "cell_type": "markdown",
   "id": "3ed31fc2-f59e-40b2-be5d-c3d602df24ff",
   "metadata": {},
   "source": [
    "- There is a 4th way available but  it doesnt use any method. WE use a for loop and the iterable for the for loop will be the file.\n",
    "- The loop variable will get one line at a time.\n",
    "- Syntax:\n",
    "```python\n",
    "for line in file:\n",
    "    code\n",
    "```"
   ]
  },
  {
   "cell_type": "code",
   "execution_count": 5,
   "id": "c32decaa-5cf6-4aee-a084-2b9462943831",
   "metadata": {
    "tags": []
   },
   "outputs": [
    {
     "name": "stdout",
     "output_type": "stream",
     "text": [
      "This is the data in the file.\n",
      "\n"
     ]
    }
   ],
   "source": [
    "# read data from file.txt\n",
    "file_name = 'file1.txt'\n",
    "file = open(file_name, 'r')\n",
    "data = file.read()\n",
    "print(data)\n",
    "file.close()"
   ]
  },
  {
   "cell_type": "code",
   "execution_count": 8,
   "id": "8a2d7faf-1621-43cc-aaf8-047ff541311a",
   "metadata": {
    "tags": []
   },
   "outputs": [
    {
     "name": "stdin",
     "output_type": "stream",
     "text": [
      "Enter the file name file2\n"
     ]
    },
    {
     "name": "stdout",
     "output_type": "stream",
     "text": [
      "This is first line\n",
      "This is second line\n",
      "This is last line\n"
     ]
    }
   ],
   "source": [
    "# reading data with multiple lines.\n",
    "file_name = input('Enter the file name')\n",
    "if '.txt' not in file_name:\n",
    "    file_name = file_name + '.txt'\n",
    "file = open(file_name, 'r')\n",
    "data = file.read() # data is 1 string value containing multiple lines of text.\n",
    "print(data)\n",
    "file.close()"
   ]
  },
  {
   "cell_type": "code",
   "execution_count": 9,
   "id": "d7b71d71-1af8-465f-9531-1ed68297f3c2",
   "metadata": {
    "tags": []
   },
   "outputs": [
    {
     "name": "stdout",
     "output_type": "stream",
     "text": [
      "This is th\n"
     ]
    }
   ],
   "source": [
    "# reading a part of the file.\n",
    "file_name = 'file1.txt'\n",
    "file = open(file_name, 'r')\n",
    "data = file.read(10)\n",
    "print(data)\n",
    "file.close()"
   ]
  },
  {
   "cell_type": "code",
   "execution_count": 12,
   "id": "b99e8e19-5ab9-4108-849c-6b3b7d5ebe6c",
   "metadata": {
    "tags": []
   },
   "outputs": [
    {
     "name": "stdout",
     "output_type": "stream",
     "text": [
      "This is first line\n",
      "\n",
      "This is second line\n",
      "\n"
     ]
    }
   ],
   "source": [
    "# readline\n",
    "file_name = 'file2.txt'\n",
    "file = open(file_name, 'r')\n",
    "first_line = file.readline()\n",
    "second_line = file.readline()\n",
    "print(first_line) \n",
    "# we get an extra space when displaying data because each line has a \\n in the text file\n",
    "# print function also has a \\n automatically printing.\n",
    "print(second_line)\n",
    "file.close()"
   ]
  },
  {
   "cell_type": "code",
   "execution_count": 14,
   "id": "43bb1960-a3c4-49f1-9de4-d7aad130e1cc",
   "metadata": {
    "tags": []
   },
   "outputs": [
    {
     "name": "stdout",
     "output_type": "stream",
     "text": [
      "This is fi\n",
      "rst line\n",
      "\n"
     ]
    }
   ],
   "source": [
    "# reading certain number of characters.\n",
    "file_name = 'file2.txt'\n",
    "file = open(file_name, 'r')\n",
    "first_line = file.readline(10)\n",
    "second_line = file.readline(10)\n",
    "print(first_line) \n",
    "print(second_line)\n",
    "file.close()"
   ]
  },
  {
   "cell_type": "code",
   "execution_count": 15,
   "id": "993517dd-ac0d-4ba6-83d3-e17f8f43cdb8",
   "metadata": {
    "tags": []
   },
   "outputs": [
    {
     "name": "stdout",
     "output_type": "stream",
     "text": [
      "['This is the data in the file.\\n']\n",
      "['This is first line\\n', 'This is second line\\n', 'This is last line']\n"
     ]
    }
   ],
   "source": [
    "# readlines method\n",
    "def read_file(file_name):\n",
    "    file = open(file_name, 'r')\n",
    "    data = file.readlines()\n",
    "    file.close()\n",
    "    return data\n",
    "\n",
    "data = read_file('file1.txt')\n",
    "print(data)\n",
    "data = read_file('file2.txt')\n",
    "print(data)"
   ]
  },
  {
   "cell_type": "code",
   "execution_count": 3,
   "id": "7879c8b0-5504-40ab-a970-dcb8bd72e745",
   "metadata": {},
   "outputs": [
    {
     "name": "stdout",
     "output_type": "stream",
     "text": [
      "This is the data in the file.\n",
      "\n",
      "This is first line\n",
      "\n",
      "This is second line\n",
      "\n",
      "This is last line\n"
     ]
    }
   ],
   "source": [
    "# using for loops directly on the file\n",
    "def display_text(file_name):\n",
    "    file = open(file_name, 'r')\n",
    "    for line in file:\n",
    "        print(line)\n",
    "    file.close()\n",
    "\n",
    "display_text('file1.txt')\n",
    "display_text('file2.txt')"
   ]
  },
  {
   "cell_type": "markdown",
   "id": "2de28451-af27-496c-a717-96f172432939",
   "metadata": {
    "tags": []
   },
   "source": [
    "# Errors with files\n",
    "- WE get error when we try to open a file that does not exist.\n",
    "- WE might get an error if we dont have permission for reading or writing the file.\n",
    "- FileExistsError\n",
    "- FileNotExistsError\n",
    "- IsADirectoryError\n",
    "- NotADirectoryError\n",
    "- PermissionError"
   ]
  },
  {
   "cell_type": "code",
   "execution_count": 5,
   "id": "6461cac1-a6c9-4e35-acb6-d3a78a391c36",
   "metadata": {
    "tags": []
   },
   "outputs": [
    {
     "ename": "FileNotFoundError",
     "evalue": "[Errno 2] No such file or directory: 'not_a_file.txt'",
     "output_type": "error",
     "traceback": [
      "\u001b[1;31m---------------------------------------------------------------------------\u001b[0m",
      "\u001b[1;31mFileNotFoundError\u001b[0m                         Traceback (most recent call last)",
      "Cell \u001b[1;32mIn[5], line 2\u001b[0m\n\u001b[0;32m      1\u001b[0m file_name \u001b[38;5;241m=\u001b[39m \u001b[38;5;124m'\u001b[39m\u001b[38;5;124mnot_a_file.txt\u001b[39m\u001b[38;5;124m'\u001b[39m\n\u001b[1;32m----> 2\u001b[0m file \u001b[38;5;241m=\u001b[39m \u001b[38;5;28mopen\u001b[39m(file_name, \u001b[38;5;124m'\u001b[39m\u001b[38;5;124mr\u001b[39m\u001b[38;5;124m'\u001b[39m)\n\u001b[0;32m      3\u001b[0m file\u001b[38;5;241m.\u001b[39mclose()\n",
      "File \u001b[1;32m~\\anaconda3\\Lib\\site-packages\\IPython\\core\\interactiveshell.py:284\u001b[0m, in \u001b[0;36m_modified_open\u001b[1;34m(file, *args, **kwargs)\u001b[0m\n\u001b[0;32m    277\u001b[0m \u001b[38;5;28;01mif\u001b[39;00m file \u001b[38;5;129;01min\u001b[39;00m {\u001b[38;5;241m0\u001b[39m, \u001b[38;5;241m1\u001b[39m, \u001b[38;5;241m2\u001b[39m}:\n\u001b[0;32m    278\u001b[0m     \u001b[38;5;28;01mraise\u001b[39;00m \u001b[38;5;167;01mValueError\u001b[39;00m(\n\u001b[0;32m    279\u001b[0m         \u001b[38;5;124mf\u001b[39m\u001b[38;5;124m\"\u001b[39m\u001b[38;5;124mIPython won\u001b[39m\u001b[38;5;124m'\u001b[39m\u001b[38;5;124mt let you open fd=\u001b[39m\u001b[38;5;132;01m{\u001b[39;00mfile\u001b[38;5;132;01m}\u001b[39;00m\u001b[38;5;124m by default \u001b[39m\u001b[38;5;124m\"\u001b[39m\n\u001b[0;32m    280\u001b[0m         \u001b[38;5;124m\"\u001b[39m\u001b[38;5;124mas it is likely to crash IPython. If you know what you are doing, \u001b[39m\u001b[38;5;124m\"\u001b[39m\n\u001b[0;32m    281\u001b[0m         \u001b[38;5;124m\"\u001b[39m\u001b[38;5;124myou can use builtins\u001b[39m\u001b[38;5;124m'\u001b[39m\u001b[38;5;124m open.\u001b[39m\u001b[38;5;124m\"\u001b[39m\n\u001b[0;32m    282\u001b[0m     )\n\u001b[1;32m--> 284\u001b[0m \u001b[38;5;28;01mreturn\u001b[39;00m io_open(file, \u001b[38;5;241m*\u001b[39margs, \u001b[38;5;241m*\u001b[39m\u001b[38;5;241m*\u001b[39mkwargs)\n",
      "\u001b[1;31mFileNotFoundError\u001b[0m: [Errno 2] No such file or directory: 'not_a_file.txt'"
     ]
    }
   ],
   "source": [
    "file_name = 'not_a_file.txt'\n",
    "file = open(file_name, 'r')\n",
    "file.close()"
   ]
  },
  {
   "cell_type": "code",
   "execution_count": 6,
   "id": "3baba8c9-9e61-4d79-992b-d3979bcb257e",
   "metadata": {
    "tags": []
   },
   "outputs": [
    {
     "name": "stdout",
     "output_type": "stream",
     "text": [
      "The file does not exist\n"
     ]
    }
   ],
   "source": [
    "# try except with file related errors\n",
    "try:\n",
    "    file_name = 'not_a_file.txt'\n",
    "    file = open(file_name, 'r')\n",
    "    file.close()\n",
    "except FileNotFoundError as e:\n",
    "    print('The file does not exist')"
   ]
  },
  {
   "cell_type": "markdown",
   "id": "578968f7-3b44-4ae2-be6f-d85b2f3360b1",
   "metadata": {
    "tags": []
   },
   "source": [
    "# Context Manager\n",
    "- Helps to manage resources easily.\n",
    "- We dont need to close the file. Its automatically closes.\n",
    "- As soon as we exit the context manager, file automatically closes\n",
    "```python\n",
    "with open('filename.extension',mode ) as file_object:\n",
    "    code\n",
    "```\n"
   ]
  },
  {
   "cell_type": "code",
   "execution_count": 9,
   "id": "8d2135fa-2abd-4ff7-89a3-69c81944f83a",
   "metadata": {
    "tags": []
   },
   "outputs": [
    {
     "name": "stdout",
     "output_type": "stream",
     "text": [
      "file doesnt exists\n"
     ]
    }
   ],
   "source": [
    "try:\n",
    "    file_name = 'not_a_file.txt'\n",
    "    with open(file_name, 'r') as file:\n",
    "        print(file.read())\n",
    "except  FileNotFoundError as e:\n",
    "    print('file doesnt exists')"
   ]
  },
  {
   "cell_type": "code",
   "execution_count": 15,
   "id": "f3849a80-8be8-4bf4-843e-b19dc19e94d8",
   "metadata": {
    "tags": []
   },
   "outputs": [
    {
     "name": "stdout",
     "output_type": "stream",
     "text": [
      "Mike, Max, Jimmy, Joe\n",
      "['Mike', 'Max', 'Jimmy', 'Joe']\n",
      "Mike\n"
     ]
    }
   ],
   "source": [
    "# Using the strip and split on a csv file\n",
    "def get_names(file_name = 'names.csv'):\n",
    "    try:\n",
    "        with open(file_name, 'r') as file:\n",
    "            line = file.readline()\n",
    "        # print(line) # at this point we have a \\n at the end of the file.\n",
    "        # we use the strip method to remove it.\n",
    "        line = line.strip()\n",
    "        print(line)\n",
    "        # seperating names\n",
    "        names = line.split(', ')\n",
    "        print(names)\n",
    "        print(names[0])\n",
    "    except  FileNotFoundError as e:\n",
    "        print('file doesnt exists')\n",
    "get_names()"
   ]
  },
  {
   "cell_type": "code",
   "execution_count": 16,
   "id": "cd72d4d3-2b15-4a3c-8a69-012c6cf8d1c7",
   "metadata": {
    "tags": []
   },
   "outputs": [
    {
     "name": "stdout",
     "output_type": "stream",
     "text": [
      "[['Max', 20, 99.9, 'A Grade'], ['Jimmy', 19, 73.4, 'B Grade'], ['Jean', 21, 50.3, 'D Grade'], ['Ali', 20, 60.12, 'C Grade']]\n"
     ]
    }
   ],
   "source": [
    "# Reading a csv with multiple lines\n",
    "def getData(file_name = 'students.csv'):\n",
    "    try:\n",
    "        data = []\n",
    "        with open(file_name, 'r') as file:\n",
    "            for line in file:\n",
    "                line = line. strip('\\n') # removes \\n at the end of the line\n",
    "                row = line.split(', ') # splits a line into multiple values\n",
    "                row[1] = int(row[1])\n",
    "                row[2] = float(row[2])\n",
    "                data.append(row)\n",
    "        return data\n",
    "    except  FileNotFoundError as e:\n",
    "        print('file doesnt exists')\n",
    "print(getData())"
   ]
  },
  {
   "cell_type": "code",
   "execution_count": null,
   "id": "2583372f-875d-4b31-ac1f-8103158e3889",
   "metadata": {},
   "outputs": [],
   "source": []
  }
 ],
 "metadata": {
  "kernelspec": {
   "display_name": "Python 3 (ipykernel)",
   "language": "python",
   "name": "python3"
  },
  "language_info": {
   "codemirror_mode": {
    "name": "ipython",
    "version": 3
   },
   "file_extension": ".py",
   "mimetype": "text/x-python",
   "name": "python",
   "nbconvert_exporter": "python",
   "pygments_lexer": "ipython3",
   "version": "3.11.3"
  }
 },
 "nbformat": 4,
 "nbformat_minor": 5
}
