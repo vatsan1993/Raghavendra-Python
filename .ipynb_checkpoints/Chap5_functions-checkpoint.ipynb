{
 "cells": [
  {
   "cell_type": "code",
   "execution_count": null,
   "metadata": {},
   "outputs": [],
   "source": [
    "- print()\n",
    "- input()\n",
    "- int(), float(), bool(), str(), list(), dict(), set(), tuple()\n",
    "- type()\n",
    "- len(), sum(), min(), max(), sorted()\n",
    "- abs(), round(), chr(), ord()"
   ]
  },
  {
   "cell_type": "markdown",
   "metadata": {},
   "source": [
    "# function:\n",
    "- block of code with a name given to it.\n",
    "- We can use a function any number of times using its name.\n",
    "- provides modularity.\n",
    "- Types of functions:\n",
    "    1. Builtin functions - they come from a python file called builtins. We dont sepcify what or how the function works. We make use of the function\n",
    "    2. User defined function - use defines what and how the function works. Then we can make use of the function.\n",
    "    "
   ]
  },
  {
   "cell_type": "markdown",
   "metadata": {},
   "source": [
    "# User defined function \n",
    "- We have two tasks that we need to do.\n",
    "    1. Define a function.\n",
    "    2. call/invoke a function"
   ]
  },
  {
   "cell_type": "markdown",
   "metadata": {},
   "source": [
    "# Define a function\n",
    "- we start with a def keyword which means define\n",
    "- then we have a custom function name then a set of parathesis.\n",
    "- Syntax:\n",
    "```python\n",
    "def functionName():\n",
    "    code1\n",
    "    code2\n",
    "    ...\n",
    "```"
   ]
  },
  {
   "cell_type": "code",
   "execution_count": 4,
   "metadata": {},
   "outputs": [],
   "source": [
    "def wholeSquare():\n",
    "    a = 10\n",
    "    b = 20\n",
    "    result = (a + b) ** 2\n",
    "    print(result)\n"
   ]
  },
  {
   "cell_type": "markdown",
   "metadata": {},
   "source": [
    "# Function Call / Invocation:\n",
    "- defining a function does not do anything on its own.\n",
    "- we need to call/invoke the function\n",
    "- We already know how to do this as we used a builting functions\n",
    "- Syntax:\n",
    "```python\n",
    "functionName()\n",
    "```"
   ]
  },
  {
   "cell_type": "code",
   "execution_count": 5,
   "metadata": {},
   "outputs": [
    {
     "name": "stdout",
     "output_type": "stream",
     "text": [
      "900\n",
      "900\n"
     ]
    }
   ],
   "source": [
    "wholeSquare()\n",
    "wholeSquare()"
   ]
  },
  {
   "cell_type": "markdown",
   "metadata": {},
   "source": [
    "# Parameters\n",
    "- inputs to a function.\n",
    "- The parameters helps to make the function a bit more dynamic.\n",
    "- Instead of working with only a fixed value, you can provide the different values and it works accordingly.\n",
    "- Function definition Syntax:\n",
    "```python\n",
    "def functionName(param1, param2, ....):\n",
    "    code1\n",
    "    code2\n",
    "    ..\n",
    "```\n",
    "- Function Call Syntax:\n",
    "```python\n",
    "functionName(val1, val2, .....)\n",
    "```"
   ]
  },
  {
   "cell_type": "code",
   "execution_count": 7,
   "metadata": {},
   "outputs": [
    {
     "name": "stdout",
     "output_type": "stream",
     "text": [
      "900\n",
      "144\n"
     ]
    }
   ],
   "source": [
    "def wholeSquare(a, b):\n",
    "    result = (a + b) ** 2\n",
    "    print(result)\n",
    "\n",
    "wholeSquare(10, 20)\n",
    "wholeSquare(5, 7)"
   ]
  },
  {
   "cell_type": "code",
   "execution_count": 13,
   "metadata": {},
   "outputs": [
    {
     "name": "stdout",
     "output_type": "stream",
     "text": [
      "40.0 C\n",
      "104.0 F\n"
     ]
    }
   ],
   "source": [
    "# temperature converter\n",
    "def convertTemperature(temp, units):\n",
    "    if units == 'c':\n",
    "        # convert to F.\n",
    "        newTemp =(temp * 9/5) + 32\n",
    "        print(f'{newTemp} F')\n",
    "    else:\n",
    "        # convert to C.\n",
    "        newTemp =  (temp - 32)* 5/9\n",
    "        print(f'{newTemp} C')\n",
    "convertTemperature(104 ,'f')\n",
    "convertTemperature(40 ,'c')\n"
   ]
  },
  {
   "cell_type": "markdown",
   "metadata": {},
   "source": [
    "# scope and lifetime:\n",
    "- Scope : visibility of a variable in a program\n",
    "    - global scope - a variable created in python file directly has a global scope\n",
    "        - a globally scoped variable can be used throughout the program\n",
    "    - function scope - a variable or a parameter inside a function has a function scope\n",
    "        - a variable created inside a function only can be used inside the function\n",
    "        - at the end of a function, the variables inside the function are destoyed.\n",
    "- lifetime: when variable is alive and when it is destroyed\n"
   ]
  },
  {
   "cell_type": "code",
   "execution_count": 16,
   "metadata": {},
   "outputs": [
    {
     "name": "stdout",
     "output_type": "stream",
     "text": [
      "10\n",
      "10\n",
      "40\n",
      "20\n"
     ]
    },
    {
     "ename": "NameError",
     "evalue": "name 'b' is not defined",
     "output_type": "error",
     "traceback": [
      "\u001b[1;31m---------------------------------------------------------------------------\u001b[0m",
      "\u001b[1;31mNameError\u001b[0m                                 Traceback (most recent call last)",
      "\u001b[1;32m<ipython-input-16-85b424b1d74e>\u001b[0m in \u001b[0;36m<module>\u001b[1;34m\u001b[0m\n\u001b[0;32m      7\u001b[0m \u001b[0mprint\u001b[0m\u001b[1;33m(\u001b[0m\u001b[0ma\u001b[0m\u001b[1;33m)\u001b[0m \u001b[1;31m# no problem\u001b[0m\u001b[1;33m\u001b[0m\u001b[1;33m\u001b[0m\u001b[0m\n\u001b[0;32m      8\u001b[0m \u001b[0msampleFunction\u001b[0m\u001b[1;33m(\u001b[0m\u001b[1;36m40\u001b[0m\u001b[1;33m)\u001b[0m\u001b[1;33m\u001b[0m\u001b[1;33m\u001b[0m\u001b[0m\n\u001b[1;32m----> 9\u001b[1;33m \u001b[0mprint\u001b[0m\u001b[1;33m(\u001b[0m\u001b[0mb\u001b[0m\u001b[1;33m)\u001b[0m \u001b[1;31m# error\u001b[0m\u001b[1;33m\u001b[0m\u001b[1;33m\u001b[0m\u001b[0m\n\u001b[0m\u001b[0;32m     10\u001b[0m \u001b[0mprint\u001b[0m\u001b[1;33m(\u001b[0m\u001b[0mc\u001b[0m\u001b[1;33m)\u001b[0m \u001b[1;31m# error\u001b[0m\u001b[1;33m\u001b[0m\u001b[1;33m\u001b[0m\u001b[0m\n",
      "\u001b[1;31mNameError\u001b[0m: name 'b' is not defined"
     ]
    }
   ],
   "source": [
    "a = 10  # global variable\n",
    "def sampleFunction(b):\n",
    "    c = 20 # b and c are local\n",
    "    print(a) # no proble\n",
    "    print(b) # no problem\n",
    "    print(c) # no problem\n",
    "print(a) # no problem\n",
    "sampleFunction(40)\n",
    "print(b) # error\n",
    "print(c) # error"
   ]
  },
  {
   "cell_type": "code",
   "execution_count": 17,
   "metadata": {},
   "outputs": [
    {
     "name": "stdout",
     "output_type": "stream",
     "text": [
      "The value of a before calling function 100\n",
      "The value of a inside the function 1\n",
      "The value of the a after calling the function 100\n"
     ]
    }
   ],
   "source": [
    "# tring to change global variable value inside a function\n",
    "a = 100 # global variable\n",
    "print(f'The value of a before calling function {a}')\n",
    "def sampleFunction2 ():\n",
    "    a = 1 \n",
    "    # we tried to change a inside the function.\n",
    "    # but it created a function variable called 'a'.\n",
    "    # the global 'a' and the function 'a' are not same\n",
    "    print(f'The value of a inside the function {a}')\n",
    "sampleFunction2()\n",
    "print(f'The value of the a after calling the function {a}')"
   ]
  },
  {
   "cell_type": "code",
   "execution_count": 18,
   "metadata": {},
   "outputs": [
    {
     "name": "stdout",
     "output_type": "stream",
     "text": [
      "The value of a before calling function 100\n",
      "The value of a inside the function 1\n",
      "The value of the a after calling the function 1\n"
     ]
    }
   ],
   "source": [
    "# using global keyword to edit global variable inside a function\n",
    "a = 100 # global variable\n",
    "print(f'The value of a before calling function {a}')\n",
    "def sampleFunction3 ():\n",
    "    global a # a will not be created locally. But uses the global a.\n",
    "    a = 1 \n",
    "    print(f'The value of a inside the function {a}')\n",
    "sampleFunction3()\n",
    "print(f'The value of the a after calling the function {a}')"
   ]
  },
  {
   "cell_type": "markdown",
   "metadata": {},
   "source": [
    "# call by values and call by reference\n",
    "- when a parameter of a function is a derived type, it works differently compared to premitive types\n",
    "- call by value means calling a function by sending a premitive types of data.\n",
    "- changing the value inside the function will not change the original value of the variable.\n",
    "- Call by reference happens when we pass in a object type like lists, dictionaries and objects.\n",
    "- all these will have memory references. (memory adrresses in heap.) Check chap2 copy method image\n",
    "- when we pass a object type data into a function as a parameter, the list is not copied. But the reference is copied.\n",
    "- changing the parameter inside a function will change the original data.\n",
    "- Create a copy of the list inside the function and edit the copy. not the parameter directly."
   ]
  },
  {
   "cell_type": "code",
   "execution_count": 20,
   "metadata": {},
   "outputs": [
    {
     "name": "stdout",
     "output_type": "stream",
     "text": [
      "The value of a before calling the function 10\n",
      "The value of a inside the function before change 10\n",
      "The value of a inside the function after change 100\n",
      "The value of a after calling the function 10\n"
     ]
    }
   ],
   "source": [
    "# changing premitive values inside a function\n",
    "def changeValue(a):  # parameter\n",
    "    print(f'The value of a inside the function before change {a}')\n",
    "    a = 100 # chainging a value to 100\n",
    "    print(f'The value of a inside the function after change {a}')\n",
    "a = 10\n",
    "print(f'The value of a before calling the function {a}')\n",
    "changeValue(a) # argument\n",
    "print(f'The value of a after calling the function {a}')"
   ]
  },
  {
   "cell_type": "code",
   "execution_count": 22,
   "metadata": {},
   "outputs": [
    {
     "name": "stdout",
     "output_type": "stream",
     "text": [
      "before calling function [1, 2, 3]\n",
      "The data inside the function before change [1, 2, 3]\n",
      "The data inside the function after change [100, 2, 3]\n",
      "after calling function [100, 2, 3]\n"
     ]
    }
   ],
   "source": [
    "def changeList(data):\n",
    "    print(f'The data inside the function before change {data}')\n",
    "    data[0] = 100\n",
    "    print(f'The data inside the function after change {data}')\n",
    "l1 = [1,2,3]\n",
    "print('before calling function',l1)\n",
    "changeList(l1)\n",
    "print('after calling function',l1)"
   ]
  },
  {
   "cell_type": "code",
   "execution_count": null,
   "metadata": {},
   "outputs": [],
   "source": [
    "debug this problem"
   ]
  },
  {
   "cell_type": "code",
   "execution_count": null,
   "metadata": {},
   "outputs": [],
   "source": [
    "return value"
   ]
  },
  {
   "cell_type": "code",
   "execution_count": null,
   "metadata": {},
   "outputs": [],
   "source": [
    "variable length arguments"
   ]
  },
  {
   "cell_type": "code",
   "execution_count": null,
   "metadata": {},
   "outputs": [],
   "source": [
    "kwargs"
   ]
  },
  {
   "cell_type": "code",
   "execution_count": null,
   "metadata": {},
   "outputs": [],
   "source": [
    "positional , variable length, keword args"
   ]
  },
  {
   "cell_type": "code",
   "execution_count": null,
   "metadata": {},
   "outputs": [],
   "source": [
    "recursion"
   ]
  },
  {
   "cell_type": "code",
   "execution_count": null,
   "metadata": {},
   "outputs": [],
   "source": [
    "map, filter reduce"
   ]
  }
 ],
 "metadata": {
  "kernelspec": {
   "display_name": "Python 3",
   "language": "python",
   "name": "python3"
  },
  "language_info": {
   "codemirror_mode": {
    "name": "ipython",
    "version": 3
   },
   "file_extension": ".py",
   "mimetype": "text/x-python",
   "name": "python",
   "nbconvert_exporter": "python",
   "pygments_lexer": "ipython3",
   "version": "3.8.5"
  }
 },
 "nbformat": 4,
 "nbformat_minor": 4
}
