{
 "cells": [
  {
   "cell_type": "markdown",
   "metadata": {},
   "source": [
    "# Collections\n",
    "- A collection is a group of data.\n",
    "- Types oc collections\n",
    "    1. List - []\n",
    "    2. Tuple - ()\n",
    "    3. Set - {}\n",
    "    4. Dictionary - {}"
   ]
  },
  {
   "cell_type": "markdown",
   "metadata": {},
   "source": [
    "# List\n",
    "- Group of data\n",
    "- we can store related values together.\n",
    "- they dont need to be same type of data\n",
    "- We can store int, float, string, boolean, ....\n",
    "<p style='color>:red'>NEVER IS 'list' AS VARIABLE NAME. IT HAS A SPECIFIC PURPOSE WHICH WILL BE CHANGED IF YOU USE IT</p>\n",
    "- We use []\n",
    "- Lists that we make use of in day to day life:\n",
    "    1. shopping list\n",
    "    2. List of friend to invite to party\n",
    "    3. todo list\n",
    "- Real list vs programming list\n",
    "- groceryList:\n",
    "    1. apples\n",
    "    2. bananas\n",
    "    3. oranges\n",
    "- programming list\n",
    "    0. apples\n",
    "    1. bananas\n",
    "    2. oranges\n",
    "- 0, 1 and 2 are indexes for our values \n"
   ]
  },
  {
   "cell_type": "markdown",
   "metadata": {},
   "source": [
    "# List Creation\n",
    "- Syntax:\n",
    "```python\n",
    "listName = [val1, val2,val3,.....]\n",
    "```"
   ]
  },
  {
   "cell_type": "code",
   "execution_count": 5,
   "metadata": {},
   "outputs": [
    {
     "name": "stdout",
     "output_type": "stream",
     "text": [
      "['apples', 'bananas', 'oranges']\n"
     ]
    }
   ],
   "source": [
    "groceryList = ['apples', 'bananas', 'oranges']\n",
    "print(groceryList)"
   ]
  },
  {
   "cell_type": "markdown",
   "metadata": {},
   "source": [
    "# Index\n",
    "- location for each value in the list\n",
    "- it starts from 0 and ends with n-1 where n is the length of then\n",
    "- We also have negative indexes which starts from -n and ends with -1\n",
    "<table>\n",
    "    <tr>\n",
    "        <td>Values---></td>\n",
    "        <td>apples</td>\n",
    "        <td>oranges</td>\n",
    "        <td>bananas</td>\n",
    "    </tr>\n",
    "    <tr>\n",
    "        <td>Index---></td>\n",
    "        <td>0</td>\n",
    "        <td>1</td>\n",
    "        <td>2</td>\n",
    "    </tr>\n",
    "    <tr>\n",
    "        <td>Negative Indexs---></td>\n",
    "        <td>-3</td>\n",
    "        <td>-2</td>\n",
    "        <td>-1</td>\n",
    "    </tr>\n",
    "</table>\n"
   ]
  },
  {
   "cell_type": "markdown",
   "metadata": {},
   "source": [
    "# Operation using index\n",
    "\n",
    "1. extract a value from the list\n",
    "2. Changing a value in the list\n",
    "3. slicing\n",
    "4. copying the list\n",
    "5. slicing with step\n",
    "6. reversing a list\n",
    "7. Changing multiple values in the list\n",
    "8. adding new values into the list\n",
    "9. removing a value from the list"
   ]
  },
  {
   "cell_type": "markdown",
   "metadata": {},
   "source": [
    "# 1. extract a value from the list\n",
    "- we cannot perform a lot of operations directly on the list\n",
    "- we need to extract the values from the list and then work with it,\n",
    "- Syntax:\n",
    "```python\n",
    "variableName = listName[index]  # use this # better\n",
    "print(listName[index])# try not to use this\n",
    "```"
   ]
  },
  {
   "cell_type": "code",
   "execution_count": 9,
   "metadata": {},
   "outputs": [
    {
     "name": "stdout",
     "output_type": "stream",
     "text": [
      "apples\n"
     ]
    }
   ],
   "source": [
    "print(groceryList[0])"
   ]
  },
  {
   "cell_type": "code",
   "execution_count": 10,
   "metadata": {},
   "outputs": [
    {
     "name": "stdout",
     "output_type": "stream",
     "text": [
      "apples is my favorite fruit\n",
      "An apples a day keeps doctor away\n"
     ]
    }
   ],
   "source": [
    "favFruit = groceryList[0]\n",
    "print(f'{favFruit} is my favorite fruit')\n",
    "print(f'An {favFruit} a day keeps doctor away')"
   ]
  },
  {
   "cell_type": "code",
   "execution_count": 12,
   "metadata": {},
   "outputs": [
    {
     "name": "stdout",
     "output_type": "stream",
     "text": [
      "0.Apples\n",
      "1.Banana\n",
      "2.Oranges\n",
      "Enter the item index you want0\n",
      "apples added to your shopping cart\n"
     ]
    }
   ],
   "source": [
    "print('0.Apples')\n",
    "print('1.Banana')\n",
    "print('2.Oranges')\n",
    "index = int(input('Enter the item index you want'))\n",
    "print(f'{groceryList[index]} added to your shopping cart')"
   ]
  },
  {
   "cell_type": "code",
   "execution_count": null,
   "metadata": {},
   "outputs": [],
   "source": [
    "# neative indexing"
   ]
  },
  {
   "cell_type": "code",
   "execution_count": null,
   "metadata": {},
   "outputs": [],
   "source": [
    "# Errors"
   ]
  }
 ],
 "metadata": {
  "kernelspec": {
   "display_name": "Python 3",
   "language": "python",
   "name": "python3"
  },
  "language_info": {
   "codemirror_mode": {
    "name": "ipython",
    "version": 3
   },
   "file_extension": ".py",
   "mimetype": "text/x-python",
   "name": "python",
   "nbconvert_exporter": "python",
   "pygments_lexer": "ipython3",
   "version": "3.8.5"
  }
 },
 "nbformat": 4,
 "nbformat_minor": 4
}
