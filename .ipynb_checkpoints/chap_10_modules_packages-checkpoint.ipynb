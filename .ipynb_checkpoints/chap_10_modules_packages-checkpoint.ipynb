{
 "cells": [
  {
   "cell_type": "markdown",
   "id": "1590761d-d0b7-473b-a2ca-8e8429172773",
   "metadata": {
    "tags": []
   },
   "source": [
    "# Modules and Packages\n",
    "- Module: a python file that has code that we can make use of.\n",
    "- WE can split our code into multiple python files so we can organize out project.\n",
    "- Also python comes with a lot of prexisting modules (like math, random) that we can make use of.\n",
    "- package : a folder that contains multiple related modules.\n",
    "- If a project has a lot of files we can organize them into packages.\n",
    "- modules and packages comes with a lot of extra stuff which we can use to learn about the module or package.\n",
    "- A package will have a special python file(init file) which will have frequently used component which we can directly use without going to a specific module in the package\n",
    "- the component could be a variable or a function or a class."
   ]
  },
  {
   "cell_type": "markdown",
   "id": "2b7e97e8-c643-4e7c-a21e-6d23f96440b5",
   "metadata": {
    "tags": []
   },
   "source": [
    "# Using Exiting modules and packages\n",
    "- we need to import module or a packages or a component\n",
    "- Syntax:\n",
    "```python\n",
    "import module # imports a whole module\n",
    "module.component()\n",
    "\n",
    "import package # importing package\n",
    "package.component() # using component from the init file of package.\n",
    "\n",
    "from module import component  # importing a component from a module.\n",
    "component()\n",
    "\n",
    "from package import a component # importing a component from the init file of package.\n",
    "component()\n",
    "\n",
    "from package import module # importing a whole module from the package\n",
    "module.component()\n",
    "\n",
    "from package.module import component # importing a component from a module that is inside a package.\n",
    "component()\n",
    "```"
   ]
  },
  {
   "cell_type": "markdown",
   "id": "fef30b30-1874-4b10-ac9d-b43ad621f07b",
   "metadata": {
    "tags": []
   },
   "source": [
    "# Aliasing\n",
    "- Giving a nickname to a module or a package\n",
    "- if we use a module frequently, its a waste of time to rewrite the module name again and again.\n",
    "- so we provide an alias to it.\n",
    "- Syntax:\n",
    "```python\n",
    "import module as md\n",
    "md.component()\n",
    "\n",
    "import package pcg\n",
    "pcg.component() \n",
    "\n",
    "from package import module as md\n",
    "md.component()\n",
    "\n",
    "```"
   ]
  },
  {
   "cell_type": "markdown",
   "id": "34417ab4-5144-441a-a993-8a76040ed260",
   "metadata": {},
   "source": [
    "# dir function\n",
    "- we have a dir function vailable for us in python that helps us to understand the available variables and methods for us in our program.\n",
    "- dir function will print a list of all the available content.\n",
    "- when we import something, the imported stuff will also be added to the dir.\n",
    "- Syntax:\n",
    "```python\n",
    "dir() # shows all useable components in the current program.\n",
    "dir(component) # shows useable components of the provided component. Note the compoenent has to be a module or a package.\n",
    "```\n"
   ]
  },
  {
   "cell_type": "markdown",
   "id": "811f8546",
   "metadata": {},
   "source": [
    "# help function\n",
    "- Help function tells us what we can do with the component(variable or a function or a class), module, package\n",
    "- The help function shows the documentation of the components which are written in docstrings.\n"
   ]
  },
  {
   "cell_type": "markdown",
   "id": "6e3a271c",
   "metadata": {},
   "source": [
    "# Creating modules \n",
    "- A module is just a simple python file\n",
    "- Creating a python file will createa module for us.\n",
    "- WE can import a module into another module and make use of it.\n",
    "- WE can also import individual components from that module.\n"
   ]
  },
  {
   "cell_type": "markdown",
   "id": "337c073c",
   "metadata": {},
   "source": [
    "# Creating Packages\n",
    "- Package is a folder that contains a lot of python files.\n",
    "- in pycharm we can simply create a package by  right-click -> new -> package\n",
    "- a package is a special kind of a folder. it comes with a special file called __init__.py.\n",
    "- we can have other python files in the package but the init file will have the most used variables, fuctions , classes and object.\n",
    "- This helps to use the components directly whthout digging deep for them.\n",
    "- A package can also have sub packages or other modules.\n"
   ]
  },
  {
   "cell_type": "markdown",
   "id": "855e938b-1b2a-4e09-9ddb-cc3d90ed312c",
   "metadata": {},
   "source": [
    "# Working with Existing modules and packages\n",
    "- There are modules and packages directly available in python. These are internal modules and packages.\n",
    "- There are modules and packages that are not directly available for us. We need to download and install them. These are called external modules and packages."
   ]
  },
  {
   "cell_type": "code",
   "execution_count": null,
   "id": "2c8cad32-ff29-42f5-8399-be6e11f1b5fe",
   "metadata": {
    "tags": []
   },
   "outputs": [],
   "source": [
    "# python module index\n",
    "- python module index is one of the webpages from the official python website.\n",
    "- It has links to all the packages and modules bundled with python."
   ]
  },
  {
   "cell_type": "code",
   "execution_count": null,
   "id": "293160b3-be3e-4727-825d-5ac6620a14bc",
   "metadata": {},
   "outputs": [],
   "source": [
    "# documentation"
   ]
  },
  {
   "cell_type": "code",
   "execution_count": null,
   "id": "6497ebcb",
   "metadata": {},
   "outputs": [],
   "source": [
    "# using ChatGpt"
   ]
  },
  {
   "cell_type": "code",
   "execution_count": null,
   "id": "aa519b15",
   "metadata": {},
   "outputs": [],
   "source": [
    "# Working with External modules and packages"
   ]
  }
 ],
 "metadata": {
  "kernelspec": {
   "display_name": "Python 3 (ipykernel)",
   "language": "python",
   "name": "python3"
  },
  "language_info": {
   "codemirror_mode": {
    "name": "ipython",
    "version": 3
   },
   "file_extension": ".py",
   "mimetype": "text/x-python",
   "name": "python",
   "nbconvert_exporter": "python",
   "pygments_lexer": "ipython3",
   "version": "3.11.3"
  }
 },
 "nbformat": 4,
 "nbformat_minor": 5
}
