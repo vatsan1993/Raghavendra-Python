{
 "cells": [
  {
   "cell_type": "code",
   "execution_count": 2,
   "id": "dd6c696a-62ae-48f8-9860-43e538b545a4",
   "metadata": {
    "tags": []
   },
   "outputs": [
    {
     "name": "stdin",
     "output_type": "stream",
     "text": [
      "Enter a value:  hi\n"
     ]
    },
    {
     "ename": "ValueError",
     "evalue": "invalid literal for int() with base 10: 'hi'",
     "output_type": "error",
     "traceback": [
      "\u001b[1;31m---------------------------------------------------------------------------\u001b[0m",
      "\u001b[1;31mValueError\u001b[0m                                Traceback (most recent call last)",
      "Cell \u001b[1;32mIn[2], line 1\u001b[0m\n\u001b[1;32m----> 1\u001b[0m value \u001b[38;5;241m=\u001b[39m \u001b[38;5;28mint\u001b[39m(\u001b[38;5;28minput\u001b[39m(\u001b[38;5;124m'\u001b[39m\u001b[38;5;124mEnter a value: \u001b[39m\u001b[38;5;124m'\u001b[39m))\n",
      "\u001b[1;31mValueError\u001b[0m: invalid literal for int() with base 10: 'hi'"
     ]
    }
   ],
   "source": [
    "value = int(input('Enter a value: '))"
   ]
  },
  {
   "cell_type": "markdown",
   "id": "06bbbb25-c89f-4fa7-861d-d3bee88ad5e1",
   "metadata": {
    "tags": []
   },
   "source": [
    "# Error Handling:\n",
    "- The process of handling errors and displaying meaninful messages or trying to recover from the error is called error handling.\n",
    "- We get error for lot of stuations\n",
    "- Example:\n",
    "    - conversion problem like earlier example\n",
    "    - division with 0\n",
    "    - a file we are trying to work with does not exist.\n",
    "    - a file is protected.\n",
    "    - a database is not found.\n",
    "    - unsupported operations."
   ]
  },
  {
   "cell_type": "markdown",
   "id": "9e5e1cc5-2a37-4324-84e8-431ca4599cf5",
   "metadata": {
    "tags": []
   },
   "source": [
    "- To handle error we have different ways\n",
    "    1. using inbult errors\n",
    "    2. creating custom errors.\n",
    "- We generally use a try except else block to work with the exceptions.\n",
    "- but dont over do the try except.\n",
    "- Syntax:\n",
    "```python\n",
    "try:\n",
    "    code\n",
    "except:\n",
    "    code to fix\n",
    "else:\n",
    "    code if no exception\n",
    "```\n",
    "        "
   ]
  },
  {
   "cell_type": "code",
   "execution_count": 7,
   "id": "8834bcd5-19bc-4625-9565-636ed455956e",
   "metadata": {
    "tags": []
   },
   "outputs": [
    {
     "name": "stdin",
     "output_type": "stream",
     "text": [
      "Enter a value:  hi\n"
     ]
    },
    {
     "name": "stdout",
     "output_type": "stream",
     "text": [
      "Unable to convert the data.\n"
     ]
    }
   ],
   "source": [
    "try:\n",
    "    value = int(input('Enter a value: '))\n",
    "except:\n",
    "    print('Unable to convert the data.')\n",
    "else:\n",
    "    print(value)"
   ]
  },
  {
   "cell_type": "code",
   "execution_count": 12,
   "id": "099a5233-54d7-48bc-b2f5-b7b0a4f92d36",
   "metadata": {
    "tags": []
   },
   "outputs": [
    {
     "name": "stdin",
     "output_type": "stream",
     "text": [
      "Enter a value:  10\n",
      "Enter b value:  0\n"
     ]
    },
    {
     "name": "stdout",
     "output_type": "stream",
     "text": [
      "The data has to be numbers and b should not be 0\n"
     ]
    }
   ],
   "source": [
    "# Handles 2 errors\n",
    "try:\n",
    "    a = int(input('Enter a value: '))\n",
    "    b = int(input('Enter b value: '))\n",
    "    print(a/b)\n",
    "except:\n",
    "    print('The data has to be numbers and b should not be 0')"
   ]
  },
  {
   "cell_type": "markdown",
   "id": "c6a894fc-3da2-40b1-80d2-900b470f321b",
   "metadata": {
    "tags": []
   },
   "source": [
    "# Named Error Handling\n",
    "- When the code base increases the possibility for getting errors also increases.\n",
    "- one except block that prints all the possible errors is not going to be clear.\n",
    "- We need to splits errors into seperate except blocks.\n",
    "- Each type of an error as a specific name given to it. We can use this to identify the type of the error.\n",
    "- Syntax:\n",
    "```python\n",
    "try:\n",
    "    code\n",
    "except Error1Name:\n",
    "    code\n",
    "except Error2Name:\n",
    "    code\n",
    "...\n",
    "except:\n",
    "    code\n",
    "```"
   ]
  },
  {
   "cell_type": "code",
   "execution_count": 15,
   "id": "b1b56eb2-7f35-4f44-bc8f-ab7e5005acac",
   "metadata": {
    "tags": []
   },
   "outputs": [
    {
     "name": "stdin",
     "output_type": "stream",
     "text": [
      "Enter a value:  10\n",
      "Enter b value:  0\n"
     ]
    },
    {
     "name": "stdout",
     "output_type": "stream",
     "text": [
      "Cannot divide by 0\n"
     ]
    }
   ],
   "source": [
    "try:\n",
    "    a = int(input('Enter a value: '))\n",
    "    b = int(input('Enter b value: '))\n",
    "    print(a/b)\n",
    "except ValueError:\n",
    "    print('The data must be integer')\n",
    "except ZeroDivisionError:\n",
    "    print('Cannot divide by 0')"
   ]
  },
  {
   "cell_type": "code",
   "execution_count": 18,
   "id": "1f7abffb-73b3-4d20-849d-e75fd03abe4e",
   "metadata": {
    "tags": []
   },
   "outputs": [
    {
     "name": "stdin",
     "output_type": "stream",
     "text": [
      "Enter name of the person:  drake\n"
     ]
    },
    {
     "name": "stdout",
     "output_type": "stream",
     "text": [
      "drake is not in the list\n"
     ]
    }
   ],
   "source": [
    "marks = {\n",
    "    'max' : 99,\n",
    "    'james' : 89,\n",
    "    'bill': 76\n",
    "}\n",
    "\n",
    "try:\n",
    "    name = input('Enter name of the person: ')\n",
    "    print(marks[name])\n",
    "except KeyError:\n",
    "    print(f'{name} is not in the list')"
   ]
  },
  {
   "cell_type": "code",
   "execution_count": 22,
   "id": "03e0dfb7-2d97-4765-bc29-13fbdc8185da",
   "metadata": {
    "tags": []
   },
   "outputs": [
    {
     "name": "stdin",
     "output_type": "stream",
     "text": [
      "Enter name of the person:  max\n"
     ]
    },
    {
     "name": "stdout",
     "output_type": "stream",
     "text": [
      "The person is in the list\n"
     ]
    }
   ],
   "source": [
    "friends_list = ['max', 'mike', 'james']\n",
    "try:\n",
    "    name = input('Enter name of the person: ')\n",
    "    location = friends_list.index(name)\n",
    "except ValueError:\n",
    "    print('The person is not the list')\n",
    "else:\n",
    "    print('The person is in the list')\n"
   ]
  },
  {
   "cell_type": "code",
   "execution_count": 23,
   "id": "f6b5c4a9-689c-45ca-ac3f-5534e4e36aca",
   "metadata": {
    "tags": []
   },
   "outputs": [
    {
     "name": "stdout",
     "output_type": "stream",
     "text": [
      "The person is in the list\n"
     ]
    }
   ],
   "source": [
    "# alternative for the above problem\n",
    "if name in friends_list:\n",
    "    print('The person is in the list')\n",
    "else:\n",
    "    print('The person is not the list')"
   ]
  },
  {
   "cell_type": "code",
   "execution_count": null,
   "id": "8e58f4f3-526a-4bc7-a208-7980c0c1127c",
   "metadata": {},
   "outputs": [],
   "source": [
    "# another alternative # if we want the position\n",
    "location = friends_list.find(name)\n",
    "if location < 0:\n",
    "    print('The person is not the list')\n",
    "else:\n",
    "    print('The person is in the list')"
   ]
  }
 ],
 "metadata": {
  "kernelspec": {
   "display_name": "Python 3 (ipykernel)",
   "language": "python",
   "name": "python3"
  },
  "language_info": {
   "codemirror_mode": {
    "name": "ipython",
    "version": 3
   },
   "file_extension": ".py",
   "mimetype": "text/x-python",
   "name": "python",
   "nbconvert_exporter": "python",
   "pygments_lexer": "ipython3",
   "version": "3.11.3"
  }
 },
 "nbformat": 4,
 "nbformat_minor": 5
}
