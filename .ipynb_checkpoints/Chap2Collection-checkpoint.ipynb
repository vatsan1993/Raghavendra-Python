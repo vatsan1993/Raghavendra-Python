{
 "cells": [
  {
   "cell_type": "markdown",
   "metadata": {},
   "source": [
    "# Collections\n",
    "- Collection is a category of datatypes which allows us to store multiple values in a single variable.\n",
    "- 1. List - []\n",
    "- 2. Tuple - ()\n",
    "- 3. Set -  {}\n",
    "- 4. Dictionary - {}\n"
   ]
  },
  {
   "cell_type": "markdown",
   "metadata": {},
   "source": [
    "# Lists:\n",
    "- List is a collection of values. It can store any tuype of value in it.\n",
    "- Every value inside the list will have an index.\n",
    "- Example: groceryList, todo list, friends list\n",
    "- Real list:\n",
    "    - grocery list:\n",
    "    - 1. Apples\n",
    "    - 2. Bananas\n",
    "    - 3. Oranges\n",
    "- Progamming list:\n",
    "    - grocery list:\n",
    "    - 0. Apples\n",
    "    - 1. Bananas\n",
    "    - 2. Oranges\n",
    "- 0 , 1 , 2 are called indexes\n",
    "\n",
    "# List Creation\n",
    "- To create a list we use []\n",
    "- The values are seperated by commas.\n",
    "- The values could be a string or a number, boolean, or collection\n",
    "- if we are storing strings we need '' or \"\"\n",
    "- you can store a variable which is already created in a list.\n",
    "<p style=\"color:red\">Do not use the variable name 'list'</p>\n",
    "- Syntax:\n",
    "```python \n",
    "listName = [val1, val2, ...]\n",
    "```"
   ]
  },
  {
   "cell_type": "code",
   "execution_count": 1,
   "metadata": {},
   "outputs": [
    {
     "name": "stdout",
     "output_type": "stream",
     "text": [
      "['Apples', 'Bananas', 'Oranges']\n"
     ]
    }
   ],
   "source": [
    "groceryList = ['Apples', 'Bananas', 'Oranges']\n",
    "print(groceryList)"
   ]
  },
  {
   "cell_type": "markdown",
   "metadata": {},
   "source": [
    "# Index:\n",
    "- Index is a position of a value in a list.\n",
    "- indexes starts from 0 and ends at n-1 where n is the number of values in the list.\n",
    "- We also have negative indexes which starts from -n and ends with -1\n",
    "- for list we cannot do much operations without indexes.\n",
    "\n",
    "<table>\n",
    "    <tr>\n",
    "        <td>values---></td>\n",
    "        <td>Apple</td>\n",
    "        <td>Banana</td>\n",
    "        <td>Orange</td>\n",
    "    </tr>\n",
    "    <tr>\n",
    "        <td>indexes---></td>\n",
    "        <td>0</td>\n",
    "        <td>1</td>\n",
    "        <td>2</td>\n",
    "    </tr>\n",
    "     <tr>\n",
    "        <td>negative indexes---></td>\n",
    "        <td>-3</td>\n",
    "        <td>-2</td>\n",
    "        <td>-1</td>\n",
    "    </tr>\n",
    "</table>\n",
    "\n"
   ]
  },
  {
   "cell_type": "markdown",
   "metadata": {},
   "source": [
    "# Operations using the index\n",
    "1. extracting values from the list (list indexing)\n",
    "2. Changing a value in the list\n",
    "3. list slicing\n",
    "4. copying the list\n",
    "5. list slicing with step\n",
    "6. Reversing a list\n",
    "7. Changing multiple values from the list\n",
    "8. adding new values into the list\n",
    "9. Removing values from the list"
   ]
  },
  {
   "cell_type": "markdown",
   "metadata": {},
   "source": [
    "# 1. List Indexing\n",
    "- Using the index we can grab a value from the list. Which can use for different operations later.\n",
    "\n",
    "- Example: displaying a value from the list or adding a value from the list to a number. Finding total value of a list. finding maximum value.\n",
    "- Syntax:\n",
    "```python \n",
    "variableName= listName[index] # use this mostly\n",
    "print(listName[index]) # try to avoid this\n",
    "```\n",
    "- the index inside the [] can be a number or a variable that contains a numbers"
   ]
  },
  {
   "cell_type": "code",
   "execution_count": 2,
   "metadata": {},
   "outputs": [
    {
     "name": "stdout",
     "output_type": "stream",
     "text": [
      "Apples\n"
     ]
    }
   ],
   "source": [
    "groceryList = ['Apples', 'Bananas', 'Oranges']\n",
    "print(groceryList[0])"
   ]
  },
  {
   "cell_type": "code",
   "execution_count": 3,
   "metadata": {},
   "outputs": [
    {
     "name": "stdout",
     "output_type": "stream",
     "text": [
      "Apples is my favorite fruit\n"
     ]
    }
   ],
   "source": [
    "favFruit = groceryList[0]\n",
    "print(f'{favFruit} is my favorite fruit')"
   ]
  },
  {
   "cell_type": "code",
   "execution_count": 4,
   "metadata": {},
   "outputs": [
    {
     "name": "stdout",
     "output_type": "stream",
     "text": [
      "0. Apples\n",
      "1. Oranges\n",
      "2. Bananas\n",
      "Enter the index for the fruit: 1\n",
      "Bananas\n"
     ]
    }
   ],
   "source": [
    "print('0. Apples')\n",
    "print('1. Oranges')\n",
    "print('2. Bananas')\n",
    "index= int(input('Enter the index for the fruit: '))\n",
    "print(groceryList[index])"
   ]
  },
  {
   "cell_type": "code",
   "execution_count": 5,
   "metadata": {},
   "outputs": [
    {
     "name": "stdout",
     "output_type": "stream",
     "text": [
      "Apples is my favorite fruit\n"
     ]
    }
   ],
   "source": [
    "\n",
    "favFruit = groceryList[-3]\n",
    "print(f'{favFruit} is my favorite fruit')"
   ]
  },
  {
   "cell_type": "markdown",
   "metadata": {},
   "source": [
    "# Errors\n",
    "- The indexes starts with 0and ends with n-1.\n",
    "- if we try to use 'n' or '-n-1' in the place of index, we get an error\n",
    "- if we have 3 values in a list we cannot use indexes 3 and -4 or beyond\n"
   ]
  },
  {
   "cell_type": "code",
   "execution_count": 6,
   "metadata": {},
   "outputs": [
    {
     "ename": "IndexError",
     "evalue": "list index out of range",
     "output_type": "error",
     "traceback": [
      "\u001b[1;31m---------------------------------------------------------------------------\u001b[0m",
      "\u001b[1;31mIndexError\u001b[0m                                Traceback (most recent call last)",
      "\u001b[1;32m<ipython-input-6-23ca964aec61>\u001b[0m in \u001b[0;36m<module>\u001b[1;34m\u001b[0m\n\u001b[1;32m----> 1\u001b[1;33m \u001b[0mprint\u001b[0m\u001b[1;33m(\u001b[0m\u001b[0mgroceryList\u001b[0m\u001b[1;33m[\u001b[0m\u001b[1;36m3\u001b[0m\u001b[1;33m]\u001b[0m\u001b[1;33m)\u001b[0m\u001b[1;33m\u001b[0m\u001b[1;33m\u001b[0m\u001b[0m\n\u001b[0m",
      "\u001b[1;31mIndexError\u001b[0m: list index out of range"
     ]
    }
   ],
   "source": [
    "print(groceryList[3])"
   ]
  },
  {
   "cell_type": "code",
   "execution_count": 7,
   "metadata": {},
   "outputs": [
    {
     "ename": "IndexError",
     "evalue": "list index out of range",
     "output_type": "error",
     "traceback": [
      "\u001b[1;31m---------------------------------------------------------------------------\u001b[0m",
      "\u001b[1;31mIndexError\u001b[0m                                Traceback (most recent call last)",
      "\u001b[1;32m<ipython-input-7-1f1a7e6347de>\u001b[0m in \u001b[0;36m<module>\u001b[1;34m\u001b[0m\n\u001b[1;32m----> 1\u001b[1;33m \u001b[0mprint\u001b[0m\u001b[1;33m(\u001b[0m\u001b[0mgroceryList\u001b[0m\u001b[1;33m[\u001b[0m\u001b[1;33m-\u001b[0m\u001b[1;36m4\u001b[0m\u001b[1;33m]\u001b[0m\u001b[1;33m)\u001b[0m\u001b[1;33m\u001b[0m\u001b[1;33m\u001b[0m\u001b[0m\n\u001b[0m",
      "\u001b[1;31mIndexError\u001b[0m: list index out of range"
     ]
    }
   ],
   "source": [
    "print(groceryList[-4])"
   ]
  },
  {
   "cell_type": "markdown",
   "metadata": {},
   "source": [
    "# Changing a value in the list\n",
    "- needs the index\n",
    "- syntax:\n",
    "```python\n",
    "listName[index] = newValue / variable\n",
    "listName[index] = calculcation\n",
    "```"
   ]
  },
  {
   "cell_type": "code",
   "execution_count": 8,
   "metadata": {},
   "outputs": [
    {
     "name": "stdout",
     "output_type": "stream",
     "text": [
      "['Apples', 'kiwis', 'Oranges']\n"
     ]
    }
   ],
   "source": [
    "groceryList = ['Apples', 'Bananas', 'Oranges']\n",
    "groceryList[1] = 'kiwis'\n",
    "print(groceryList)"
   ]
  },
  {
   "cell_type": "code",
   "execution_count": 9,
   "metadata": {},
   "outputs": [
    {
     "name": "stdout",
     "output_type": "stream",
     "text": [
      "[34, 55, 43, 43, 65]\n"
     ]
    }
   ],
   "source": [
    "sales = [34, 54, 43, 43, 65]\n",
    "newSales = sales[1] + 1\n",
    "sales[1] = newSales\n",
    "print(sales)\n"
   ]
  },
  {
   "cell_type": "markdown",
   "metadata": {},
   "source": [
    "# list slicing\n",
    "- Slicing is selecting a part of the list.\n",
    "- We select the part by providing start index and end index\n",
    "- the slicing does not perform a permanent change.\n",
    "- Slicing gives us a new list\n",
    "- The value at the end index will not be included in the result\n",
    "- if we are starting from the beginning of the list, we dont need to writer the 0.\n",
    "- if we want to reach the end of the list, we dont need to use the end index.\n",
    "- we can use negative indexes\n",
    "- When slicing we have to make sure the start index is less than the end index. if we did not, we will get and emptuy list as a result\n",
    "- Syntax:\n",
    "```python\n",
    "newListName = oldListName[startingIndex : endingIndex] # this is better\n",
    "print(oldListName[startingIndex : endingIndex])\n",
    "```"
   ]
  },
  {
   "cell_type": "markdown",
   "metadata": {},
   "source": [
    "<table>\n",
    "    <tr>\n",
    "        <td>values---></td>\n",
    "        <td>65</td>\n",
    "        <td style=\"background: green;\">3</td>\n",
    "        <td style=\"background: green;\">5</td>\n",
    "        <td style=\"background: green;\">7</td>\n",
    "        <td style=\"background: green;\">5</td>\n",
    "        <td style=\"background: green;\">5</td>\n",
    "        <td style=\"background: green;\">6</td>\n",
    "        <td>9</td>\n",
    "        <td>0</td>\n",
    "        <td>1</td>\n",
    "        <td>2</td>\n",
    "        <td>6</td>\n",
    "        <td>65</td>\n",
    "        <td>Max</td>\n",
    "        <td>True</td>\n",
    "    </tr>\n",
    "    <tr>\n",
    "        <td>indexes---></td>\n",
    "        <td>0</td>\n",
    "        <td style=\"background: blue;\">1</td>\n",
    "        <td>2</td>\n",
    "        <td>3</td>\n",
    "        <td>4</td>\n",
    "        <td>5</td>\n",
    "        <td>6</td>\n",
    "        <td style=\"background: blue;\">7</td>\n",
    "        <td>8</td>\n",
    "        <td>9</td>\n",
    "        <td>10</td>\n",
    "        <td>11</td>\n",
    "        <td>12</td>\n",
    "        <td>13</td>\n",
    "        <td>14</td>\n",
    "    </tr>\n",
    "     <tr>\n",
    "        <td>negative indexes---></td>\n",
    "        <td>-15</td>\n",
    "        <td>-14</td>\n",
    "        <td>-13</td>\n",
    "        <td>-12</td>\n",
    "        <td>-11</td>\n",
    "        <td>-10</td>\n",
    "        <td>-9</td>\n",
    "        <td>-8</td>\n",
    "        <td>-7</td>\n",
    "        <td>-6</td>\n",
    "        <td>-5</td>\n",
    "        <td>-4</td>\n",
    "        <td>-3</td>\n",
    "        <td>-2</td>\n",
    "        <td>-1</td>\n",
    "    </tr>\n",
    "</table>"
   ]
  },
  {
   "cell_type": "code",
   "execution_count": 11,
   "metadata": {},
   "outputs": [
    {
     "name": "stdout",
     "output_type": "stream",
     "text": [
      "[3, 5, 7, 5, 5, 6]\n"
     ]
    }
   ],
   "source": [
    "data = [65, 3 ,5 ,7 ,5 ,5 ,6 ,9 ,0 ,1 ,2 ,6 ,65 ,'Max' ,True]\n",
    "miniData = data[1 : 7]\n",
    "print(miniData)"
   ]
  },
  {
   "cell_type": "code",
   "execution_count": 12,
   "metadata": {},
   "outputs": [
    {
     "name": "stdout",
     "output_type": "stream",
     "text": [
      "[65, 3, 5, 7, 5, 5, 6]\n",
      "[5, 6, 9, 0, 1, 2, 6, 65, 'Max', True]\n"
     ]
    }
   ],
   "source": [
    "#if we are starting from the beginning of the list, we dont need to writer the 0.\n",
    "#if we want to reach the end of the list, we dont need to use the end index.\n",
    "\n",
    "miniData2 = data[ : 7]\n",
    "print(miniData2)\n",
    "miniData3 = data[5 : ]\n",
    "print(miniData3)"
   ]
  },
  {
   "cell_type": "code",
   "execution_count": 13,
   "metadata": {},
   "outputs": [
    {
     "name": "stdout",
     "output_type": "stream",
     "text": [
      "[5, 7, 5, 5, 6, 9]\n"
     ]
    }
   ],
   "source": [
    "miniData4 = data[-13 : -7]\n",
    "print(miniData4)"
   ]
  },
  {
   "cell_type": "code",
   "execution_count": 14,
   "metadata": {},
   "outputs": [
    {
     "name": "stdout",
     "output_type": "stream",
     "text": [
      "[5, 7, 5, 5, 6, 9, 0]\n"
     ]
    }
   ],
   "source": [
    "miniData5 = data[-13 : 9]\n",
    "print(miniData5)"
   ]
  },
  {
   "cell_type": "code",
   "execution_count": 15,
   "metadata": {},
   "outputs": [
    {
     "name": "stdout",
     "output_type": "stream",
     "text": [
      "[7, 5, 5, 6, 9, 0]\n"
     ]
    }
   ],
   "source": [
    "miniData5 = data[3 : -6]\n",
    "print(miniData5)"
   ]
  },
  {
   "cell_type": "code",
   "execution_count": 16,
   "metadata": {},
   "outputs": [
    {
     "name": "stdout",
     "output_type": "stream",
     "text": [
      "[]\n"
     ]
    }
   ],
   "source": [
    "miniData6 = data[8 : 1]\n",
    "print(miniData6)"
   ]
  },
  {
   "cell_type": "code",
   "execution_count": 17,
   "metadata": {},
   "outputs": [
    {
     "name": "stdout",
     "output_type": "stream",
     "text": [
      "[]\n"
     ]
    }
   ],
   "source": [
    "miniData7 = data[-5 : -10]\n",
    "print(miniData7)"
   ]
  },
  {
   "cell_type": "markdown",
   "metadata": {},
   "source": [
    "# 4. copying the list\n",
    "- There are 3 ways\n",
    "- this method uses slicing\n",
    "- We make the start index and the end index of slcing empty"
   ]
  },
  {
   "cell_type": "code",
   "execution_count": 18,
   "metadata": {},
   "outputs": [
    {
     "name": "stdout",
     "output_type": "stream",
     "text": [
      "[65, 3, 5, 7, 5, 5, 6, 9, 0, 1, 2, 6, 65, 'Max', True]\n"
     ]
    }
   ],
   "source": [
    "backupList = data[ : ]\n",
    "print(backupList)"
   ]
  },
  {
   "cell_type": "markdown",
   "metadata": {},
   "source": [
    "# 5. list slicing with step\n",
    "- Similar to slicing but we include a step value along with it.\n",
    "- step value tell how many steps needs be taken to reach the next element\n",
    "- the positive step will move in forward direction and the negative step moves in the reverse direction\n",
    "- Syntax:\n",
    "```python\n",
    "newListName = oldListName[startIndex : endIndex : step]\n",
    "print(oldListName[startIndex : endIndex : step])\n",
    "```"
   ]
  },
  {
   "cell_type": "markdown",
   "metadata": {},
   "source": [
    "<table>\n",
    "    <tr>\n",
    "        <td>values---></td>\n",
    "        <td>65</td>\n",
    "        <td style=\"background: green;\">3</td>\n",
    "        <td>5</td>\n",
    "        <td style=\"background: green;\">7</td>\n",
    "        <td>5</td>\n",
    "        <td style=\"background: green;\">5</td>\n",
    "        <td>6</td>\n",
    "        <td>9</td>\n",
    "        <td>0</td>\n",
    "        <td>1</td>\n",
    "        <td>2</td>\n",
    "        <td>6</td>\n",
    "        <td>65</td>\n",
    "        <td>Max</td>\n",
    "        <td>True</td>\n",
    "    </tr>\n",
    "    <tr>\n",
    "        <td>indexes---></td>\n",
    "        <td>0</td>\n",
    "        <td style=\"background: blue;\">1</td>\n",
    "        <td>2</td>\n",
    "        <td>3</td>\n",
    "        <td>4</td>\n",
    "        <td>5</td>\n",
    "        <td>6</td>\n",
    "        <td style=\"background: blue;\">7</td>\n",
    "        <td>8</td>\n",
    "        <td>9</td>\n",
    "        <td>10</td>\n",
    "        <td>11</td>\n",
    "        <td>12</td>\n",
    "        <td>13</td>\n",
    "        <td>14</td>\n",
    "    </tr>\n",
    "     <tr>\n",
    "        <td>negative indexes---></td>\n",
    "        <td>-15</td>\n",
    "        <td>-14</td>\n",
    "        <td>-13</td>\n",
    "        <td>-12</td>\n",
    "        <td>-11</td>\n",
    "        <td>-10</td>\n",
    "        <td>-9</td>\n",
    "        <td>-8</td>\n",
    "        <td>-7</td>\n",
    "        <td>-6</td>\n",
    "        <td>-5</td>\n",
    "        <td>-4</td>\n",
    "        <td>-3</td>\n",
    "        <td>-2</td>\n",
    "        <td>-1</td>\n",
    "    </tr>\n",
    "</table>\n",
    "\n",
    "We will have start index as 1 and end index as 7 and a step value 2.\n"
   ]
  },
  {
   "cell_type": "code",
   "execution_count": 21,
   "metadata": {},
   "outputs": [
    {
     "name": "stdout",
     "output_type": "stream",
     "text": [
      "[3, 7, 5]\n"
     ]
    }
   ],
   "source": [
    "newList8 = data[1 : 7 : 2]\n",
    "print(newList8)"
   ]
  },
  {
   "cell_type": "code",
   "execution_count": 22,
   "metadata": {},
   "outputs": [
    {
     "name": "stdout",
     "output_type": "stream",
     "text": [
      "[3, 5, 7, 5, 5, 6]\n"
     ]
    }
   ],
   "source": [
    "newList8 = data[1 : 7 : 1] # does not skip anything\n",
    "print(newList8)"
   ]
  },
  {
   "cell_type": "code",
   "execution_count": 23,
   "metadata": {},
   "outputs": [
    {
     "name": "stdout",
     "output_type": "stream",
     "text": [
      "[3, 5]\n"
     ]
    }
   ],
   "source": [
    "newList8 = data[1 : 7 : 3]\n",
    "print(newList8)"
   ]
  },
  {
   "cell_type": "code",
   "execution_count": 24,
   "metadata": {},
   "outputs": [
    {
     "name": "stdout",
     "output_type": "stream",
     "text": [
      "[7, 6]\n"
     ]
    }
   ],
   "source": [
    "newList8 = data[-12 : -7 : 3]\n",
    "print(newList8)"
   ]
  },
  {
   "cell_type": "code",
   "execution_count": 25,
   "metadata": {},
   "outputs": [
    {
     "name": "stdout",
     "output_type": "stream",
     "text": [
      "[7, 6]\n"
     ]
    }
   ],
   "source": [
    "newList8 = data[3 : -7 : 3]\n",
    "print(newList8)"
   ]
  },
  {
   "cell_type": "code",
   "execution_count": 26,
   "metadata": {},
   "outputs": [
    {
     "name": "stdout",
     "output_type": "stream",
     "text": [
      "[]\n"
     ]
    }
   ],
   "source": [
    "newList9 = data[7 : 1: 2]\n",
    "print(newList9)"
   ]
  },
  {
   "cell_type": "markdown",
   "metadata": {},
   "source": [
    "# negative step\n",
    "<table>\n",
    "    <tr>\n",
    "        <td>values---></td>\n",
    "        <td>65</td>\n",
    "        <td >3</td>\n",
    "        <td style=\"background: green;\">5</td>\n",
    "        <td style=\"background: green;\">7</td>\n",
    "        <td style=\"background: green;\">5</td>\n",
    "        <td style=\"background: green;\">5</td>\n",
    "        <td style=\"background: green;\">6</td>\n",
    "        <td style=\"background: green;\">9</td>\n",
    "        <td>0</td>\n",
    "        <td>1</td>\n",
    "        <td>2</td>\n",
    "        <td>6</td>\n",
    "        <td>65</td>\n",
    "        <td>Max</td>\n",
    "        <td>True</td>\n",
    "    </tr>\n",
    "    <tr>\n",
    "        <td>indexes---></td>\n",
    "        <td>0</td>\n",
    "        <td style=\"background: blue;\">1</td>\n",
    "        <td>2</td>\n",
    "        <td>3</td>\n",
    "        <td>4</td>\n",
    "        <td>5</td>\n",
    "        <td>6</td>\n",
    "        <td style=\"background: blue;\">7</td>\n",
    "        <td>8</td>\n",
    "        <td>9</td>\n",
    "        <td>10</td>\n",
    "        <td>11</td>\n",
    "        <td>12</td>\n",
    "        <td>13</td>\n",
    "        <td>14</td>\n",
    "    </tr>\n",
    "     <tr>\n",
    "        <td>negative indexes---></td>\n",
    "        <td>-15</td>\n",
    "        <td>-14</td>\n",
    "        <td>-13</td>\n",
    "        <td>-12</td>\n",
    "        <td>-11</td>\n",
    "        <td>-10</td>\n",
    "        <td>-9</td>\n",
    "        <td>-8</td>\n",
    "        <td>-7</td>\n",
    "        <td>-6</td>\n",
    "        <td>-5</td>\n",
    "        <td>-4</td>\n",
    "        <td>-3</td>\n",
    "        <td>-2</td>\n",
    "        <td>-1</td>\n",
    "    </tr>\n",
    "</table>\n",
    "\n",
    "We will have start index as 7 and end index as 1 and a step value -1."
   ]
  },
  {
   "cell_type": "code",
   "execution_count": 28,
   "metadata": {},
   "outputs": [
    {
     "name": "stdout",
     "output_type": "stream",
     "text": [
      "[9, 6, 5, 5, 7, 5]\n"
     ]
    }
   ],
   "source": [
    "newList10 = data[7 : 1 : -1]\n",
    "print(newList10)"
   ]
  },
  {
   "cell_type": "code",
   "execution_count": 29,
   "metadata": {},
   "outputs": [
    {
     "name": "stdout",
     "output_type": "stream",
     "text": [
      "[9, 5, 7]\n"
     ]
    }
   ],
   "source": [
    "newList11 = data[7 : 1 : -2]\n",
    "print(newList11)"
   ]
  },
  {
   "cell_type": "code",
   "execution_count": 30,
   "metadata": {},
   "outputs": [
    {
     "name": "stdout",
     "output_type": "stream",
     "text": [
      "[2, 0, 6]\n"
     ]
    }
   ],
   "source": [
    "newList11 = data[-5 : -11 : -2]\n",
    "print(newList11)"
   ]
  },
  {
   "cell_type": "markdown",
   "metadata": {},
   "source": [
    "# reversing a list\n",
    "- we need to get the whole list and then use a negative step value."
   ]
  },
  {
   "cell_type": "code",
   "execution_count": 31,
   "metadata": {},
   "outputs": [
    {
     "name": "stdout",
     "output_type": "stream",
     "text": [
      "[True, 'Max', 65, 6, 2, 1, 0, 9, 6, 5, 5, 7, 5, 3, 65]\n"
     ]
    }
   ],
   "source": [
    "reversedData = data[ : :-1]\n",
    "print(reversedData)"
   ]
  },
  {
   "cell_type": "markdown",
   "metadata": {},
   "source": [
    "# Changing multiple values from the list\n",
    "- we need to use slicing to change multiple values together.\n",
    "- the size of newList does not need to be same as the slice.\n",
    "- Syntax:\n",
    "```python\n",
    "oldListName[startIndex : endIndex] = newList\n",
    "```"
   ]
  },
  {
   "cell_type": "code",
   "execution_count": 1,
   "metadata": {},
   "outputs": [
    {
     "name": "stdout",
     "output_type": "stream",
     "text": [
      "[65, 1, 2, 5, 6, 9, 0, 1, 2, 6, 65, 'Max', True]\n"
     ]
    }
   ],
   "source": [
    "data = [65, 3, 5, 7, 5, 5, 6, 9, 0, 1, 2, 6, 65, 'Max', True]\n",
    "newList = [1, 2]\n",
    "data[1 : 5] = newList\n",
    "print(data)"
   ]
  },
  {
   "cell_type": "markdown",
   "metadata": {},
   "source": [
    "# Built in functions\n",
    "- print() , input(), type(), int() , float(), bool(),str()\n",
    "- Functions that are already available for us to make use of.\n",
    "- these are in a file called builtins.py that comes with python installation\n",
    "- https://www.programiz.com/python-programming/methods/built-in\n",
    "- A function can be applied on different types of data.\n",
    "<p style=\"color: red\">Note: Never use the function names as variable names</p>\n",
    "- most functions return a result.\n",
    "- functions do not modify the original list.\n",
    "- syntax:\n",
    "```python\n",
    "result = functionName(param1, param2,....)\n",
    "print(functionName(param1, param2,....))\n",
    "```\n",
    "\n",
    "<p style=\"color: red\">Note: functions do not modify the original list.</p>\n"
   ]
  },
  {
   "cell_type": "markdown",
   "metadata": {},
   "source": [
    "# functions useful with collections\n",
    "- sum - adds all values in an iterable\n",
    "- min - finds smallest value in the iterable\n",
    "- max - finds largest  value in the iterable\n",
    "- len - finds length of the iterable\n",
    "- sorted - sorts an iterble."
   ]
  },
  {
   "cell_type": "code",
   "execution_count": 2,
   "metadata": {},
   "outputs": [
    {
     "ename": "TypeError",
     "evalue": "unsupported operand type(s) for +: 'int' and 'str'",
     "output_type": "error",
     "traceback": [
      "\u001b[1;31m---------------------------------------------------------------------------\u001b[0m",
      "\u001b[1;31mTypeError\u001b[0m                                 Traceback (most recent call last)",
      "\u001b[1;32m<ipython-input-2-9266ab803444>\u001b[0m in \u001b[0;36m<module>\u001b[1;34m\u001b[0m\n\u001b[0;32m      1\u001b[0m \u001b[0mdata\u001b[0m \u001b[1;33m=\u001b[0m \u001b[1;33m[\u001b[0m\u001b[1;36m65\u001b[0m\u001b[1;33m,\u001b[0m \u001b[1;36m1\u001b[0m\u001b[1;33m,\u001b[0m \u001b[1;36m2\u001b[0m\u001b[1;33m,\u001b[0m \u001b[1;36m5\u001b[0m\u001b[1;33m,\u001b[0m \u001b[1;36m6\u001b[0m\u001b[1;33m,\u001b[0m \u001b[1;36m9\u001b[0m\u001b[1;33m,\u001b[0m \u001b[1;36m0\u001b[0m\u001b[1;33m,\u001b[0m \u001b[1;36m1\u001b[0m\u001b[1;33m,\u001b[0m \u001b[1;36m2\u001b[0m\u001b[1;33m,\u001b[0m \u001b[1;36m6\u001b[0m\u001b[1;33m,\u001b[0m \u001b[1;36m65\u001b[0m\u001b[1;33m,\u001b[0m \u001b[1;34m'Max'\u001b[0m\u001b[1;33m,\u001b[0m \u001b[1;32mTrue\u001b[0m\u001b[1;33m]\u001b[0m\u001b[1;33m\u001b[0m\u001b[1;33m\u001b[0m\u001b[0m\n\u001b[1;32m----> 2\u001b[1;33m \u001b[0mtotal\u001b[0m \u001b[1;33m=\u001b[0m \u001b[0msum\u001b[0m\u001b[1;33m(\u001b[0m\u001b[0mdata\u001b[0m\u001b[1;33m)\u001b[0m\u001b[1;33m\u001b[0m\u001b[1;33m\u001b[0m\u001b[0m\n\u001b[0m\u001b[0;32m      3\u001b[0m \u001b[0mprint\u001b[0m\u001b[1;33m(\u001b[0m\u001b[0mtotal\u001b[0m\u001b[1;33m)\u001b[0m\u001b[1;33m\u001b[0m\u001b[1;33m\u001b[0m\u001b[0m\n",
      "\u001b[1;31mTypeError\u001b[0m: unsupported operand type(s) for +: 'int' and 'str'"
     ]
    }
   ],
   "source": [
    "data = [65, 1, 2, 5, 6, 9, 0, 1, 2, 6, 65, 'Max', True]\n",
    "total = sum(data)\n",
    "print(total)"
   ]
  },
  {
   "cell_type": "code",
   "execution_count": 5,
   "metadata": {},
   "outputs": [
    {
     "name": "stdout",
     "output_type": "stream",
     "text": [
      "The sum of all values in the data is :162\n"
     ]
    }
   ],
   "source": [
    "data = [65, 1, 2, 5, 6, 9, 0, 1, 2, 6, 65]\n",
    "total = sum(data)\n",
    "print(f'The sum of all values in the data is :{total}')"
   ]
  },
  {
   "cell_type": "code",
   "execution_count": 7,
   "metadata": {},
   "outputs": [
    {
     "name": "stdout",
     "output_type": "stream",
     "text": [
      "The smallest value of data is :0\n"
     ]
    }
   ],
   "source": [
    "minVal = min(data)\n",
    "print(f'The smallest value of data is :{minVal}')"
   ]
  },
  {
   "cell_type": "code",
   "execution_count": 8,
   "metadata": {},
   "outputs": [
    {
     "name": "stdout",
     "output_type": "stream",
     "text": [
      "The largest value of data is :65\n"
     ]
    }
   ],
   "source": [
    "maxVal = max(data)\n",
    "print(f'The largest value of data is :{maxVal}')"
   ]
  },
  {
   "cell_type": "code",
   "execution_count": 9,
   "metadata": {},
   "outputs": [
    {
     "name": "stdout",
     "output_type": "stream",
     "text": [
      "The length of data is :11\n"
     ]
    }
   ],
   "source": [
    "length = len(data)\n",
    "print(f'The length of data is :{length}')"
   ]
  },
  {
   "cell_type": "markdown",
   "metadata": {},
   "source": [
    "# sorted\n",
    "- creates a copy of the iterable pprovided and sorts the new copy and return it.\n",
    "- it does not modify the original data\n",
    "- sorted can be applied on multiple types of data.\n",
    "\n",
    "- Syntax:\n",
    "```python\n",
    "newList = sorted(oldList, key = function , reverse = booleanVal) # key and reverse are optional\n",
    "print(sorted(oldList, key = function , reverse = booleanVal))\n",
    "```\n",
    "<p style=\"color: red\">Note: sorted always return a list.</p>"
   ]
  },
  {
   "cell_type": "code",
   "execution_count": 13,
   "metadata": {},
   "outputs": [
    {
     "name": "stdout",
     "output_type": "stream",
     "text": [
      "The original marks is: [47, 63, 75, 75, 45, 36, 85, 88.7, 34.6]\n",
      "The sortedmarks is: [34.6, 36, 45, 47, 63, 75, 75, 85, 88.7]\n"
     ]
    }
   ],
   "source": [
    "marks = [47,63,75, 75,45,36,85,88.7, 34.6]\n",
    "sortedMarks = sorted(marks)\n",
    "print(f'The original marks is: {marks}')\n",
    "print(f'The sortedmarks is: {sortedMarks}')"
   ]
  },
  {
   "cell_type": "code",
   "execution_count": 12,
   "metadata": {},
   "outputs": [
    {
     "name": "stdout",
     "output_type": "stream",
     "text": [
      "['Bill', 'Brandon', 'Jake', 'James', 'Mike']\n"
     ]
    }
   ],
   "source": [
    "names = ['Mike', 'Jake', 'Bill', 'James', 'Brandon']\n",
    "sortedNames = sorted(names)\n",
    "print(sortedNames)"
   ]
  },
  {
   "cell_type": "code",
   "execution_count": 14,
   "metadata": {},
   "outputs": [
    {
     "name": "stdout",
     "output_type": "stream",
     "text": [
      "Marks from high to low: [88.7, 85, 75, 75, 63, 47, 45, 36, 34.6]\n"
     ]
    }
   ],
   "source": [
    "# descending order sort\n",
    "highToLowSort = sorted(marks, reverse = True)\n",
    "print(f'Marks from high to low: {highToLowSort}')"
   ]
  },
  {
   "cell_type": "code",
   "execution_count": 16,
   "metadata": {},
   "outputs": [
    {
     "name": "stdout",
     "output_type": "stream",
     "text": [
      "names length wise : ['Bo', 'Bec', 'Mike', 'Jake', 'Bill', 'James', 'Alice', 'Brandon']\n"
     ]
    }
   ],
   "source": [
    "names = ['Mike', 'Jake', 'Bill', 'James', 'Brandon', 'Bec', 'Alice', 'Bo']\n",
    "lengthWiseSortedNames = sorted(names , key = len) # key should have a function or a lamda function\n",
    "print(f'names length wise : {lengthWiseSortedNames}')\n"
   ]
  },
  {
   "cell_type": "code",
   "execution_count": 17,
   "metadata": {},
   "outputs": [
    {
     "name": "stdout",
     "output_type": "stream",
     "text": [
      "names length wise : ['Brandon', 'James', 'Alice', 'Mike', 'Jake', 'Bill', 'Bec', 'Bo']\n"
     ]
    }
   ],
   "source": [
    "lengthWiseDescSortedNames = sorted(names , key = len , reverse = True)\n",
    "print(f'names length wise : {lengthWiseDescSortedNames}')"
   ]
  },
  {
   "cell_type": "code",
   "execution_count": null,
   "metadata": {},
   "outputs": [],
   "source": [
    "# Applying function on other types of data\n",
    "- min\n",
    "- max"
   ]
  },
  {
   "cell_type": "code",
   "execution_count": 20,
   "metadata": {},
   "outputs": [
    {
     "name": "stdout",
     "output_type": "stream",
     "text": [
      "Enter a value: 54\n",
      "Enter a value: 35\n",
      "Enter a value: 23\n",
      "the smallest value is: 23\n",
      "the largest value is: 54\n"
     ]
    }
   ],
   "source": [
    "a = int(input('Enter a value: '))\n",
    "b = int(input('Enter a value: '))\n",
    "c = int(input('Enter a value: '))\n",
    "minValue = min(a,b,c) # we are directly giving numbers. not a list\n",
    "print(f'the smallest value is: {minValue}')\n",
    "maxValue = max(a,b,c) # we are directly giving numbers. not a list\n",
    "print(f'the largest value is: {maxValue}')"
   ]
  },
  {
   "cell_type": "markdown",
   "metadata": {},
   "source": [
    "# Other builtin functions\n",
    "- abs() - absolute value\n",
    "- chr() - converts a number into a character based on unicode\n",
    "- ord() - converts a character into a number based on unicode\n",
    "- pow() - power \n",
    "- round() - round up or rounds down the value depending on the value have."
   ]
  },
  {
   "cell_type": "code",
   "execution_count": 22,
   "metadata": {},
   "outputs": [
    {
     "name": "stdout",
     "output_type": "stream",
     "text": [
      "Enter age: -7\n",
      "The age is: 7\n"
     ]
    }
   ],
   "source": [
    "age = int(input('Enter age: '))\n",
    "age = abs(age)\n",
    "print(f'The age is: {age}')"
   ]
  },
  {
   "cell_type": "code",
   "execution_count": 23,
   "metadata": {},
   "outputs": [
    {
     "name": "stdout",
     "output_type": "stream",
     "text": [
      "a\n"
     ]
    }
   ],
   "source": [
    "charNum = 97\n",
    "char = chr(charNum)\n",
    "print(char)"
   ]
  },
  {
   "cell_type": "code",
   "execution_count": 24,
   "metadata": {},
   "outputs": [
    {
     "name": "stdout",
     "output_type": "stream",
     "text": [
      "99\n"
     ]
    }
   ],
   "source": [
    "char = 'c'\n",
    "charNum = ord(char)\n",
    "print(charNum)"
   ]
  },
  {
   "cell_type": "code",
   "execution_count": 3,
   "metadata": {},
   "outputs": [
    {
     "name": "stdout",
     "output_type": "stream",
     "text": [
      "32\n",
      "32\n"
     ]
    }
   ],
   "source": [
    "a = 2\n",
    "b = 5\n",
    "power = pow(a, b)\n",
    "print(power)\n",
    "\n",
    "print(a ** b )"
   ]
  },
  {
   "cell_type": "code",
   "execution_count": 4,
   "metadata": {},
   "outputs": [
    {
     "name": "stdout",
     "output_type": "stream",
     "text": [
      "2\n"
     ]
    }
   ],
   "source": [
    "# round\n",
    "a = 2.43634\n",
    "b = round(a)\n",
    "print(b)"
   ]
  },
  {
   "cell_type": "code",
   "execution_count": 5,
   "metadata": {},
   "outputs": [
    {
     "name": "stdout",
     "output_type": "stream",
     "text": [
      "3\n"
     ]
    }
   ],
   "source": [
    "a = 2.63634\n",
    "b = round(a)\n",
    "print(b)"
   ]
  },
  {
   "cell_type": "code",
   "execution_count": 6,
   "metadata": {},
   "outputs": [
    {
     "name": "stdout",
     "output_type": "stream",
     "text": [
      "2.466\n"
     ]
    }
   ],
   "source": [
    "a = 2.46634\n",
    "b = round(a, 3)\n",
    "print(b)"
   ]
  },
  {
   "cell_type": "code",
   "execution_count": 7,
   "metadata": {},
   "outputs": [
    {
     "name": "stdout",
     "output_type": "stream",
     "text": [
      "2.47\n"
     ]
    }
   ],
   "source": [
    "a = 2.46634\n",
    "b = round(a, 2)\n",
    "print(b)"
   ]
  },
  {
   "cell_type": "markdown",
   "metadata": {},
   "source": [
    "# List Methods\n",
    "- They look similar to functions. but they are not function\n",
    "- all functions return a value after processing\n",
    "- not all methods return a value\n",
    "- Syntax:\n",
    "```python\n",
    "listName.methodName(param1, param2,....) # when the method does not returns a value\n",
    "variableName = listName.methodName(param1, param2,....) # when the method  return a value\n",
    "```\n",
    "- most list methods edit the original list\n",
    "- the methods which edit the list does not return anything. WE cannot use second syntax for this.\n",
    "- pop method is an exception for this as it return a value."
   ]
  },
  {
   "cell_type": "markdown",
   "metadata": {},
   "source": [
    "# Methods to put new values into the list\n",
    "- append - takes the provided value(could be any type of data) and put the value at the end of the list\n",
    "- extend - combines two lists int one. \n",
    "- insert - we can place the provided value at a provided index.\n",
    "- Parameter that we provide\n",
    "    - takes an index where we want to place the value\n",
    "    - the value we want to place\n",
    "- insert  method does not replace the value at the provided index.\n",
    "- it moves all values to the right and the places the value in the empty spot that got generated.\n",
    "<p style= \"color: red\">These methods do not return any value. WE use the first syntax</p>"
   ]
  },
  {
   "cell_type": "code",
   "execution_count": 14,
   "metadata": {},
   "outputs": [
    {
     "name": "stdout",
     "output_type": "stream",
     "text": [
      "Enter today's sales45\n",
      "[4, 63, 67, 47, 45, 76, 46, 45]\n"
     ]
    }
   ],
   "source": [
    "salesData = [4,63,67,47,45,76,46]\n",
    "todaySales = int(input(\"Enter today's sales\"))\n",
    "salesData.append(todaySales)\n",
    "print(salesData)"
   ]
  },
  {
   "cell_type": "code",
   "execution_count": 15,
   "metadata": {},
   "outputs": [
    {
     "name": "stdout",
     "output_type": "stream",
     "text": [
      "[4, 63, 67, 47, 45, 76, 46, 45, [64, 63, 62]]\n"
     ]
    }
   ],
   "source": [
    "threeDaySales = [64,63,62]\n",
    "salesData.append(threeDaySales)\n",
    "print(salesData)"
   ]
  },
  {
   "cell_type": "code",
   "execution_count": 16,
   "metadata": {},
   "outputs": [
    {
     "name": "stdout",
     "output_type": "stream",
     "text": [
      "[4, 63, 67, 47, 45, 76, 46, 45, [64, 63, 62], 57, 85, 54, 75, 75, 34]\n"
     ]
    }
   ],
   "source": [
    "# extend\n",
    "newWeekSales = [57,85,54,75,75,34]\n",
    "salesData.extend(newWeekSales)\n",
    "print(salesData)"
   ]
  },
  {
   "cell_type": "code",
   "execution_count": 17,
   "metadata": {},
   "outputs": [
    {
     "name": "stdout",
     "output_type": "stream",
     "text": [
      "['Apples', 'Bananas', 'Oranges', 'carrots', 'Potatos', 'Onions']\n",
      "['Apples', 'Bananas', 'Oranges']\n",
      "['carrots', 'Potatos', 'Onions']\n"
     ]
    }
   ],
   "source": [
    "# using + instead of extend\n",
    "# this operation creates a new list with all the values.\n",
    "fruitsList = ['Apples', 'Bananas', 'Oranges']\n",
    "vegetables = ['carrots', 'Potatos', 'Onions']\n",
    "groceryList = fruitsList + vegetables\n",
    "print(groceryList)\n",
    "print(fruitsList)\n",
    "print(vegetables)"
   ]
  },
  {
   "cell_type": "code",
   "execution_count": 18,
   "metadata": {},
   "outputs": [
    {
     "name": "stdout",
     "output_type": "stream",
     "text": [
      "[65, 34, 43, 56, 45, 34, 64]\n"
     ]
    }
   ],
   "source": [
    "# forgot to add a sales data for the first day, 3rd of the week\n",
    "salesData = [34,56,45,34,64]\n",
    "salesData.insert(0, 65)\n",
    "salesData.insert(2, 43)\n",
    "print(salesData)"
   ]
  },
  {
   "cell_type": "markdown",
   "metadata": {},
   "source": [
    "# problem when we use the wrong syntax\n",
    "- append, extend and the insert does not return anything.\n",
    "- if use a variable to store result we get a value called None.\n",
    "- we generally use none to erase values in a variable or represent and empty variable.(varable for which we dont value yet)\n"
   ]
  },
  {
   "cell_type": "markdown",
   "metadata": {},
   "source": [
    "- in some situtation we use the same list as the variable name to store result thinking that it will make a permanent change like the type casting from 1st chapter. Which is not valid and we endup loosing the original list completely"
   ]
  },
  {
   "cell_type": "code",
   "execution_count": 20,
   "metadata": {},
   "outputs": [
    {
     "name": "stdout",
     "output_type": "stream",
     "text": [
      "None\n"
     ]
    }
   ],
   "source": [
    "salesData = [34,56,45,34,64]\n",
    "salesData = salesData.append(78)\n",
    "print(salesData)"
   ]
  },
  {
   "cell_type": "markdown",
   "metadata": {},
   "source": [
    "# Method that removes values from the list\n",
    "- pop\n",
    "    - with index - removes the value at the provided index\n",
    "    - without index - removes the last value from the list.\n",
    "- remove - removes the first occurance of the provided value. It takes the value in the list not index.\n",
    "- clear - removes all values inside the list. The list will still exist\n",
    "<p style = \"color: red\" >The pop method returns the removed value. But the remove and clear method does not return.</p>"
   ]
  },
  {
   "cell_type": "code",
   "execution_count": 2,
   "metadata": {},
   "outputs": [
    {
     "name": "stdout",
     "output_type": "stream",
     "text": [
      "The removed value is: 34\n",
      "THe list after removing the value: [56, 45, 34, 64]\n"
     ]
    }
   ],
   "source": [
    "salesData = [34,56,45,34,64]\n",
    "poppedValue = salesData.pop(0)\n",
    "print(f'The removed value is: {poppedValue}')\n",
    "print(f'THe list after removing the value: {salesData}')"
   ]
  },
  {
   "cell_type": "code",
   "execution_count": 3,
   "metadata": {},
   "outputs": [
    {
     "name": "stdout",
     "output_type": "stream",
     "text": [
      "The removed value is: 64\n",
      "THe list after removing the value: [56, 45, 34]\n"
     ]
    }
   ],
   "source": [
    "poppedValue = salesData.pop()\n",
    "print(f'The removed value is: {poppedValue}')\n",
    "print(f'THe list after removing the value: {salesData}')"
   ]
  },
  {
   "cell_type": "code",
   "execution_count": 4,
   "metadata": {},
   "outputs": [
    {
     "name": "stdout",
     "output_type": "stream",
     "text": [
      "[56, 45, 34, 64]\n"
     ]
    }
   ],
   "source": [
    "# remove\n",
    "salesData = [34,56,45,34,64]\n",
    "salesData.remove(34)\n",
    "print(salesData)"
   ]
  },
  {
   "cell_type": "code",
   "execution_count": 5,
   "metadata": {},
   "outputs": [
    {
     "name": "stdout",
     "output_type": "stream",
     "text": [
      "[]\n"
     ]
    }
   ],
   "source": [
    "# clear\n",
    "\n",
    "salesData.clear()\n",
    "print(salesData)"
   ]
  },
  {
   "cell_type": "markdown",
   "metadata": {},
   "source": [
    "# reverse and sort\n",
    "- reverse - flips a list\n",
    "- sort - sorts the original list. It does not create a copy like sorted function\n",
    "<p style= \"color: red\">The dont return a value.</p>\n",
    "<p style= \"color: red\">Its better to use sorted function in most situations unless we dont want the original data anymore.</p>"
   ]
  },
  {
   "cell_type": "code",
   "execution_count": 7,
   "metadata": {},
   "outputs": [
    {
     "name": "stdout",
     "output_type": "stream",
     "text": [
      "[5, 4, 3, 2, 1]\n"
     ]
    }
   ],
   "source": [
    "seatingArrangement = [1,2,3,4,5]\n",
    "seatingArrangement.reverse()\n",
    "print(seatingArrangement)"
   ]
  },
  {
   "cell_type": "code",
   "execution_count": 8,
   "metadata": {},
   "outputs": [
    {
     "name": "stdout",
     "output_type": "stream",
     "text": [
      "[34, 45, 45, 57, 74, 86]\n"
     ]
    }
   ],
   "source": [
    "marks = [86,45,74,57,45,34]\n",
    "marks.sort()\n",
    "print(marks)"
   ]
  },
  {
   "cell_type": "markdown",
   "metadata": {},
   "source": [
    "# Method that does not modify the list\n",
    "- copy method - helps to create a backup of the list . returns a list\n",
    "- count - counts the number of times the provided value appears in the list . return an int\n",
    "- index - This is a method that tells the position of the povided value.returns a int.\n",
    "<p style= \"color: red\">These methods return values </p>"
   ]
  },
  {
   "cell_type": "code",
   "execution_count": 9,
   "metadata": {},
   "outputs": [
    {
     "name": "stdout",
     "output_type": "stream",
     "text": [
      "[34, 56, 45, 34, 64, 75]\n",
      "[34, 56, 45, 34, 64]\n"
     ]
    }
   ],
   "source": [
    "# copy method\n",
    "salesData = [34,56,45,34,64]\n",
    "backupList = salesData.copy()\n",
    "salesData.append(75)\n",
    "print(salesData)\n",
    "print(backupList)"
   ]
  },
  {
   "cell_type": "markdown",
   "metadata": {},
   "source": [
    "# never use list2 = list1 to perform a copy\n",
    "- Lists are derived datatype.\n",
    "- When creating a list python create a reference of the object then assigns the reference to the variable/\n",
    "- if we use the above code the reference will be copied to list2. not the actual list."
   ]
  },
  {
   "attachments": {
    "c.jpg": {
     "image/jpeg": "[encoded data removed]"
    }
   },
   "cell_type": "markdown",
   "metadata": {},
   "source": [
    "![c.jpg](attachment:c.jpg)"
   ]
  },
  {
   "cell_type": "code",
   "execution_count": 10,
   "metadata": {},
   "outputs": [
    {
     "name": "stdout",
     "output_type": "stream",
     "text": [
      "100\n",
      "10\n"
     ]
    }
   ],
   "source": [
    "a = 10\n",
    "b = a  # b= 10\n",
    "b = 100 # changing b value\n",
    "print(b)\n",
    "print(a) # a is not affected\n"
   ]
  },
  {
   "cell_type": "code",
   "execution_count": 11,
   "metadata": {},
   "outputs": [
    {
     "name": "stdout",
     "output_type": "stream",
     "text": [
      "100\n"
     ]
    }
   ],
   "source": [
    "l1 = [1, 2, 3]\n",
    "l2 = l1\n",
    "l2[0] = 100 # changing l2's first number to 100\n",
    "print(l1[0]) # l1 is also affected as they have reference"
   ]
  },
  {
   "cell_type": "code",
   "execution_count": 12,
   "metadata": {},
   "outputs": [
    {
     "name": "stdout",
     "output_type": "stream",
     "text": [
      "2\n"
     ]
    }
   ],
   "source": [
    "# count\n",
    "salesData = [34,56,45,34,64]\n",
    "count = salesData.count(34)\n",
    "print(count)"
   ]
  },
  {
   "cell_type": "code",
   "execution_count": 14,
   "metadata": {},
   "outputs": [
    {
     "name": "stdout",
     "output_type": "stream",
     "text": [
      "3\n"
     ]
    }
   ],
   "source": [
    "# index\n",
    "salesData = [34,56,45,34,64]\n",
    "day = salesData.index(45) +1\n",
    "print(day)"
   ]
  },
  {
   "cell_type": "markdown",
   "metadata": {},
   "source": [
    "# Common confusion\n",
    "- methods and function - they look similar but they are not same.\n",
    "    - function --- variableName = functionName(param1, param2,...)\n",
    "    - method --- data.methodName(param1, param2,...) \n",
    "        - we use a variable when a method returns a value of not we dont use a variable.\n",
    "        \n",
    "- indexing and index method\n",
    "    - indexing is used to extract a value from the list by using an index.\n",
    "        - variableName = listName[index] # here the index is the postion of the value. not the value itself\n",
    "        - we provide the index and it returns a value\n",
    "    - index method is used to find the location of a value .\n",
    "        - variableName = listName.index(value)\n",
    "        - we provide the value and it returns and index "
   ]
  },
  {
   "cell_type": "markdown",
   "metadata": {},
   "source": [
    "# Tuple\n",
    "- Tuple is similar to list\n",
    "- once we create a tuple, we cannot change it\n",
    "- tuple uses () instead of []. But only at the time of creating the tuple.\n",
    "- We can use the tuple to perform same operations as list unless the operation is trying to modify.\n",
    "- We can use [] for indexing and slicing\n",
    "- Syntax:\n",
    "```python\n",
    "tupleName = (val1, val2, ....)\n",
    "```"
   ]
  },
  {
   "cell_type": "code",
   "execution_count": 1,
   "metadata": {},
   "outputs": [
    {
     "name": "stdout",
     "output_type": "stream",
     "text": [
      "(78, 76, 98, 87, 56)\n"
     ]
    }
   ],
   "source": [
    "studentMarks = (78, 76, 98, 87, 56)\n",
    "print(studentMarks)"
   ]
  },
  {
   "cell_type": "markdown",
   "metadata": {},
   "source": [
    "# Indexing\n",
    "- tuples like lists has indexes and they start from 0 \n",
    "- Syntax:\n",
    "```python\n",
    "variableName = tupleName[index]\n",
    "print(tupleName[index])\n",
    "```\n",
    "\n",
    "# Slicing \n",
    "- slicing and slicing with step is also same as list\n",
    "- Syntax:\n",
    "```python\n",
    "newTupleName = oldTupleName[startIndex : endIndex : step]\n",
    "print(oldTupleName[startIndex : endIndex : step])\n",
    "```"
   ]
  },
  {
   "cell_type": "code",
   "execution_count": 3,
   "metadata": {},
   "outputs": [
    {
     "name": "stdout",
     "output_type": "stream",
     "text": [
      "(76, 98, 87)\n"
     ]
    }
   ],
   "source": [
    "threeSubjectsMarks = studentMarks[ 1 : 4]\n",
    "print(threeSubjectsMarks)"
   ]
  },
  {
   "cell_type": "code",
   "execution_count": 4,
   "metadata": {},
   "outputs": [
    {
     "name": "stdout",
     "output_type": "stream",
     "text": [
      "(56, 87, 98, 76, 78)\n"
     ]
    }
   ],
   "source": [
    "reversedMarks = studentMarks[ : : -1]\n",
    "print(reversedMarks)"
   ]
  },
  {
   "cell_type": "markdown",
   "metadata": {},
   "source": [
    "# Errors\n",
    "- we cannot change the values in the tuple.\n",
    "- We get an error if we try to change "
   ]
  },
  {
   "cell_type": "code",
   "execution_count": 5,
   "metadata": {},
   "outputs": [
    {
     "ename": "TypeError",
     "evalue": "'tuple' object does not support item assignment",
     "output_type": "error",
     "traceback": [
      "\u001b[1;31m---------------------------------------------------------------------------\u001b[0m",
      "\u001b[1;31mTypeError\u001b[0m                                 Traceback (most recent call last)",
      "\u001b[1;32m<ipython-input-5-62f48441f231>\u001b[0m in \u001b[0;36m<module>\u001b[1;34m\u001b[0m\n\u001b[1;32m----> 1\u001b[1;33m \u001b[0mstudentMarks\u001b[0m\u001b[1;33m[\u001b[0m \u001b[1;36m0\u001b[0m \u001b[1;33m]\u001b[0m \u001b[1;33m=\u001b[0m \u001b[1;36m100\u001b[0m\u001b[1;33m\u001b[0m\u001b[1;33m\u001b[0m\u001b[0m\n\u001b[0m\u001b[0;32m      2\u001b[0m \u001b[0mprint\u001b[0m\u001b[1;33m(\u001b[0m\u001b[0mstudentMarks\u001b[0m\u001b[1;33m)\u001b[0m\u001b[1;33m\u001b[0m\u001b[1;33m\u001b[0m\u001b[0m\n",
      "\u001b[1;31mTypeError\u001b[0m: 'tuple' object does not support item assignment"
     ]
    }
   ],
   "source": [
    "studentMarks[ 0 ] = 100\n",
    "print(studentMarks)"
   ]
  },
  {
   "cell_type": "markdown",
   "metadata": {},
   "source": [
    "# Tuple Methods\n",
    "- as we cannot change values in the tuple, we only have few methods\n",
    "- count - counts the number of times the provided value appears in the tuple . return an int\n",
    "- index - This is a method that tells the position of the povided value.returns a int."
   ]
  },
  {
   "cell_type": "code",
   "execution_count": 7,
   "metadata": {},
   "outputs": [
    {
     "name": "stdout",
     "output_type": "stream",
     "text": [
      "3\n"
     ]
    }
   ],
   "source": [
    "salesDetails = (3,6,36,35,3,5,6,3,4,63,5)\n",
    "threeSales = salesDetails.count(3)\n",
    "print(threeSales)"
   ]
  },
  {
   "cell_type": "code",
   "execution_count": 9,
   "metadata": {},
   "outputs": [
    {
     "name": "stdout",
     "output_type": "stream",
     "text": [
      "4\n"
     ]
    }
   ],
   "source": [
    "salesDetails = (3,6,36,35,3,5,6,3,4,63,5)\n",
    "day = salesDetails.index(35)\n",
    "print(day+1)"
   ]
  },
  {
   "cell_type": "markdown",
   "metadata": {},
   "source": [
    "#  error with method\n",
    "- tuples does not have methods like append, extend , insert and any method that tries to modify\n",
    "- if we still try to use them, we will get an error"
   ]
  },
  {
   "cell_type": "code",
   "execution_count": 10,
   "metadata": {},
   "outputs": [
    {
     "ename": "AttributeError",
     "evalue": "'tuple' object has no attribute 'append'",
     "output_type": "error",
     "traceback": [
      "\u001b[1;31m---------------------------------------------------------------------------\u001b[0m",
      "\u001b[1;31mAttributeError\u001b[0m                            Traceback (most recent call last)",
      "\u001b[1;32m<ipython-input-10-585ad99b3810>\u001b[0m in \u001b[0;36m<module>\u001b[1;34m\u001b[0m\n\u001b[1;32m----> 1\u001b[1;33m \u001b[0msalesDetails\u001b[0m\u001b[1;33m.\u001b[0m\u001b[0mappend\u001b[0m\u001b[1;33m(\u001b[0m\u001b[1;36m40\u001b[0m\u001b[1;33m)\u001b[0m\u001b[1;33m\u001b[0m\u001b[1;33m\u001b[0m\u001b[0m\n\u001b[0m\u001b[0;32m      2\u001b[0m \u001b[0mprint\u001b[0m\u001b[1;33m(\u001b[0m\u001b[0msaledDetails\u001b[0m\u001b[1;33m)\u001b[0m\u001b[1;33m\u001b[0m\u001b[1;33m\u001b[0m\u001b[0m\n",
      "\u001b[1;31mAttributeError\u001b[0m: 'tuple' object has no attribute 'append'"
     ]
    }
   ],
   "source": [
    "salesDetails.append(40)\n",
    "print(saledDetails)"
   ]
  },
  {
   "cell_type": "markdown",
   "metadata": {},
   "source": [
    "# Set\n",
    "- A set is similar to a list. Set does not allow duplicate values.\n",
    "- It will have only one instance of each value.\n",
    "- it uses {} at the time of creation,\n",
    "- Syntax:\n",
    "```python\n",
    "setName = {val1, val2, ....}\n",
    "```\n",
    "- as the set removes the duplicates, there will not be any index.\n",
    "- set does not follow the same order in which we provided the values."
   ]
  },
  {
   "cell_type": "code",
   "execution_count": 18,
   "metadata": {},
   "outputs": [
    {
     "name": "stdout",
     "output_type": "stream",
     "text": [
      "{'AP22343', 'AP11235', 'AP14523'}\n"
     ]
    }
   ],
   "source": [
    "# a company has many vehicles delivering at different location in a network.\n",
    "vehiclesTravelling = {'AP11235', 'AP14523', 'AP22343', 'AP11235', 'AP14523'}\n",
    "print(vehiclesTravelling)"
   ]
  },
  {
   "cell_type": "markdown",
   "metadata": {},
   "source": [
    "# error\n",
    "- set does not have indexes\n",
    "- we cannot extract a values using an index\n",
    "- we cannot perform slicing\n",
    "- we cannot use the index to change a value,"
   ]
  },
  {
   "cell_type": "code",
   "execution_count": 19,
   "metadata": {},
   "outputs": [
    {
     "ename": "TypeError",
     "evalue": "'set' object is not subscriptable",
     "output_type": "error",
     "traceback": [
      "\u001b[1;31m---------------------------------------------------------------------------\u001b[0m",
      "\u001b[1;31mTypeError\u001b[0m                                 Traceback (most recent call last)",
      "\u001b[1;32m<ipython-input-19-473e57c067e0>\u001b[0m in \u001b[0;36m<module>\u001b[1;34m\u001b[0m\n\u001b[1;32m----> 1\u001b[1;33m \u001b[0mfirstVehicle\u001b[0m \u001b[1;33m=\u001b[0m \u001b[0mvehiclesTravelling\u001b[0m\u001b[1;33m[\u001b[0m\u001b[1;36m0\u001b[0m\u001b[1;33m]\u001b[0m\u001b[1;33m\u001b[0m\u001b[1;33m\u001b[0m\u001b[0m\n\u001b[0m\u001b[0;32m      2\u001b[0m \u001b[0mprint\u001b[0m\u001b[1;33m(\u001b[0m\u001b[0mfirstVehicle\u001b[0m\u001b[1;33m)\u001b[0m\u001b[1;33m\u001b[0m\u001b[1;33m\u001b[0m\u001b[0m\n",
      "\u001b[1;31mTypeError\u001b[0m: 'set' object is not subscriptable"
     ]
    }
   ],
   "source": [
    "firstVehicle = vehiclesTravelling[0]\n",
    "print(firstVehicle)"
   ]
  },
  {
   "cell_type": "code",
   "execution_count": 20,
   "metadata": {},
   "outputs": [
    {
     "ename": "TypeError",
     "evalue": "'set' object is not subscriptable",
     "output_type": "error",
     "traceback": [
      "\u001b[1;31m---------------------------------------------------------------------------\u001b[0m",
      "\u001b[1;31mTypeError\u001b[0m                                 Traceback (most recent call last)",
      "\u001b[1;32m<ipython-input-20-b07e7d37dcbb>\u001b[0m in \u001b[0;36m<module>\u001b[1;34m\u001b[0m\n\u001b[1;32m----> 1\u001b[1;33m \u001b[0mtwoVehicle\u001b[0m \u001b[1;33m=\u001b[0m \u001b[0mvehiclesTravelling\u001b[0m\u001b[1;33m[\u001b[0m \u001b[1;33m:\u001b[0m \u001b[1;36m2\u001b[0m\u001b[1;33m]\u001b[0m\u001b[1;33m\u001b[0m\u001b[1;33m\u001b[0m\u001b[0m\n\u001b[0m\u001b[0;32m      2\u001b[0m \u001b[0mprint\u001b[0m\u001b[1;33m(\u001b[0m\u001b[0mtwoVehicle\u001b[0m\u001b[1;33m)\u001b[0m\u001b[1;33m\u001b[0m\u001b[1;33m\u001b[0m\u001b[0m\n",
      "\u001b[1;31mTypeError\u001b[0m: 'set' object is not subscriptable"
     ]
    }
   ],
   "source": [
    "twoVehicle = vehiclesTravelling[ : 2]\n",
    "print(twoVehicle)"
   ]
  },
  {
   "cell_type": "code",
   "execution_count": 21,
   "metadata": {},
   "outputs": [
    {
     "ename": "TypeError",
     "evalue": "'set' object does not support item assignment",
     "output_type": "error",
     "traceback": [
      "\u001b[1;31m---------------------------------------------------------------------------\u001b[0m",
      "\u001b[1;31mTypeError\u001b[0m                                 Traceback (most recent call last)",
      "\u001b[1;32m<ipython-input-21-eb1292564907>\u001b[0m in \u001b[0;36m<module>\u001b[1;34m\u001b[0m\n\u001b[1;32m----> 1\u001b[1;33m \u001b[0mvehiclesTravelling\u001b[0m\u001b[1;33m[\u001b[0m\u001b[1;36m0\u001b[0m\u001b[1;33m]\u001b[0m \u001b[1;33m=\u001b[0m \u001b[1;34m'AP11236'\u001b[0m\u001b[1;33m\u001b[0m\u001b[1;33m\u001b[0m\u001b[0m\n\u001b[0m\u001b[0;32m      2\u001b[0m \u001b[0mprint\u001b[0m\u001b[1;33m(\u001b[0m\u001b[0mvehiclesTravelling\u001b[0m\u001b[1;33m)\u001b[0m\u001b[1;33m\u001b[0m\u001b[1;33m\u001b[0m\u001b[0m\n",
      "\u001b[1;31mTypeError\u001b[0m: 'set' object does not support item assignment"
     ]
    }
   ],
   "source": [
    "vehiclesTravelling[0] = 'AP11236'\n",
    "print(vehiclesTravelling)"
   ]
  },
  {
   "cell_type": "markdown",
   "metadata": {},
   "source": [
    "# Set methods\n",
    "- set methods are not same as list method\n",
    "- add() -- we can add elements into the set . does not return anything.\n",
    "- pop() -- removes a random value from the set and returns it\n"
   ]
  },
  {
   "cell_type": "code",
   "execution_count": 22,
   "metadata": {},
   "outputs": [
    {
     "name": "stdout",
     "output_type": "stream",
     "text": [
      "{'AP22343', 'AP11235', 'AP75633', 'AP14523'}\n"
     ]
    }
   ],
   "source": [
    "vehiclesTravelling. add('AP75633')\n",
    "print(vehiclesTravelling)"
   ]
  },
  {
   "cell_type": "code",
   "execution_count": 23,
   "metadata": {},
   "outputs": [
    {
     "name": "stdout",
     "output_type": "stream",
     "text": [
      "AP22343\n",
      "{'AP11235', 'AP75633', 'AP14523'}\n"
     ]
    }
   ],
   "source": [
    "removedVehicle = vehiclesTravelling. pop()\n",
    "print(removedVehicle)\n",
    "print(vehiclesTravelling)"
   ]
  },
  {
   "cell_type": "markdown",
   "metadata": {},
   "source": [
    "# Set operations\n",
    "- intersection - common values between two sets are extracted into a new set.\n",
    "- intersection_update  - it performs same operation as intersection but the result is saved back into the first set.\n",
    "- union - values from both sets are combined into a new set.\n",
    "- difference - removes the commong values from the first set and returns the remaining values from the first set. second set values are ignored.\n",
    "- difference_update\n",
    "- set1 - set2 and set2 - set1 are not same.\n",
    "- symmetric_difference - it removes the common values from bothe first and second set and return the remaining values from both sets. it does not ignore the second set.\n",
    "- symmetri_diiference_update\n",
    "- issuset - if all values of first set is in second, then first set is subset of second\n",
    "- issuperset - in the same situation second set becomes superset\n",
    "- isdisjoint - if both sets dont have anu common values\n",
    "<p style=\"red\">Only the update methods will change the original set.</p>"
   ]
  },
  {
   "cell_type": "code",
   "execution_count": 29,
   "metadata": {},
   "outputs": [
    {
     "name": "stdout",
     "output_type": "stream",
     "text": [
      "The common vehicles between Chennai and beguluru is {'AP22343', 'AP11235'}\n"
     ]
    }
   ],
   "source": [
    "chennaiVehicles =  {'AP22343', 'AP11235', 'AP14523', 'AP75633'}\n",
    "benguluruVehicles = {'AP22343', 'AP11235', 'AP78345','AP94533'}\n",
    "commonVehicles = chennaiVehicles.intersection(benguluruVehicles)\n",
    "print(f'The common vehicles between Chennai and beguluru is {commonVehicles}')"
   ]
  },
  {
   "cell_type": "code",
   "execution_count": 30,
   "metadata": {},
   "outputs": [
    {
     "name": "stdout",
     "output_type": "stream",
     "text": [
      "The vehicles in Chennai are: {'AP22343', 'AP11235'}\n"
     ]
    }
   ],
   "source": [
    "chennaiVehicles.intersection_update(benguluruVehicles)\n",
    "print(f'The vehicles in Chennai are: {chennaiVehicles}')"
   ]
  },
  {
   "cell_type": "code",
   "execution_count": 31,
   "metadata": {},
   "outputs": [
    {
     "name": "stdout",
     "output_type": "stream",
     "text": [
      "{'AP22343', 'AP14523', 'AP11235', 'AP78345', 'AP94533', 'AP75633'}\n",
      "{'AP22343', 'AP14523', 'AP11235', 'AP78345', 'AP94533', 'AP75633'}\n"
     ]
    }
   ],
   "source": [
    "chennaiVehicles =  {'AP22343', 'AP11235', 'AP14523', 'AP75633'}\n",
    "benguluruVehicles = {'AP22343', 'AP11235', 'AP78345','AP94533'}\n",
    "allVehicles = chennaiVehicles.union(benguluruVehicles)\n",
    "print(allVehicles)\n",
    "allVehicles = benguluruVehicles.union(chennaiVehicles)\n",
    "print(allVehicles)"
   ]
  },
  {
   "cell_type": "code",
   "execution_count": 32,
   "metadata": {},
   "outputs": [
    {
     "name": "stdout",
     "output_type": "stream",
     "text": [
      "The vehicle that travel only in chennai are: {'AP14523', 'AP75633'}\n"
     ]
    }
   ],
   "source": [
    "onlyChennaiVehicles = chennaiVehicles.difference(benguluruVehicles)\n",
    "print(f'The vehicle that travel only in chennai are: {onlyChennaiVehicles}' )"
   ]
  },
  {
   "cell_type": "code",
   "execution_count": 33,
   "metadata": {},
   "outputs": [
    {
     "name": "stdout",
     "output_type": "stream",
     "text": [
      "The vehicle that travel only in benguluru are: {'AP78345', 'AP94533'}\n"
     ]
    }
   ],
   "source": [
    "onlyBenguluruVehicles = benguluruVehicles.difference(chennaiVehicles)\n",
    "print(f'The vehicle that travel only in benguluru are: {onlyBenguluruVehicles}' )"
   ]
  },
  {
   "cell_type": "code",
   "execution_count": 34,
   "metadata": {},
   "outputs": [
    {
     "name": "stdout",
     "output_type": "stream",
     "text": [
      "The vehicles that does not have connections with both cities are: {'AP78345', 'AP94533', 'AP14523', 'AP75633'}\n"
     ]
    }
   ],
   "source": [
    "nonConnectedVehicles = chennaiVehicles.symmetric_difference(benguluruVehicles)\n",
    "print(f'The vehicles that does not have connections with both cities are: {nonConnectedVehicles}' )"
   ]
  },
  {
   "cell_type": "code",
   "execution_count": 36,
   "metadata": {},
   "outputs": [
    {
     "name": "stdout",
     "output_type": "stream",
     "text": [
      "True\n",
      "False\n"
     ]
    }
   ],
   "source": [
    "coorgVehicles = {'AP22343', 'AP11235'}\n",
    "print(coorgVehicles.issubset(benguluruVehicles))\n",
    "print(benguluruVehicles.issubset(coorgVehicles))"
   ]
  },
  {
   "cell_type": "code",
   "execution_count": 37,
   "metadata": {},
   "outputs": [
    {
     "name": "stdout",
     "output_type": "stream",
     "text": [
      "False\n",
      "True\n"
     ]
    }
   ],
   "source": [
    "print(coorgVehicles.issuperset(benguluruVehicles))\n",
    "print(benguluruVehicles.issuperset(coorgVehicles))"
   ]
  },
  {
   "cell_type": "code",
   "execution_count": 38,
   "metadata": {},
   "outputs": [
    {
     "name": "stdout",
     "output_type": "stream",
     "text": [
      "True\n"
     ]
    }
   ],
   "source": [
    "delhiVehicles = {'AP14156', 'AP78532'}\n",
    "print(coorgVehicles.isdisjoint(delhiVehicles))"
   ]
  },
  {
   "cell_type": "markdown",
   "metadata": {},
   "source": [
    "# Dictionaries\n",
    "- dictionaries are made up of key value pairs. The key value pairs are called items.\n",
    "- Similar to a list but it has keys instead of indexes.\n",
    "- keys can be strings, numbers or any other type but mostly we use string for keys.\n",
    "- keys are easy to remember compared to the numbers\n",
    "- values can be of any data type. It can be string, int, float, boolean, lists, tuples, other dictionaries or any object.\n",
    "- Syntax:\n",
    "```python\n",
    "dictionaryName = {key1 : val1 , key2 : val2, key3 :val3 ,..... }\n",
    "dictionaryName = {\n",
    "    key1 : val1 , \n",
    "    key2 : val2, \n",
    "    key3 :val3 ,..... \n",
    "}\n",
    "```\n"
   ]
  },
  {
   "cell_type": "code",
   "execution_count": 3,
   "metadata": {},
   "outputs": [
    {
     "name": "stdout",
     "output_type": "stream",
     "text": [
      "{'first name': 'Max', 'last name': 'Winchester', 'age': 20, 'marks': 99.9, 'isFootballPlayer': True}\n"
     ]
    }
   ],
   "source": [
    "studentDetails = {\n",
    "    'first name' : 'Max',\n",
    "    'last name' : 'Winchester',\n",
    "    'age': 20,\n",
    "    'marks' : 99.9,\n",
    "    'isFootballPlayer' : True\n",
    "}\n",
    "# name, age, marks, isFootballPlayer are keys\n",
    "# Max, 20, 99.9, True are values.\n",
    "print(studentDetails)"
   ]
  },
  {
   "cell_type": "markdown",
   "metadata": {},
   "source": [
    "# Key\n",
    "- Keys are the main components when it comes to dictionaries\n",
    "- keys replaces the indexes when we compare the dictionaries with list\n",
    "- We can use the keys to perform different operations\n",
    "1. extracting a value from the dictionary,\n",
    "2. changing a value in the dictionary / adding new item to the dictionary."
   ]
  },
  {
   "cell_type": "markdown",
   "metadata": {},
   "source": [
    "# extracting a value from the dictionary\n",
    "- syntax:\n",
    "```python\n",
    "print(dictionaryName[key])\n",
    "variableName = dictionaryName[key]\n",
    "```"
   ]
  },
  {
   "cell_type": "code",
   "execution_count": 5,
   "metadata": {},
   "outputs": [
    {
     "name": "stdout",
     "output_type": "stream",
     "text": [
      "Max Winchester\n"
     ]
    }
   ],
   "source": [
    "name = f\"{studentDetails['first name']} {studentDetails['last name']}\"\n",
    "print(name)"
   ]
  },
  {
   "cell_type": "markdown",
   "metadata": {},
   "source": [
    "# Error\n",
    "- We get an error if the key does not exist when we are extracting the value.\n"
   ]
  },
  {
   "cell_type": "code",
   "execution_count": 9,
   "metadata": {},
   "outputs": [
    {
     "ename": "KeyError",
     "evalue": "'grade'",
     "output_type": "error",
     "traceback": [
      "\u001b[1;31m---------------------------------------------------------------------------\u001b[0m",
      "\u001b[1;31mKeyError\u001b[0m                                  Traceback (most recent call last)",
      "\u001b[1;32m<ipython-input-9-4822f30f8841>\u001b[0m in \u001b[0;36m<module>\u001b[1;34m\u001b[0m\n\u001b[1;32m----> 1\u001b[1;33m \u001b[0mprint\u001b[0m\u001b[1;33m(\u001b[0m\u001b[0mstudentDetails\u001b[0m\u001b[1;33m[\u001b[0m\u001b[1;34m'grade'\u001b[0m\u001b[1;33m]\u001b[0m\u001b[1;33m)\u001b[0m\u001b[1;33m\u001b[0m\u001b[1;33m\u001b[0m\u001b[0m\n\u001b[0m",
      "\u001b[1;31mKeyError\u001b[0m: 'grade'"
     ]
    }
   ],
   "source": [
    "print(studentDetails['grade'])"
   ]
  },
  {
   "cell_type": "markdown",
   "metadata": {},
   "source": [
    "# Changing a value in the dictionary or adding new item to the dictionary.\n",
    "- syntax:\n",
    "```python\n",
    "dictionaryName[key] = newValue\n",
    "```\n",
    "- the key inside the [] is needed to change the value or add new item\n",
    "- if the key already exists, then we are changing the value\n",
    "- key does not exist, then we are adding new item."
   ]
  },
  {
   "cell_type": "code",
   "execution_count": 6,
   "metadata": {},
   "outputs": [
    {
     "name": "stdout",
     "output_type": "stream",
     "text": [
      "{'first name': 'Dean', 'last name': 'Winchester', 'age': 20, 'marks': 99.9, 'isFootballPlayer': True}\n"
     ]
    }
   ],
   "source": [
    "studentDetails['first name'] = 'Dean'\n",
    "print(studentDetails)"
   ]
  },
  {
   "cell_type": "code",
   "execution_count": 8,
   "metadata": {},
   "outputs": [
    {
     "name": "stdout",
     "output_type": "stream",
     "text": [
      "{'first name': 'Dean', 'last name': 'Winchester', 'age': 20, 'marks': 99.9, 'isFootballPlayer': True, 'hobby': 'hunting'}\n"
     ]
    }
   ],
   "source": [
    "studentDetails['hobby'] = 'hunting'\n",
    "print(studentDetails)"
   ]
  },
  {
   "cell_type": "markdown",
   "metadata": {},
   "source": [
    "# dictionary methods\n",
    "- most dictionary methods return a value unlike list methods\n",
    "- Syntax:\n",
    "```python\n",
    "print(dictionaryName.methodName())\n",
    "variableName = dictionaryName.methodName()\n",
    "```\n",
    "- get - gets a value from the dictionary. We need to provide a key. if the key does not exists, then it return a None.It does not give an error. WE can also make it to give us a default values if the key does not exists.\n",
    "- pop  - removes a value at the provided key\n",
    "- popitem - removes the last item.\n",
    "- clear - removes all items from the dictionary"
   ]
  },
  {
   "cell_type": "code",
   "execution_count": 10,
   "metadata": {},
   "outputs": [
    {
     "name": "stdout",
     "output_type": "stream",
     "text": [
      "Dean Winchester\n"
     ]
    }
   ],
   "source": [
    "# get\n",
    "fullName = f\"{studentDetails.get('first name')} {studentDetails.get('last name')}\"\n",
    "print(fullName)"
   ]
  },
  {
   "cell_type": "code",
   "execution_count": 12,
   "metadata": {},
   "outputs": [
    {
     "name": "stdout",
     "output_type": "stream",
     "text": [
      "None\n"
     ]
    }
   ],
   "source": [
    "# getting a key that does not exist\n",
    "grade = studentDetails.get('grade')\n",
    "print(grade)"
   ]
  },
  {
   "cell_type": "code",
   "execution_count": 13,
   "metadata": {},
   "outputs": [
    {
     "name": "stdout",
     "output_type": "stream",
     "text": [
      "N/A\n"
     ]
    }
   ],
   "source": [
    "# setting a default value for the get method\n",
    "grade = studentDetails.get('grade' , 'N/A')\n",
    "print(grade)"
   ]
  },
  {
   "cell_type": "code",
   "execution_count": 15,
   "metadata": {},
   "outputs": [
    {
     "name": "stdout",
     "output_type": "stream",
     "text": [
      "0\n"
     ]
    }
   ],
   "source": [
    "marks = {\n",
    "    'Mike' : 99.9,\n",
    "    'Jake' : 78.4,\n",
    "    'Bill' : 54.3\n",
    "}\n",
    "\n",
    "janeMarks = marks.get('jane', 0)\n",
    "print(janeMarks)"
   ]
  },
  {
   "cell_type": "code",
   "execution_count": 17,
   "metadata": {},
   "outputs": [
    {
     "name": "stdout",
     "output_type": "stream",
     "text": [
      "{'how': 1, 'are': 2, 'you': 1, 'what': 1}\n"
     ]
    }
   ],
   "source": [
    "sentence = 'how are you what are you doing'\n",
    "wordCount = {\n",
    "    'how' : 1,\n",
    "    'are' : 1,\n",
    "    'you' : 1,\n",
    "    'what' : 1\n",
    "}\n",
    "word = 'are'\n",
    "value = wordCount.get(word , 0)\n",
    "wordCount[word] = value +1\n",
    "print(wordCount)"
   ]
  },
  {
   "cell_type": "code",
   "execution_count": 1,
   "metadata": {},
   "outputs": [
    {
     "name": "stdout",
     "output_type": "stream",
     "text": [
      "{'how': 1, 'are': 2, 'you': 2, 'what': 1, 'doing': 1}\n"
     ]
    }
   ],
   "source": [
    "sentence = 'how are you what are you doing'\n",
    "wordCount = {\n",
    "}\n",
    "word = 'how'\n",
    "value = wordCount.get(word , 0)\n",
    "wordCount[word] = value +1\n",
    "word = 'are'\n",
    "value = wordCount.get(word , 0)\n",
    "wordCount[word] = value +1\n",
    "word = 'you'\n",
    "value = wordCount.get(word , 0)\n",
    "wordCount[word] = value +1\n",
    "word = 'what'\n",
    "value = wordCount.get(word , 0)\n",
    "wordCount[word] = value +1\n",
    "word = 'are'\n",
    "value = wordCount.get(word , 0)\n",
    "wordCount[word] = value +1\n",
    "word = 'you'\n",
    "value = wordCount.get(word , 0)\n",
    "wordCount[word] = value +1\n",
    "word = 'doing'\n",
    "value = wordCount.get(word , 0)\n",
    "wordCount[word] = value +1\n",
    "print(wordCount)"
   ]
  },
  {
   "cell_type": "code",
   "execution_count": 2,
   "metadata": {},
   "outputs": [
    {
     "name": "stdout",
     "output_type": "stream",
     "text": [
      "78.4\n",
      "{'Mike': 99.9, 'Bill': 54.3}\n"
     ]
    }
   ],
   "source": [
    "# pop method\n",
    "marks = {\n",
    "    'Mike' : 99.9,\n",
    "    'Jake' : 78.4,\n",
    "    'Bill' : 54.3\n",
    "}\n",
    "\n",
    "score = marks.pop('Jake')\n",
    "print(score)\n",
    "print(marks)"
   ]
  },
  {
   "cell_type": "code",
   "execution_count": 3,
   "metadata": {},
   "outputs": [
    {
     "name": "stdout",
     "output_type": "stream",
     "text": [
      "('Bill', 54.3)\n",
      "{'Mike': 99.9}\n"
     ]
    }
   ],
   "source": [
    "# popitem\n",
    "poppedMarks = marks.popitem()\n",
    "print(poppedMarks)\n",
    "print(marks)"
   ]
  },
  {
   "cell_type": "markdown",
   "metadata": {},
   "source": [
    "- keys - gives us all the keys available in the dictionary\n",
    "- values - gives all values in the dictionary\n",
    "- items - gives us all items in the dictionary. The eac item is represented as tuple"
   ]
  },
  {
   "cell_type": "code",
   "execution_count": 12,
   "metadata": {},
   "outputs": [
    {
     "name": "stdout",
     "output_type": "stream",
     "text": [
      "dict_keys(['Mike', 'Jake', 'Bill'])\n",
      "['Mike', 'Jake', 'Bill']\n"
     ]
    }
   ],
   "source": [
    "marks = {\n",
    "    'Mike' : 99.9,\n",
    "    'Jake' : 54.4,\n",
    "    'Bill' : 78.3\n",
    "}\n",
    "\n",
    "print(marks.keys())\n",
    "keys = list(marks.keys())\n",
    "print(keys)"
   ]
  },
  {
   "cell_type": "code",
   "execution_count": 13,
   "metadata": {},
   "outputs": [
    {
     "name": "stdout",
     "output_type": "stream",
     "text": [
      "dict_values([99.9, 54.4, 78.3])\n",
      "[99.9, 54.4, 78.3]\n"
     ]
    }
   ],
   "source": [
    "print(marks.values())\n",
    "values = list(marks.values())\n",
    "print(values)"
   ]
  },
  {
   "cell_type": "code",
   "execution_count": 14,
   "metadata": {},
   "outputs": [
    {
     "name": "stdout",
     "output_type": "stream",
     "text": [
      "dict_items([('Mike', 99.9), ('Jake', 54.4), ('Bill', 78.3)])\n",
      "[('Mike', 99.9), ('Jake', 54.4), ('Bill', 78.3)]\n"
     ]
    }
   ],
   "source": [
    "print(marks.items())\n",
    "items = list(marks.items())\n",
    "print(items)"
   ]
  },
  {
   "cell_type": "markdown",
   "metadata": {},
   "source": [
    "# sortng a dictionary\n",
    "- to sort a dictionary, we use the sorted function. Not the sort method from list. As dictionaries do not have a method called sort.\n",
    "- one thing we have to remember about sorted is it always gives us a list after sorting.\n"
   ]
  },
  {
   "cell_type": "code",
   "execution_count": 17,
   "metadata": {},
   "outputs": [
    {
     "name": "stdout",
     "output_type": "stream",
     "text": [
      "['Bill', 'Jake', 'Mike']\n"
     ]
    }
   ],
   "source": [
    "marks = {\n",
    "    'Mike' : 99.9,\n",
    "    'Jake' : 54.4,\n",
    "    'Bill' : 78.3\n",
    "}\n",
    "\n",
    "sortedNames = sorted(marks) # sorts the keys of the dictionary.\n",
    "print(sortedNames)"
   ]
  },
  {
   "cell_type": "code",
   "execution_count": 18,
   "metadata": {},
   "outputs": [
    {
     "name": "stdout",
     "output_type": "stream",
     "text": [
      "[54.4, 78.3, 99.9]\n"
     ]
    }
   ],
   "source": [
    "sortedValues = sorted(marks.values()) # sorts only the values\n",
    "print(sortedValues)"
   ]
  },
  {
   "cell_type": "code",
   "execution_count": 19,
   "metadata": {},
   "outputs": [
    {
     "name": "stdout",
     "output_type": "stream",
     "text": [
      "[('Bill', 78.3), ('Jake', 54.4), ('Mike', 99.9)]\n"
     ]
    }
   ],
   "source": [
    "sortedItems = sorted(marks.items())  # sorting  items based on keys\n",
    "print(sortedItems)"
   ]
  },
  {
   "cell_type": "code",
   "execution_count": 20,
   "metadata": {},
   "outputs": [
    {
     "name": "stdout",
     "output_type": "stream",
     "text": [
      "[('Jake', 54.4), ('Bill', 78.3), ('Mike', 99.9)]\n"
     ]
    }
   ],
   "source": [
    "#sortedItemsBased on values\n",
    "sortedItemsOnVal = sorted(marks.items(), key = lambda x : x[1])\n",
    "print(sortedItemsOnVal)"
   ]
  },
  {
   "cell_type": "code",
   "execution_count": 21,
   "metadata": {},
   "outputs": [
    {
     "name": "stdout",
     "output_type": "stream",
     "text": [
      "[('Mike', 99.9), ('Bill', 78.3), ('Jake', 54.4)]\n"
     ]
    }
   ],
   "source": [
    "sortedItemsOnValDec = sorted(marks.items(), key = lambda x : x[1], reverse = True)\n",
    "print(sortedItemsOnValDec)"
   ]
  },
  {
   "cell_type": "markdown",
   "metadata": {},
   "source": [
    "# Conversion functions \n",
    "- list() - creates an empty list or converts other collection into a list\n",
    "- tuple()- creates an empty tuple or converts other collection into a tuple\n",
    "- set() - creates an empty set or coverts other collection into a set\n",
    "- dict() - creates an empty dictionary or coverts other collection into a dictionary"
   ]
  },
  {
   "cell_type": "code",
   "execution_count": 1,
   "metadata": {},
   "outputs": [
    {
     "name": "stdout",
     "output_type": "stream",
     "text": [
      "[]\n"
     ]
    }
   ],
   "source": [
    "emptyList = list()\n",
    "print(emptyList)"
   ]
  },
  {
   "cell_type": "code",
   "execution_count": 3,
   "metadata": {},
   "outputs": [
    {
     "name": "stdout",
     "output_type": "stream",
     "text": [
      "[86, 67, 45, 77, 86, 65]\n"
     ]
    }
   ],
   "source": [
    "salesDetails = (86,67,45,77,86,65) # tuple\n",
    "salesList = list(salesDetails)\n",
    "print(salesList)"
   ]
  },
  {
   "cell_type": "code",
   "execution_count": 4,
   "metadata": {},
   "outputs": [
    {
     "name": "stdout",
     "output_type": "stream",
     "text": [
      "()\n"
     ]
    }
   ],
   "source": [
    "emptyTuple = tuple()\n",
    "print(emptyTuple)"
   ]
  },
  {
   "cell_type": "code",
   "execution_count": 5,
   "metadata": {},
   "outputs": [
    {
     "name": "stdout",
     "output_type": "stream",
     "text": [
      "(86, 67, 45, 77, 86, 65)\n"
     ]
    }
   ],
   "source": [
    "salesList = (86,67,45,77,86,65) # tuple\n",
    "salesTuple = tuple(salesDetails)\n",
    "print(salesTuple)"
   ]
  },
  {
   "cell_type": "code",
   "execution_count": 6,
   "metadata": {},
   "outputs": [
    {
     "name": "stdout",
     "output_type": "stream",
     "text": [
      "set()\n"
     ]
    }
   ],
   "source": [
    "emptySet = set()\n",
    "print(emptySet)\n"
   ]
  },
  {
   "cell_type": "code",
   "execution_count": 7,
   "metadata": {},
   "outputs": [
    {
     "name": "stdout",
     "output_type": "stream",
     "text": [
      "[123456781, 123456789, 123456782, 123456783]\n"
     ]
    }
   ],
   "source": [
    "phoneNumbers = [123456789, 123456781, 123456782, 123456783, 123456789, 123456783]\n",
    "phoneNumbers = list(set(phoneNumbers))\n",
    "print(phoneNumbers)"
   ]
  },
  {
   "cell_type": "code",
   "execution_count": 8,
   "metadata": {},
   "outputs": [
    {
     "name": "stdout",
     "output_type": "stream",
     "text": [
      "{}\n"
     ]
    }
   ],
   "source": [
    "emptyDictionary = dict()\n",
    "print(emptyDictionary)"
   ]
  },
  {
   "cell_type": "code",
   "execution_count": 9,
   "metadata": {},
   "outputs": [
    {
     "name": "stdout",
     "output_type": "stream",
     "text": [
      "{'Max': 99.9, 'James': 87.6, 'Jim': 78.4, 'Jake': 87.4}\n"
     ]
    }
   ],
   "source": [
    "data = [\n",
    "    ['Max' , 99.9],\n",
    "    ['James', 87.6],\n",
    "    ['Jim', 78.4],\n",
    "    ['Jake', 87.4]\n",
    "]\n",
    "marks = dict(data)\n",
    "print(marks)"
   ]
  },
  {
   "cell_type": "markdown",
   "metadata": {},
   "source": [
    "# Nested Collections\n",
    "- We can take a collection and put it inside another collection\n",
    "- Working with these are harder.\n",
    "- To work with these you need to understand the stucture of the data.\n",
    "- We will talk about 4 different nested collections\n",
    "- But there are other nested collections aswell.\n",
    "1. Lists inside Lists\n",
    "2. Dictionaries inside list\n",
    "3. lists inside dictionaries\n",
    "4. dictionaries inside dictionaries\n"
   ]
  },
  {
   "cell_type": "markdown",
   "metadata": {},
   "source": [
    "# Lists inside Lists\n",
    "- It creates a table like structure.\n",
    "- The data can be divided into rows and columns\n",
    "- We can have any number of rows and any number of columns\n"
   ]
  },
  {
   "cell_type": "code",
   "execution_count": 24,
   "metadata": {},
   "outputs": [
    {
     "name": "stdout",
     "output_type": "stream",
     "text": [
      "[['Max', 20, 99.9], ['Mike', 21, 64.9], ['Jake', 19, 87.9]]\n"
     ]
    }
   ],
   "source": [
    "studentDetails = [\n",
    "    ['Max', 20, 99.9], \n",
    "    ['Mike', 21, 64.9], \n",
    "    ['Jake', 19, 87.9], \n",
    "]\n",
    "print(studentDetails)"
   ]
  },
  {
   "cell_type": "markdown",
   "metadata": {},
   "source": [
    "# Extracting values from lists inside list\n",
    "- We can use 2 approaches\n",
    "1. We can extract a whole row into a new list. Then use the new list to extract the value at an index. This is a bit more readable and also reduces complexity.\n",
    "2. We can directly use the row and column numbers together and get a value. This is a bit complex to work with.\n",
    "- Syntax:\n",
    "```python\n",
    "newList = listName[rowNumber] # extracts a whole row.\n",
    "singleValue = newList[index]  # uses the previous list to extract a value\n",
    "or\n",
    "singleValue = listName[rowNumber][column Number] # extracts a single value at a particular row and column directly.\n",
    "```"
   ]
  },
  {
   "cell_type": "markdown",
   "metadata": {},
   "source": [
    "<table>\n",
    "    <tr>\n",
    "        <td>col 0</td>\n",
    "        <td>col 1</td>\n",
    "        <td>col 2</td>\n",
    "        <td></td>\n",
    "    </tr>\n",
    "    <tr>\n",
    "        <td>Max</td>\n",
    "        <td>20</td>\n",
    "        <td>99.9</td>\n",
    "        <td>Row 0</td>\n",
    "    </tr>\n",
    "    <tr>\n",
    "        <td>Mike</td>\n",
    "        <td>21</td>\n",
    "        <td>64.9</td>\n",
    "        <td>Row 1</td>\n",
    "    </tr>\n",
    "    <tr>\n",
    "        <td>Jake</td>\n",
    "        <td>19</td>\n",
    "        <td>87.9</td>\n",
    "        <td>Row 2</td>\n",
    "    </tr>\n",
    "    \n",
    "</table>"
   ]
  },
  {
   "cell_type": "code",
   "execution_count": 26,
   "metadata": {},
   "outputs": [
    {
     "name": "stdout",
     "output_type": "stream",
     "text": [
      "['Max', 20, 99.9]\n"
     ]
    }
   ],
   "source": [
    "# get Max' age\n",
    "# 1st way\n",
    "maxData = studentDetails[0]\n",
    "print(maxData)"
   ]
  },
  {
   "cell_type": "code",
   "execution_count": 27,
   "metadata": {},
   "outputs": [
    {
     "name": "stdout",
     "output_type": "stream",
     "text": [
      "20\n"
     ]
    }
   ],
   "source": [
    "age = maxData[1]\n",
    "print(age)"
   ]
  },
  {
   "cell_type": "code",
   "execution_count": 28,
   "metadata": {},
   "outputs": [
    {
     "name": "stdout",
     "output_type": "stream",
     "text": [
      "87.9\n"
     ]
    }
   ],
   "source": [
    "# Extract Jake's Marks\n",
    "# 1st method\n",
    "jakeData = studentDetails[2]\n",
    "score = jakeData[2]\n",
    "print(score)"
   ]
  },
  {
   "cell_type": "code",
   "execution_count": 29,
   "metadata": {},
   "outputs": [
    {
     "name": "stdout",
     "output_type": "stream",
     "text": [
      "20\n"
     ]
    }
   ],
   "source": [
    "# get Max' age\n",
    "# 2nd way\n",
    "age = studentDetails[0][1]\n",
    "print(age)"
   ]
  },
  {
   "cell_type": "code",
   "execution_count": 30,
   "metadata": {},
   "outputs": [
    {
     "name": "stdout",
     "output_type": "stream",
     "text": [
      "87.9\n"
     ]
    }
   ],
   "source": [
    "# Extract Jake's Marks\n",
    "# 2st method\n",
    "score = studentDetails[2][2]\n",
    "print(score)"
   ]
  },
  {
   "cell_type": "markdown",
   "metadata": {},
   "source": [
    "# Dictionaries inside a list\n",
    "- This is better compared to the precious data.\n",
    "- In the previous data,  If actual data is miss aligned, then we get wrong values than expected.\n",
    "- Instead of using a lists inside lists, we can use dictionaries inside lists\n"
   ]
  },
  {
   "cell_type": "code",
   "execution_count": 2,
   "metadata": {},
   "outputs": [
    {
     "name": "stdout",
     "output_type": "stream",
     "text": [
      "[{'name': 'Max Winchester', 'age': 20, 'marks': 99.9}, {'name': 'Dean Winchester', 'age': 21, 'marks': 76.9}, {'name': 'Billy Batson', 'age': 19, 'marks': 82.9}]\n"
     ]
    }
   ],
   "source": [
    "studentDetails = [\n",
    "    {'name' : 'Max Winchester', 'age': 20, 'marks': 99.9},\n",
    "    {'name' : 'Dean Winchester', 'age': 21, 'marks': 76.9},\n",
    "    {'name' : 'Billy Batson', 'age': 19, 'marks': 82.9}\n",
    "]\n",
    "print(studentDetails)"
   ]
  },
  {
   "cell_type": "markdown",
   "metadata": {},
   "source": [
    "# Extracting data from diction\n",
    "- We can use 2 approaches\n",
    "1. We can extract a whole row into a new dictionaru. from the dictionary we can use the key to get the value  This is a bit more readable and also reduces complexity.\n",
    "2. We can directly use the row and key  together and get a value. This is a bit complex to work with.\n",
    "- Syntax:\n",
    "```python\n",
    "dictionaryName = listName[rowNumber] # extracts a whole row.\n",
    "singleValue = dictionaryName[key]  # uses the previous dictionary to extract a value\n",
    "or\n",
    "singleValue = listName[rowNumber][key] # extracts a single value at a particular row and key \n",
    "```"
   ]
  },
  {
   "cell_type": "markdown",
   "metadata": {},
   "source": [
    "<table>\n",
    "    <tr>\n",
    "        <td>Name</td>\n",
    "        <td>Age</td>\n",
    "        <td>Marks</td>\n",
    "        <td></td>\n",
    "    </tr>\n",
    "    <tr>\n",
    "        <td>Max</td>\n",
    "        <td>20</td>\n",
    "        <td>99.9</td>\n",
    "        <td>Row 0</td>\n",
    "    </tr>\n",
    "    <tr>\n",
    "        <td>Mike</td>\n",
    "        <td>21</td>\n",
    "        <td>64.9</td>\n",
    "        <td>Row 1</td>\n",
    "    </tr>\n",
    "    <tr>\n",
    "        <td>Jake</td>\n",
    "        <td>19</td>\n",
    "        <td>87.9</td>\n",
    "        <td>Row 2</td>\n",
    "    </tr>\n",
    "    \n",
    "</table>"
   ]
  },
  {
   "cell_type": "code",
   "execution_count": 6,
   "metadata": {},
   "outputs": [
    {
     "name": "stdout",
     "output_type": "stream",
     "text": [
      "Max Winchester 20 99.9\n"
     ]
    }
   ],
   "source": [
    "# method 1  # we use this for most operations \n",
    "# use this when you definitely know that a particular key exists.\n",
    "s1 = studentDetails[0]\n",
    "name = s1['name']\n",
    "age = s1['age']\n",
    "marks = s1['marks']\n",
    "print(name, age, marks)"
   ]
  },
  {
   "cell_type": "code",
   "execution_count": 7,
   "metadata": {},
   "outputs": [
    {
     "name": "stdout",
     "output_type": "stream",
     "text": [
      "Max Winchester 20 99.9\n"
     ]
    }
   ],
   "source": [
    "# method 2\n",
    "name = studentDetails[0]['name']\n",
    "age = studentDetails[0]['age']\n",
    "marks = studentDetails[0]['marks']\n",
    "print(name, age, marks)"
   ]
  },
  {
   "cell_type": "code",
   "execution_count": 10,
   "metadata": {},
   "outputs": [
    {
     "name": "stdout",
     "output_type": "stream",
     "text": [
      "name=Max Winchester, age=20, marks=99.9, hobby=hockey\n",
      "name=Dean Winchester, age=21, marks=76.9, hobby=N/A\n"
     ]
    }
   ],
   "source": [
    "# Using get method instead.\n",
    "# use this when you dont know that a particular key exists.\n",
    "studentDetails = [\n",
    "    {'name' : 'Max Winchester', 'age': 20, 'marks': 99.9 , 'hobby': 'hockey'},\n",
    "    {'name' : 'Dean Winchester', 'age': 21, 'marks': 76.9},\n",
    "    {'name' : 'Billy Batson', 'age': 19, 'marks': 82.9}\n",
    "]\n",
    "\n",
    "\n",
    "s1 = studentDetails[0]\n",
    "name = s1.get('name')\n",
    "age = s1.get('age')\n",
    "marks = s1.get('marks')\n",
    "hobby = s1.get('hobby', 'N/A')\n",
    "print(f'name={name}, age={age}, marks={marks}, hobby={hobby}')\n",
    "\n",
    "\n",
    "s2 = studentDetails[1]\n",
    "name = s2.get('name')\n",
    "age = s2.get('age')\n",
    "marks = s2.get('marks')\n",
    "hobby = s2.get('hobby', 'N/A')\n",
    "print(f'name={name}, age={age}, marks={marks}, hobby={hobby}')\n"
   ]
  },
  {
   "cell_type": "markdown",
   "metadata": {},
   "source": [
    "# Lists inside dictionaries\n",
    "- dictionaries can have lists inside them.\n",
    "- But any collection is not limited to have same type of data.\n",
    "- each internal value can be different.\n",
    "- we can have a number, string, list, dictionary,,, inside a collection"
   ]
  },
  {
   "cell_type": "code",
   "execution_count": 12,
   "metadata": {},
   "outputs": [
    {
     "name": "stdout",
     "output_type": "stream",
     "text": [
      "{'name': \"jenny's Lemonade Stand\", 'sales': [45, 7, 2, 57, 357, 34], 'ratings': [4.6, 3.9, 4.9, 5, 3.4]}\n"
     ]
    }
   ],
   "source": [
    "\n",
    "lemonadeStand = {\n",
    "    'name' : \"jenny's Lemonade Stand\",\n",
    "    'sales' : [45,7,2,57,357,34],\n",
    "    'ratings' : [4.6, 3.9, 4.9, 5, 3.4]\n",
    "}\n",
    "print(lemonadeStand)"
   ]
  },
  {
   "cell_type": "markdown",
   "metadata": {},
   "source": [
    "#Extracting values from the lists inside dictionaries\n",
    "- - We can use 2 approaches\n",
    "1. We can extract a whole list using the key and store it into a new list. from the list we can use the inde to get the value  This is a bit more readable and also reduces complexity.\n",
    "2. We can directly use the key and index together and get a value. This is a bit complex to work with.\n",
    "- Syntax:\n",
    "```python\n",
    "listName = dictionaryName[key] # extracts a whole list.\n",
    "singleValue = listName[index]  # uses the previous list to extract a value\n",
    "or\n",
    "singleValue = dictionaryName[key][index] # extracts a single value at a particular key and index\n",
    "```\n",
    "- we can use the get methods instead of [] # this is a bit more useful here as we need to check of the key exists first"
   ]
  },
  {
   "cell_type": "code",
   "execution_count": 14,
   "metadata": {},
   "outputs": [
    {
     "name": "stdout",
     "output_type": "stream",
     "text": [
      "7\n"
     ]
    }
   ],
   "source": [
    "# method 1\n",
    "salesData = lemonadeStand['sales']\n",
    "secondDaySales = salesData[1]\n",
    "print(secondDaySales)"
   ]
  },
  {
   "cell_type": "code",
   "execution_count": 16,
   "metadata": {},
   "outputs": [
    {
     "name": "stdout",
     "output_type": "stream",
     "text": [
      "7\n"
     ]
    }
   ],
   "source": [
    "# method 2\n",
    "secondDaySales = lemonadeStand['sales'][1]\n",
    "print(secondDaySales)"
   ]
  },
  {
   "cell_type": "code",
   "execution_count": 17,
   "metadata": {},
   "outputs": [
    {
     "name": "stdout",
     "output_type": "stream",
     "text": [
      "None\n"
     ]
    }
   ],
   "source": [
    "# get method # better to check first before we extract\n",
    "address = lemonadeStand.get('address')\n",
    "print(address)"
   ]
  },
  {
   "cell_type": "code",
   "execution_count": 18,
   "metadata": {},
   "outputs": [
    {
     "name": "stdout",
     "output_type": "stream",
     "text": [
      "83.66666666666667\n"
     ]
    }
   ],
   "source": [
    "salesData = lemonadeStand['sales']\n",
    "print(sum(salesData)/ len(salesData))"
   ]
  },
  {
   "cell_type": "code",
   "execution_count": null,
   "metadata": {},
   "outputs": [],
   "source": [
    "# dictionary inside dictionary\n",
    "- It not limited to gave all values in the dictionary to be same type.\n",
    "- "
   ]
  },
  {
   "cell_type": "code",
   "execution_count": 20,
   "metadata": {},
   "outputs": [
    {
     "name": "stdout",
     "output_type": "stream",
     "text": [
      "{'address': {'city': 'London',\n",
      "             'door_no': 27,\n",
      "             'street': 'Wellington Steet',\n",
      "             'zipcode': 325343},\n",
      " 'age': 20,\n",
      " 'marks': 99.9,\n",
      " 'name': 'Mike'}\n"
     ]
    }
   ],
   "source": [
    "import pprint\n",
    "address = {\n",
    "    'door_no': 27,\n",
    "    'street': 'Wellington Steet',\n",
    "    'city': 'London',\n",
    "    'zipcode' : 325343\n",
    "}\n",
    "\n",
    "person = {\n",
    "    'name': 'Mike',\n",
    "    'age': 20,\n",
    "    'marks': 99.9,\n",
    "    'address': address\n",
    "}\n",
    "pprint.pprint(person)"
   ]
  },
  {
   "cell_type": "code",
   "execution_count": 21,
   "metadata": {},
   "outputs": [
    {
     "name": "stdout",
     "output_type": "stream",
     "text": [
      "{'address': {'city': 'London',\n",
      "             'door_no': 27,\n",
      "             'street': 'Wellington Steet',\n",
      "             'zipcode': 325343},\n",
      " 'age': 20,\n",
      " 'marks': 99.9,\n",
      " 'name': 'Mike'}\n"
     ]
    }
   ],
   "source": [
    "person = {\n",
    "    'name': 'Mike',\n",
    "    'age': 20,\n",
    "    'marks': 99.9,\n",
    "    'address': {\n",
    "        'door_no': 27,\n",
    "        'street': 'Wellington Steet',\n",
    "        'city': 'London',\n",
    "        'zipcode' : 325343\n",
    "    }\n",
    "}\n",
    "pprint.pprint(person)"
   ]
  },
  {
   "cell_type": "markdown",
   "metadata": {},
   "source": [
    "# display city and zip code\n",
    "- We can use 2 approaches\n",
    "1. We can extract a whole dictionary using the key and store it into a new dictionary. from the new dictionary we can use the key again to get the value  This is a bit more readable and also reduces complexity.\n",
    "2. We can directly use the key and internal key together and get a value. This is a bit complex to work with.\n",
    "- Syntax:\n",
    "```python\n",
    "newDictionaryName = dictionaryName[key] # extracts a whole list.\n",
    "singleValue = newDictionaryName[innerKey]  # uses the previous list to extract a value\n",
    "or\n",
    "singleValue = dictionaryName[key][innerKey] # extracts a single value at a particular key and index\n",
    "```\n",
    "- we can use the get methods instead of [] # this is a bit more useful here as we need to check of the key exists first"
   ]
  },
  {
   "cell_type": "code",
   "execution_count": 22,
   "metadata": {},
   "outputs": [
    {
     "name": "stdout",
     "output_type": "stream",
     "text": [
      "London 325343\n"
     ]
    }
   ],
   "source": [
    "address = person['address']\n",
    "city = address['city']\n",
    "zipCode = address['zipcode']\n",
    "print(city, zipCode)"
   ]
  },
  {
   "cell_type": "code",
   "execution_count": 23,
   "metadata": {},
   "outputs": [
    {
     "name": "stdout",
     "output_type": "stream",
     "text": [
      "London 325343\n"
     ]
    }
   ],
   "source": [
    "city = person['address']['city']\n",
    "zipCode = person['address']['zipcode']\n",
    "print(city, zipCode)"
   ]
  },
  {
   "cell_type": "code",
   "execution_count": 25,
   "metadata": {},
   "outputs": [
    {
     "name": "stdout",
     "output_type": "stream",
     "text": [
      "None\n"
     ]
    }
   ],
   "source": [
    "print(address.get('country'))"
   ]
  },
  {
   "cell_type": "code",
   "execution_count": 26,
   "metadata": {},
   "outputs": [
    {
     "name": "stdout",
     "output_type": "stream",
     "text": [
      "None\n"
     ]
    }
   ],
   "source": [
    "print(person.get('grades'))"
   ]
  },
  {
   "cell_type": "markdown",
   "metadata": {},
   "source": [
    "# Real data\n",
    "- Real data might be as simple as the above nested collections.\n",
    "- Or they can be more complex by combining two or more of these types of collections.\n",
    "- We need to understand the data and parse the data.\n",
    "- Some Example data will be csv/ excel file data or JSON data coming from a web server.\n",
    "- We talked about some data that has 1 or 2 nested levels. But actual data will have more nested levels.\n",
    "- We need to understand the data and extract things necessary for us.\n",
    "- we will learn the looping in the next chapter. Here we manually data using a few steps we follow repeatedly.\n"
   ]
  },
  {
   "cell_type": "markdown",
   "metadata": {},
   "source": [
    "# Steps to follow \n",
    "- It is always good to read the data and understand it\n",
    "- Incase if we dont understand everything then we use the following steps.\n",
    "1. know the data type.\n",
    "2. if it is a dictionary, we have to use the keys method.It lists out the keys available in the dictionary. \n",
    "    2.1 Check if key you need exists directly\n",
    "        a. if it is then extract it and save it into a variable\n",
    "    2.2 if it does not exists\n",
    "        b. check for something close to what we want to get and then extract it\n",
    "3. if it is a list, print the length of the list  and use the index to extract the value\n",
    "4. repeat the same unti we get the data that we need."
   ]
  },
  {
   "cell_type": "code",
   "execution_count": 11,
   "metadata": {},
   "outputs": [],
   "source": [
    "schoolDetails = {\n",
    "    'name' : 'St. Xaviours School',\n",
    "    'address': {\n",
    "        'door no.':  '67-3-6',\n",
    "        'street name': 'John Street',\n",
    "        'city': 'Newyork',\n",
    "        'zipcode': 42346\n",
    "    },\n",
    "    'grades': [\n",
    "        {\n",
    "            'name':'Bill Gates',\n",
    "            'popularity': 7,\n",
    "            'students': {\n",
    "                101:{'id':101,'name': 'Max', 'age': 20, 'marks': 99.9},\n",
    "                102:{'id':102,'name': 'Jim', 'age': 19, 'marks': 87.3},\n",
    "                103:{'id':103,'name': 'John', 'age': 20, 'marks': 83.2},\n",
    "            },\n",
    "            'teachers':[\n",
    "                {'id':1313,'name': 'Jenny', 'age': 35, 'subject': 'Math'},\n",
    "                {'id':4356, 'name': 'Bill', 'age': 40, 'subject': 'Phsics'},\n",
    "            ]\n",
    "        },\n",
    "        {\n",
    "            'name':'Larry page',\n",
    "            'popularity': 9,\n",
    "            'students': {\n",
    "                201:{\n",
    "                    'id':201,\n",
    "                    'name': 'Hugo', \n",
    "                    'age': 21, \n",
    "                    'marks': 99.9\n",
    "                },\n",
    "                202:{'id':202,'name': 'Eli', 'age': 22, 'marks': 87.3},\n",
    "                203:{'id':203,'name': 'jack', 'age': 21, 'marks': 83.2},\n",
    "            },\n",
    "            'teachers':[\n",
    "                {'id':1313,'name': 'Jenny', 'age': 35, 'subject': 'Math'},\n",
    "                {'id':4356, 'name': 'Bill', 'age': 40, 'subject': 'Phsics'},\n",
    "            ]\n",
    "        }\n",
    "    ],\n",
    "    'rating': 4.6,\n",
    "    'type': 'elementry school'\n",
    "    \n",
    "    \n",
    "}"
   ]
  },
  {
   "cell_type": "code",
   "execution_count": 3,
   "metadata": {},
   "outputs": [],
   "source": [
    "# Task 1: get the name of the school and the city in which the school is\n",
    "# Task 2: Get 1st student and teacher from all the grades.\n"
   ]
  },
  {
   "cell_type": "markdown",
   "metadata": {},
   "source": [
    "# Task 1: get the name of the school and the city in which the school is\n",
    "1. know the data type.\n",
    "2. if it is a dictionary, we have to use the keys method.It lists out the keys available in the dictionary. \n",
    "    2.1 Check if key you need exists directly\n",
    "        a. if it is then extract it and save it into a variable\n",
    "    2.2 if it does not exists\n",
    "        b. check for something close to what we want to get and then extract it\n",
    "3. if it is a list, print the length of the list  and use the index to extract the value\n",
    "4. repeat the same unti we get the data that we need."
   ]
  },
  {
   "cell_type": "code",
   "execution_count": 4,
   "metadata": {},
   "outputs": [
    {
     "name": "stdout",
     "output_type": "stream",
     "text": [
      "<class 'dict'>\n"
     ]
    }
   ],
   "source": [
    "print(type(schoolDetails))"
   ]
  },
  {
   "cell_type": "code",
   "execution_count": 5,
   "metadata": {},
   "outputs": [
    {
     "name": "stdout",
     "output_type": "stream",
     "text": [
      "dict_keys(['name', 'address', 'grades', 'rating', 'type'])\n"
     ]
    }
   ],
   "source": [
    "print(schoolDetails.keys())"
   ]
  },
  {
   "cell_type": "code",
   "execution_count": 6,
   "metadata": {},
   "outputs": [
    {
     "name": "stdout",
     "output_type": "stream",
     "text": [
      "{'door no.': '67-3-6', 'street name': 'John Street', 'city': 'Newyork', 'zipcode': 42346}\n"
     ]
    }
   ],
   "source": [
    "address = schoolDetails['address']\n",
    "print(address)"
   ]
  },
  {
   "cell_type": "code",
   "execution_count": 7,
   "metadata": {},
   "outputs": [
    {
     "name": "stdout",
     "output_type": "stream",
     "text": [
      "St. Xaviours School Newyork\n"
     ]
    }
   ],
   "source": [
    "print(schoolDetails['name'] , address['city'])"
   ]
  },
  {
   "cell_type": "markdown",
   "metadata": {},
   "source": [
    "# Task 2: Get 1st student and teacher from all the grades.\n",
    "1. know the data type.\n",
    "2. if it is a dictionary, we have to use the keys method.It lists out the keys available in the dictionary. \n",
    "    2.1 Check if key you need exists directly\n",
    "        a. if it is then extract it and save it into a variable\n",
    "    2.2 if it does not exists\n",
    "        b. check for something close to what we want to get and then extract it\n",
    "3. if it is a list, print the length of the list  and use the index to extract the value\n",
    "4. repeat the same unti we get the data that we need."
   ]
  },
  {
   "cell_type": "code",
   "execution_count": 12,
   "metadata": {},
   "outputs": [
    {
     "name": "stdout",
     "output_type": "stream",
     "text": [
      "<class 'dict'>\n"
     ]
    }
   ],
   "source": [
    "print(type(schoolDetails))"
   ]
  },
  {
   "cell_type": "code",
   "execution_count": 13,
   "metadata": {},
   "outputs": [
    {
     "name": "stdout",
     "output_type": "stream",
     "text": [
      "dict_keys(['name', 'address', 'grades', 'rating', 'type'])\n"
     ]
    }
   ],
   "source": [
    "print(schoolDetails.keys())"
   ]
  },
  {
   "cell_type": "code",
   "execution_count": 14,
   "metadata": {},
   "outputs": [
    {
     "name": "stdout",
     "output_type": "stream",
     "text": [
      "[{'name': 'Bill Gates', 'popularity': 7, 'students': {101: {'id': 101, 'name': 'Max', 'age': 20, 'marks': 99.9}, 102: {'id': 102, 'name': 'Jim', 'age': 19, 'marks': 87.3}, 103: {'id': 103, 'name': 'John', 'age': 20, 'marks': 83.2}}, 'teachers': [{'id': 1313, 'name': 'Jenny', 'age': 35, 'subject': 'Math'}, {'id': 4356, 'name': 'Bill', 'age': 40, 'subject': 'Phsics'}]}, {'name': 'Larry page', 'popularity': 9, 'students': {201: {'id': 201, 'name': 'Hugo', 'age': 21, 'marks': 99.9}, 202: {'id': 202, 'name': 'Eli', 'age': 22, 'marks': 87.3}, 203: {'id': 203, 'name': 'jack', 'age': 21, 'marks': 83.2}}, 'teachers': [{'id': 1313, 'name': 'Jenny', 'age': 35, 'subject': 'Math'}, {'id': 4356, 'name': 'Bill', 'age': 40, 'subject': 'Phsics'}]}]\n"
     ]
    }
   ],
   "source": [
    "grades = schoolDetails['grades']\n",
    "print(grades)"
   ]
  },
  {
   "cell_type": "code",
   "execution_count": 15,
   "metadata": {},
   "outputs": [
    {
     "name": "stdout",
     "output_type": "stream",
     "text": [
      "<class 'list'>\n"
     ]
    }
   ],
   "source": [
    "print(type(grades))"
   ]
  },
  {
   "cell_type": "code",
   "execution_count": 16,
   "metadata": {},
   "outputs": [
    {
     "name": "stdout",
     "output_type": "stream",
     "text": [
      "2\n"
     ]
    }
   ],
   "source": [
    "print(len(grades))"
   ]
  },
  {
   "cell_type": "code",
   "execution_count": 17,
   "metadata": {},
   "outputs": [],
   "source": [
    "grade1 = grades[0]\n",
    "grade2 = grades[1]"
   ]
  },
  {
   "cell_type": "code",
   "execution_count": 18,
   "metadata": {},
   "outputs": [
    {
     "name": "stdout",
     "output_type": "stream",
     "text": [
      "{'name': 'Bill Gates', 'popularity': 7, 'students': {101: {'id': 101, 'name': 'Max', 'age': 20, 'marks': 99.9}, 102: {'id': 102, 'name': 'Jim', 'age': 19, 'marks': 87.3}, 103: {'id': 103, 'name': 'John', 'age': 20, 'marks': 83.2}}, 'teachers': [{'id': 1313, 'name': 'Jenny', 'age': 35, 'subject': 'Math'}, {'id': 4356, 'name': 'Bill', 'age': 40, 'subject': 'Phsics'}]}\n"
     ]
    }
   ],
   "source": [
    "print(grade1)"
   ]
  },
  {
   "cell_type": "code",
   "execution_count": 19,
   "metadata": {},
   "outputs": [
    {
     "name": "stdout",
     "output_type": "stream",
     "text": [
      "{'name': 'Larry page', 'popularity': 9, 'students': {201: {'id': 201, 'name': 'Hugo', 'age': 21, 'marks': 99.9}, 202: {'id': 202, 'name': 'Eli', 'age': 22, 'marks': 87.3}, 203: {'id': 203, 'name': 'jack', 'age': 21, 'marks': 83.2}}, 'teachers': [{'id': 1313, 'name': 'Jenny', 'age': 35, 'subject': 'Math'}, {'id': 4356, 'name': 'Bill', 'age': 40, 'subject': 'Phsics'}]}\n"
     ]
    }
   ],
   "source": [
    "print(grade2)"
   ]
  },
  {
   "cell_type": "code",
   "execution_count": 20,
   "metadata": {},
   "outputs": [
    {
     "name": "stdout",
     "output_type": "stream",
     "text": [
      "<class 'dict'>\n",
      "<class 'dict'>\n"
     ]
    }
   ],
   "source": [
    "print(type(grade1))\n",
    "print(type(grade2))"
   ]
  },
  {
   "cell_type": "code",
   "execution_count": 21,
   "metadata": {},
   "outputs": [
    {
     "name": "stdout",
     "output_type": "stream",
     "text": [
      "dict_keys(['name', 'popularity', 'students', 'teachers'])\n",
      "dict_keys(['name', 'popularity', 'students', 'teachers'])\n"
     ]
    }
   ],
   "source": [
    "print(grade1.keys())\n",
    "print(grade2.keys())"
   ]
  },
  {
   "cell_type": "code",
   "execution_count": 22,
   "metadata": {},
   "outputs": [],
   "source": [
    "g1Students = grade1['students']\n",
    "g2Students = grade2['students']\n",
    "g1Teachers = grade1 ['teachers']\n",
    "g2Teachers = grade2['teachers']"
   ]
  },
  {
   "cell_type": "code",
   "execution_count": 23,
   "metadata": {},
   "outputs": [
    {
     "name": "stdout",
     "output_type": "stream",
     "text": [
      "{101: {'id': 101, 'name': 'Max', 'age': 20, 'marks': 99.9}, 102: {'id': 102, 'name': 'Jim', 'age': 19, 'marks': 87.3}, 103: {'id': 103, 'name': 'John', 'age': 20, 'marks': 83.2}}\n",
      "{201: {'id': 201, 'name': 'Hugo', 'age': 21, 'marks': 99.9}, 202: {'id': 202, 'name': 'Eli', 'age': 22, 'marks': 87.3}, 203: {'id': 203, 'name': 'jack', 'age': 21, 'marks': 83.2}}\n",
      "[{'id': 1313, 'name': 'Jenny', 'age': 35, 'subject': 'Math'}, {'id': 4356, 'name': 'Bill', 'age': 40, 'subject': 'Phsics'}]\n",
      "[{'id': 1313, 'name': 'Jenny', 'age': 35, 'subject': 'Math'}, {'id': 4356, 'name': 'Bill', 'age': 40, 'subject': 'Phsics'}]\n"
     ]
    }
   ],
   "source": [
    "print(g1Students)\n",
    "print(g2Students)\n",
    "print(g1Teachers)\n",
    "print(g2Teachers)"
   ]
  },
  {
   "cell_type": "code",
   "execution_count": 24,
   "metadata": {},
   "outputs": [
    {
     "name": "stdout",
     "output_type": "stream",
     "text": [
      "<class 'dict'>\n",
      "<class 'list'>\n",
      "<class 'dict'>\n",
      "<class 'list'>\n"
     ]
    }
   ],
   "source": [
    "print(type(g1Students))\n",
    "print(type(g1Teachers))\n",
    "print(type(g2Students))\n",
    "print(type(g2Teachers))\n"
   ]
  },
  {
   "cell_type": "code",
   "execution_count": 25,
   "metadata": {},
   "outputs": [
    {
     "name": "stdout",
     "output_type": "stream",
     "text": [
      "dict_keys([101, 102, 103])\n"
     ]
    }
   ],
   "source": [
    "print(g1Students.keys())\n"
   ]
  },
  {
   "cell_type": "code",
   "execution_count": 26,
   "metadata": {},
   "outputs": [
    {
     "name": "stdout",
     "output_type": "stream",
     "text": [
      "{'id': 101, 'name': 'Max', 'age': 20, 'marks': 99.9}\n"
     ]
    }
   ],
   "source": [
    "print(g1Students[101])  # 101 is not index\n"
   ]
  },
  {
   "cell_type": "code",
   "execution_count": 27,
   "metadata": {},
   "outputs": [
    {
     "name": "stdout",
     "output_type": "stream",
     "text": [
      "2\n"
     ]
    }
   ],
   "source": [
    "print(len(g1Teachers))"
   ]
  },
  {
   "cell_type": "code",
   "execution_count": 28,
   "metadata": {},
   "outputs": [
    {
     "name": "stdout",
     "output_type": "stream",
     "text": [
      "{'id': 1313, 'name': 'Jenny', 'age': 35, 'subject': 'Math'}\n"
     ]
    }
   ],
   "source": [
    "print(g1Teachers[0])\n"
   ]
  },
  {
   "cell_type": "code",
   "execution_count": 30,
   "metadata": {},
   "outputs": [
    {
     "name": "stdout",
     "output_type": "stream",
     "text": [
      "dict_keys([201, 202, 203])\n"
     ]
    }
   ],
   "source": [
    "print(g2Students.keys())"
   ]
  },
  {
   "cell_type": "code",
   "execution_count": 32,
   "metadata": {},
   "outputs": [
    {
     "name": "stdout",
     "output_type": "stream",
     "text": [
      "{'id': 201, 'name': 'Hugo', 'age': 21, 'marks': 99.9}\n"
     ]
    }
   ],
   "source": [
    "print(g2Students[201])  # 201 is not index"
   ]
  },
  {
   "cell_type": "code",
   "execution_count": 33,
   "metadata": {},
   "outputs": [
    {
     "name": "stdout",
     "output_type": "stream",
     "text": [
      "2\n"
     ]
    }
   ],
   "source": [
    "print(len(g2Teachers))"
   ]
  },
  {
   "cell_type": "code",
   "execution_count": 34,
   "metadata": {},
   "outputs": [
    {
     "name": "stdout",
     "output_type": "stream",
     "text": [
      "{'id': 1313, 'name': 'Jenny', 'age': 35, 'subject': 'Math'}\n"
     ]
    }
   ],
   "source": [
    "print(g2Teachers[0])"
   ]
  },
  {
   "cell_type": "code",
   "execution_count": null,
   "metadata": {},
   "outputs": [],
   "source": [
    "# Open Weathermaps Data\n",
    "weather =                       \n",
    "\n",
    "{\n",
    "  \"city\": {\n",
    "    \"id\": 3163858,\n",
    "    \"name\": \"Zocca\",\n",
    "    \"coord\": {\n",
    "      \"lon\": 10.99,\n",
    "      \"lat\": 44.34\n",
    "    },\n",
    "    \"country\": \"IT\",\n",
    "    \"population\": 4593,\n",
    "    \"timezone\": 7200\n",
    "  },\n",
    "  \"cod\": \"200\",\n",
    "  \"message\": 0.0582563,\n",
    "  \"cnt\": 7,\n",
    "  \"list\": [\n",
    "    {\n",
    "      \"dt\": 1661857200,\n",
    "      \"sunrise\": 1661834187,\n",
    "      \"sunset\": 1661882248,\n",
    "      \"temp\": {\n",
    "        \"day\": 299.66,\n",
    "        \"min\": 288.93,\n",
    "        \"max\": 299.66,\n",
    "        \"night\": 290.31,\n",
    "        \"eve\": 297.16,\n",
    "        \"morn\": 288.93\n",
    "      },\n",
    "      \"feels_like\": {\n",
    "        \"day\": 299.66,\n",
    "        \"night\": 290.3,\n",
    "        \"eve\": 297.1,\n",
    "        \"morn\": 288.73\n",
    "      },\n",
    "      \"pressure\": 1017,\n",
    "      \"humidity\": 44,\n",
    "      \"weather\": [\n",
    "        {\n",
    "          \"id\": 500,\n",
    "          \"main\": \"Rain\",\n",
    "          \"description\": \"light rain\",\n",
    "          \"icon\": \"10d\"\n",
    "        }\n",
    "      ],\n",
    "      \"speed\": 2.7,\n",
    "      \"deg\": 209,\n",
    "      \"gust\": 3.58,\n",
    "      \"clouds\": 53,\n",
    "      \"pop\": 0.7,\n",
    "      \"rain\": 2.51\n",
    "    },\n",
    "    {\n",
    "      \"dt\": 1661943600,\n",
    "      \"sunrise\": 1661920656,\n",
    "      \"sunset\": 1661968542,\n",
    "      \"temp\": {\n",
    "        \"day\": 295.76,\n",
    "        \"min\": 287.73,\n",
    "        \"max\": 295.76,\n",
    "        \"night\": 289.37,\n",
    "        \"eve\": 292.76,\n",
    "        \"morn\": 287.73\n",
    "      },\n",
    "      \"feels_like\": {\n",
    "        \"day\": 295.64,\n",
    "        \"night\": 289.45,\n",
    "        \"eve\": 292.97,\n",
    "        \"morn\": 287.59\n",
    "      },\n",
    "      \"pressure\": 1014,\n",
    "      \"humidity\": 60,\n",
    "      \"weather\": [\n",
    "        {\n",
    "          \"id\": 500,\n",
    "          \"main\": \"Rain\",\n",
    "          \"description\": \"light rain\",\n",
    "          \"icon\": \"10d\"\n",
    "        }\n",
    "      ],\n",
    "      \"speed\": 2.29,\n",
    "      \"deg\": 215,\n",
    "      \"gust\": 3.27,\n",
    "      \"clouds\": 66,\n",
    "      \"pop\": 0.82,\n",
    "      \"rain\": 5.32\n",
    "    },\n",
    "    {\n",
    "      \"dt\": 1662030000,\n",
    "      \"sunrise\": 1662007126,\n",
    "      \"sunset\": 1662054835,\n",
    "      \"temp\": {\n",
    "        \"day\": 293.38,\n",
    "        \"min\": 287.06,\n",
    "        \"max\": 293.38,\n",
    "        \"night\": 287.06,\n",
    "        \"eve\": 289.01,\n",
    "        \"morn\": 287.84\n",
    "      },\n",
    "      \"feels_like\": {\n",
    "        \"day\": 293.31,\n",
    "        \"night\": 287.01,\n",
    "        \"eve\": 289.05,\n",
    "        \"morn\": 287.85\n",
    "      },\n",
    "      \"pressure\": 1014,\n",
    "      \"humidity\": 71,\n",
    "      \"weather\": [\n",
    "        {\n",
    "          \"id\": 500,\n",
    "          \"main\": \"Rain\",\n",
    "          \"description\": \"light rain\",\n",
    "          \"icon\": \"10d\"\n",
    "        }\n",
    "      ],\n",
    "      \"speed\": 2.67,\n",
    "      \"deg\": 60,\n",
    "      \"gust\": 2.66,\n",
    "      \"clouds\": 97,\n",
    "      \"pop\": 0.84,\n",
    "      \"rain\": 4.49\n",
    "    },\n",
    "    {\n",
    "      \"dt\": 1662116400,\n",
    "      \"sunrise\": 1662093595,\n",
    "      \"sunset\": 1662141127,\n",
    "      \"temp\": {\n",
    "        \"day\": 294.39,\n",
    "        \"min\": 286.8,\n",
    "        \"max\": 294.39,\n",
    "        \"night\": 288.05,\n",
    "        \"eve\": 289.8,\n",
    "        \"morn\": 287.56\n",
    "      },\n",
    "      \"feels_like\": {\n",
    "        \"day\": 294.03,\n",
    "        \"night\": 287.79,\n",
    "        \"eve\": 289.51,\n",
    "        \"morn\": 287.35\n",
    "      },\n",
    "      \"pressure\": 1015,\n",
    "      \"humidity\": 56,\n",
    "      \"weather\": [\n",
    "        {\n",
    "          \"id\": 500,\n",
    "          \"main\": \"Rain\",\n",
    "          \"description\": \"light rain\",\n",
    "          \"icon\": \"10d\"\n",
    "        }\n",
    "      ],\n",
    "      \"speed\": 2.15,\n",
    "      \"deg\": 45,\n",
    "      \"gust\": 1.72,\n",
    "      \"clouds\": 92,\n",
    "      \"pop\": 0.36,\n",
    "      \"rain\": 0.11\n",
    "    },\n",
    "    {\n",
    "      \"dt\": 1662202800,\n",
    "      \"sunrise\": 1662180064,\n",
    "      \"sunset\": 1662227419,\n",
    "      \"temp\": {\n",
    "        \"day\": 294.35,\n",
    "        \"min\": 286.78,\n",
    "        \"max\": 294.44,\n",
    "        \"night\": 288.51,\n",
    "        \"eve\": 290.55,\n",
    "        \"morn\": 288.54\n",
    "      },\n",
    "      \"feels_like\": {\n",
    "        \"day\": 294.14,\n",
    "        \"night\": 288.63,\n",
    "        \"eve\": 290.57,\n",
    "        \"morn\": 288.41\n",
    "      },\n",
    "      \"pressure\": 1015,\n",
    "      \"humidity\": 62,\n",
    "      \"weather\": [\n",
    "        {\n",
    "          \"id\": 500,\n",
    "          \"main\": \"Rain\",\n",
    "          \"description\": \"light rain\",\n",
    "          \"icon\": \"10d\"\n",
    "        }\n",
    "      ],\n",
    "      \"speed\": 2.23,\n",
    "      \"deg\": 288,\n",
    "      \"gust\": 3.34,\n",
    "      \"clouds\": 79,\n",
    "      \"pop\": 1,\n",
    "      \"rain\": 4.84\n",
    "    },\n",
    "    {\n",
    "      \"dt\": 1662289200,\n",
    "      \"sunrise\": 1662266533,\n",
    "      \"sunset\": 1662313710,\n",
    "      \"temp\": {\n",
    "        \"day\": 294.93,\n",
    "        \"min\": 287.9,\n",
    "        \"max\": 294.93,\n",
    "        \"night\": 289.29,\n",
    "        \"eve\": 291.03,\n",
    "        \"morn\": 288.04\n",
    "      },\n",
    "      \"feels_like\": {\n",
    "        \"day\": 294.83,\n",
    "        \"night\": 289.31,\n",
    "        \"eve\": 291.04,\n",
    "        \"morn\": 288.12\n",
    "      },\n",
    "      \"pressure\": 1018,\n",
    "      \"humidity\": 64,\n",
    "      \"weather\": [\n",
    "        {\n",
    "          \"id\": 500,\n",
    "          \"main\": \"Rain\",\n",
    "          \"description\": \"light rain\",\n",
    "          \"icon\": \"10d\"\n",
    "        }\n",
    "      ],\n",
    "      \"speed\": 1.31,\n",
    "      \"deg\": 350,\n",
    "      \"gust\": 1.8,\n",
    "      \"clouds\": 88,\n",
    "      \"pop\": 1,\n",
    "      \"rain\": 3.44\n",
    "    },\n",
    "    {\n",
    "      \"dt\": 1662375600,\n",
    "      \"sunrise\": 1662353002,\n",
    "      \"sunset\": 1662400001,\n",
    "      \"temp\": {\n",
    "        \"day\": 297.89,\n",
    "        \"min\": 288.21,\n",
    "        \"max\": 297.89,\n",
    "        \"night\": 290.4,\n",
    "        \"eve\": 292.15,\n",
    "        \"morn\": 289.67\n",
    "      },\n",
    "      \"feels_like\": {\n",
    "        \"day\": 297.78,\n",
    "        \"night\": 290.3,\n",
    "        \"eve\": 292.06,\n",
    "        \"morn\": 289.68\n",
    "      },\n",
    "      \"pressure\": 1019,\n",
    "      \"humidity\": 52,\n",
    "      \"weather\": [\n",
    "        {\n",
    "          \"id\": 801,\n",
    "          \"main\": \"Clouds\",\n",
    "          \"description\": \"few clouds\",\n",
    "          \"icon\": \"02d\"\n",
    "        }\n",
    "      ],\n",
    "      \"speed\": 2.98,\n",
    "      \"deg\": 34,\n",
    "      \"gust\": 2.25,\n",
    "      \"clouds\": 12,\n",
    "      \"pop\": 0.08\n",
    "    }\n",
    "  ]\n",
    "}\n",
    "                      \n",
    "\n",
    "                   "
   ]
  }
 ],
 "metadata": {
  "kernelspec": {
   "display_name": "Python 3",
   "language": "python",
   "name": "python3"
  },
  "language_info": {
   "codemirror_mode": {
    "name": "ipython",
    "version": 3
   },
   "file_extension": ".py",
   "mimetype": "text/x-python",
   "name": "python",
   "nbconvert_exporter": "python",
   "pygments_lexer": "ipython3",
   "version": "3.8.5"
  }
 },
 "nbformat": 4,
 "nbformat_minor": 4
}
