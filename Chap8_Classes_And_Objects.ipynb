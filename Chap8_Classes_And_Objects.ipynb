{
 "cells": [
  {
   "cell_type": "markdown",
   "id": "83730dd3-322e-4546-b310-aae0dc0862d0",
   "metadata": {},
   "source": [
    "# Object Oriented Programming:\n",
    "- It is a way of writing code.\n",
    "- Combines data and logic together and creates a single entity.\n",
    "- It is used in web applications like flask django applications.\n",
    "- Four Paradigmns of OOP\n",
    "    1. Abstraction - One can use a class to work with in their program without knowing its internal implementation/\n",
    "    2. Encapsulation -  Hiding data from external view.\n",
    "    3. Inheritance - Aquiring resources from a parent.\n",
    "    4. Polymorphism - an operation for different objects doing different things.\n",
    "- A program becomes OOP program if it has classes and objects\n",
    "# Objects:\n",
    "- Real world entity represented in terms of programming.\n",
    "- Any abstract ideas / calculations\n",
    "- Any Abstract Datatypes\n",
    "\n",
    "# Class:\n",
    "- Class is a blue print for an object or its a template for an object.\n",
    "- class will only have a structure but not actual values.\n",
    "- Once a class is created , we can create any number of objects out of it.\n",
    "- if we have a student class, we can create any number of students from this class.\n",
    "- each student can have differnt values but the name properties described in the class.\n",
    "\n",
    "# Class Memebers:\n",
    "- A class can have \n",
    "    1. attributes or propeties. - data related to the enitity\n",
    "    2. methods or behaviour. - logic of the application. operations that we perform on the data. Methods are simple functions with extra parameter called self.\n",
    "- we write most of the code in the class to reduce the code when creating objects.\n",
    "- object will have same propeties that we specified in the class but different values can be given to each property for each object.\n",
    "- A class will have a special method called __init__ which is a constructor. \n",
    "# Constructor:\n",
    "- A special method that helps us to create the propeties in an object.\n",
    "- It accepts the actual values as parameters and sets them into the object's properties\n",
    "# Class creaction\n",
    "- A class will have PascalCase.\n",
    "- All first letters has to be uppercase\n",
    "- A class will always have __init__ method.\n",
    "- most methods will have self as the first parameter.\n",
    "\n",
    "- Syntax:\n",
    "```python\n",
    "class ClassName:\n",
    "    def __init__(self, param1, param2,...):\n",
    "        self.data1 = param1\n",
    "        self.data2 = param2\n",
    "        ...\n",
    "```"
   ]
  },
  {
   "cell_type": "code",
   "execution_count": 2,
   "id": "611b4091-7b0f-48b7-9124-bc859bc04130",
   "metadata": {},
   "outputs": [],
   "source": [
    "class Student:\n",
    "    def __init__(self, n, a, m):\n",
    "        self.name = n\n",
    "        self.age = a\n",
    "        self.marks = m"
   ]
  },
  {
   "cell_type": "markdown",
   "id": "09e5fcba-735f-4213-ae01-c98b05631d9a",
   "metadata": {},
   "source": [
    "- name, age and marks are called instance variable or object variables.\n",
    "- the parameters and the instance variables can have same name.\n",
    "- here we are creating the params with different names just for better understanding."
   ]
  },
  {
   "cell_type": "markdown",
   "id": "c6a199e8-1957-4cd6-98c6-960242a778a6",
   "metadata": {},
   "source": [
    "# Object Creation\n",
    "- Once a class is created, we can create any number of objects from it.\n",
    "- Each object can have different values.\n",
    "- We can provide the values to an object at the time of its creation.\n",
    "- To do this we use the name of the class and a set of ().\n",
    "- in the parantesis we provide the actual values that the class needs.\n",
    "- Syntax:\n",
    "```python\n",
    "object_name = ClassName(arg1, arg2,...)\n",
    "```\n",
    "\n"
   ]
  },
  {
   "cell_type": "code",
   "execution_count": 5,
   "id": "cd49c64f-db9d-447f-ae7f-7a07c7325fee",
   "metadata": {
    "tags": []
   },
   "outputs": [],
   "source": [
    "# s1 and s2 are the objects and we are providing values for n, a and m.\n",
    "s1 = Student('Max', 20, 99.9) \n",
    "s2 = Student('jake', 20, 87.9)"
   ]
  },
  {
   "cell_type": "markdown",
   "id": "4580e4ce-0e04-454f-b1ff-33783409f7bf",
   "metadata": {},
   "source": [
    "<p style= \"color: red\">\n",
    "Note: <br>\n",
    "keywords to remember:<br>\n",
    "instance = also called objects. s1 and s2<br>\n",
    "instance variables - variables that are inside the objects also the\n",
    "</p>"
   ]
  },
  {
   "cell_type": "markdown",
   "id": "7906094f-2502-40c3-838b-ef79d432f5af",
   "metadata": {},
   "source": [
    "# self \n",
    "- self represents current object.\n",
    "- if we are using s1 = Student('Max', 20, 99.9) then self becomes s1\n",
    "- if we are using s2 = Student('jake', 20, 87.9) then self becomes s2\n"
   ]
  },
  {
   "cell_type": "code",
   "execution_count": 2,
   "id": "2017bd49-ecf0-4459-9e54-2b6b2485d2af",
   "metadata": {
    "tags": []
   },
   "outputs": [],
   "source": [
    "class Student:\n",
    "    def __init__(self, n, a, m): # self = s1, n = 'Max' a = 20, m = 99.9\n",
    "        self.name = n  # in the self which is s1, create a variable called name and set it to the value of n which is max\n",
    "        self.age = a\n",
    "        self.marks = m\n",
    "\n",
    "s1 = Student('Max', 20, 99.9)  # self = s1\n",
    "s2 = Student('jake', 20, 87.9) # self = s2"
   ]
  },
  {
   "cell_type": "code",
   "execution_count": 3,
   "id": "9f539849-cd8d-4c1a-927f-e985061ad861",
   "metadata": {
    "tags": []
   },
   "outputs": [],
   "source": [
    "class Employee:\n",
    "    def __init__(self, id, name, age, designation, location, salary ):\n",
    "        self.id = id\n",
    "        self.name = name\n",
    "        self.age = age\n",
    "        self.desination = designation\n",
    "        self.location = location\n",
    "        self.salary = salary\n",
    "e1 = Employee(1, \"Max\", 25, \"Junior Sofware Developer\", \"New York 1\", 120000)\n",
    "e2 = Employee(2, \"Bill\", 28, \"Sofware Developer\", \"New York 3\", 130000)"
   ]
  },
  {
   "cell_type": "markdown",
   "id": "f2e98ae2-a628-4ba7-a7c5-3c03cc7a1caf",
   "metadata": {},
   "source": [
    "# Acessing values or methods inside an object from the object\n",
    "- once an object is created, it stays in the memory till block of code ends and it gets destroyed.\n",
    "- Accessing values and methods from a class will be very useful for us,.\n",
    "- We need to use a dot operator(.) like we did for list methods, dictionary method, string method\n",
    "- Syntax:\n",
    "```python\n",
    "# exracting variables from an object\n",
    "new_variable = object_name.variable_name\n",
    "print(object_name.variable_name)\n",
    "\n",
    "# using methods of an object\n",
    "# we need see if the method return a value or not\n",
    "object_name.method_name(arg1, ag2, ...)  # if the method does not return anything\n",
    "result_variable = object_name.method_name(arg1,arg2,...) # when a method returns a value\n",
    "print(object_name.method_name(arg1,arg2,...))\n",
    "```"
   ]
  },
  {
   "cell_type": "code",
   "execution_count": 11,
   "id": "82773f41-bed4-40b1-bc1f-4645b0cf9eb3",
   "metadata": {
    "tags": []
   },
   "outputs": [
    {
     "name": "stdout",
     "output_type": "stream",
     "text": [
      "name = Max\n",
      "age = 25\n",
      "Salary = 120000\n"
     ]
    }
   ],
   "source": [
    "class Employee:\n",
    "    def __init__(self, id, name, age, designation, location, salary ):\n",
    "        self.id = id\n",
    "        self.name = name\n",
    "        self.age = age\n",
    "        self.desination = designation\n",
    "        self.location = location\n",
    "        self.salary = salary\n",
    "e1 = Employee(1, \"Max\", 25, \"Junior Sofware Developer\", \"New York 1\", 120000)\n",
    "e2 = Employee(2, \"Bill\", 28, \"Sofware Developer\", \"New York 3\", 130000)\n",
    "print(f'name = {e1.name}')\n",
    "print(f'age = {e1.age}')\n",
    "print(f'Salary = {e1.salary}')\n"
   ]
  },
  {
   "cell_type": "code",
   "execution_count": 10,
   "id": "0763b9fe-e7a3-4b96-9ac9-19e58c2bff57",
   "metadata": {
    "tags": []
   },
   "outputs": [
    {
     "name": "stdout",
     "output_type": "stream",
     "text": [
      "name      age    salary    \n",
      "Max       25     120000    \n",
      "Bill      28     130000    \n"
     ]
    }
   ],
   "source": [
    "print('{:10}{:7}{:10}'.format('name', 'age', 'salary'))\n",
    "print('{:<10}{:<7d}{:<10d}'.format(e1.name, e1.age, e1.salary))\n",
    "print('{:<10}{:<7d}{:<10d}'.format(e2.name, e2.age, e2.salary))"
   ]
  },
  {
   "cell_type": "markdown",
   "id": "11015490-0608-4408-a596-da395934cc35",
   "metadata": {},
   "source": [
    "# changing values of a instance variable.\n",
    "- we need to use the dot operator to change a value in the instance variable.\n",
    "- Syntax:\n",
    "```python\n",
    "object_name.variable_name = new_value\n",
    "```\n",
    "- At a later stage we will not be using this a lot.\n",
    "- Using encapsulation, we will be hiding the data.\n",
    "- so changing instance variables will not be possible.\n"
   ]
  },
  {
   "cell_type": "code",
   "execution_count": 20,
   "id": "772ff479-162c-4947-9c97-d824138b5382",
   "metadata": {
    "tags": []
   },
   "outputs": [
    {
     "name": "stdout",
     "output_type": "stream",
     "text": [
      "Before changing the name of s1: Max\n",
      "After changing the name of s1: Bill\n"
     ]
    }
   ],
   "source": [
    "class Student:\n",
    "    def __init__(self, n, a, m): # self = s1, n = 'Max' a = 20, m = 99.9\n",
    "        self.name = n  # in the self which is s1, create a variable called name and set it to the value of n which is max\n",
    "        self.age = a\n",
    "        self.marks = m\n",
    "\n",
    "s1 = Student('Max', 20, 99.9)  # self = s1\n",
    "s2 = Student('jake', 20, 87.9) # self = s2\n",
    "\n",
    "print(f'Before changing the name of s1: {s1.name}')\n",
    "s1.name = \"Bill\" # chaning the instance variable \n",
    "print(f'After changing the name of s1: {s1.name}')"
   ]
  },
  {
   "cell_type": "markdown",
   "id": "e38edaf1-d1a7-4660-9e18-deaec5344014",
   "metadata": {},
   "source": [
    "# Class variables.\n",
    "- There are 2 kinds of variables in the class\n",
    "    1. instance variable - the variables with self are instance variable. Example e1.name, e2.name are instance variables. They are created inside the constructor.\n",
    "    2. Class variables - They belong to a class. they are created before the init method.  \n",
    "- We can access a class variable using the class name and also any object.\n",
    "- All objects share this class variable.\n",
    "- It has the same value no matter what.\n",
    "<p style=\"color: red\"> Do not change the class variable value using an object. As this will create an instance variable instead of modifying the class variable.</p>\n",
    "- This is used if something is common though out all the objects.\n",
    "- For example All vehicles in a Ford dealership will Ford cars\n",
    "- All the students in a school will go to the same school\n",
    "- In some cases we want to count how many student object objects were created, then we can use the class variable for that aswell.\n",
    "- Syntax:\n",
    "```\n",
    "class ClassName:\n",
    "    class_variable1 = value  # class variable\n",
    "    ...\n",
    "    def __init__(self, param1, param2,,,):\n",
    "        self.var1 = param1 # instance variable\n",
    "        ...\n",
    "```\n",
    "## Accessing the class variable\n",
    "- We have to use the class name to access the class variable.\n",
    "- Syntax:\n",
    "```\n",
    "print(ClassName.class_variable1)\n",
    "```\n"
   ]
  },
  {
   "cell_type": "code",
   "execution_count": 14,
   "id": "10f5ba15-3747-4617-99e6-ad34b96290a2",
   "metadata": {
    "tags": []
   },
   "outputs": [
    {
     "name": "stdout",
     "output_type": "stream",
     "text": [
      "School Name = Harvard\n",
      "Name = Max\n",
      "Age = 20\n",
      "Marks = 99.9\n",
      "\n",
      "School Name = Harvard\n",
      "Name = jake\n",
      "Age = 20\n",
      "Marks = 87.9\n"
     ]
    }
   ],
   "source": [
    "# Example of a class with same schoolname\n",
    "class Student:\n",
    "    school_name = 'Harvard' # class variable\n",
    "    def __init__(self, n, a, m): \n",
    "        self.name = n  # instance variables\n",
    "        self.age = a\n",
    "        self.marks = m\n",
    "\n",
    "s1 = Student('Max', 20, 99.9)  \n",
    "s2 = Student('jake', 20, 87.9)\n",
    "print(f'School Name = {Student.school_name}')\n",
    "print(f'Name = {s1.name}\\nAge = {s1.age}\\nMarks = {s1.marks}')\n",
    "\n",
    "print()\n",
    "\n",
    "print(f'School Name = {Student.school_name}')\n",
    "print(f'Name = {s2.name}\\nAge = {s2.age}\\nMarks = {s2.marks}')"
   ]
  },
  {
   "cell_type": "code",
   "execution_count": 18,
   "id": "08af6798-af12-4d3d-bd56-965adbe9f097",
   "metadata": {
    "tags": []
   },
   "outputs": [
    {
     "name": "stdout",
     "output_type": "stream",
     "text": [
      "id name      age    salary    \n",
      "1  Max       25     120000    \n",
      "2  Bill      28     130000    \n",
      "3  Jake      32     200000    \n"
     ]
    }
   ],
   "source": [
    "# getting dynamc ids or the class\n",
    "class Employee:\n",
    "    next_id = 1 # class variable\n",
    "    def __init__(self, name, age, designation, location, salary ):\n",
    "        self.id = Employee.next_id # assingning the id for the current employee\n",
    "        Employee.next_id += 1 # incresing the next id\n",
    "        self.name = name\n",
    "        self.age = age\n",
    "        self.desination = designation\n",
    "        self.location = location\n",
    "        self.salary = salary\n",
    "e1 = Employee(\"Max\", 25, \"Junior Sofware Developer\", \"New York 1\", 120000)\n",
    "e2 = Employee(\"Bill\", 28, \"Sofware Developer\", \"New York 3\", 130000)\n",
    "e3 = Employee(\"Jake\", 32, \"Senior Software Developer\", \"Washington DC 1\", 200000 )\n",
    "\n",
    "print('{:3}{:10}{:7}{:10}'.format('id','name', 'age', 'salary'))\n",
    "print('{:<3d}{:<10}{:<7d}{:<10d}'.format(e1.id, e1.name, e1.age, e1.salary))\n",
    "print('{:<3d}{:<10}{:<7d}{:<10d}'.format(e2.id, e2.name, e2.age, e2.salary))\n",
    "print('{:<3d}{:<10}{:<7d}{:<10d}'.format(e3.id, e3.name, e3.age, e3.salary))"
   ]
  },
  {
   "cell_type": "markdown",
   "id": "304166dd-94ff-475f-8dba-26915d64a9ad",
   "metadata": {},
   "source": [
    "# excapsulation\n",
    "- hiding data in the class is called encapsulation.\n",
    "- most of the instance variables/ object variable that we create inside the class has to be hidden.\n",
    "- They should not be visible outside the class.\n",
    "- Visibility of instance varaibles: access modifiers or access specifiers\n",
    "    - We have 3 access modifiers in OOP\n",
    "    1. public - the object variables can be used anywhere(in the same class, outside the class, in a different class, in a different file,)\n",
    "    2. private - only usable inside the current class. \n",
    "    3. protected - canbe used in a current class and any child class.\n",
    "- python does not have strict excapsulation. Its more of a conceptual king of encapsulation.\n",
    "- We have single underscore and double underscore to use for the encapsulation\n",
    "- Python has weak private. It does not give error when we access private values. Its just like a convenstion that the developers use. python uses _ for this\n",
    "- Python also uses __. To make sure that the data cannot be directly accesses(data mangling). We have this so that the child classes can have same variable as parent."
   ]
  },
  {
   "cell_type": "code",
   "execution_count": 1,
   "id": "d4876dd7-ea97-489c-8ba1-86f01c21d924",
   "metadata": {
    "tags": []
   },
   "outputs": [
    {
     "name": "stdout",
     "output_type": "stream",
     "text": [
      "School Name = Harvard\n",
      "Name = Max\n",
      "Age = 20\n",
      "Marks = 99.9\n",
      "\n",
      "School Name = Harvard\n",
      "Name = jake\n",
      "Age = 20\n",
      "Marks = 87.9\n"
     ]
    }
   ],
   "source": [
    "class Student:\n",
    "    _school_name = 'Harvard' # class variable\n",
    "    def __init__(self, n, a, m): \n",
    "        self._name = n  # instance variables\n",
    "        self._age = a\n",
    "        self._marks = m\n",
    "s1 = Student('Max', 20, 99.9)  \n",
    "s2 = Student('jake', 20, 87.9)\n",
    "print(f'School Name = {Student._school_name}')\n",
    "print(f'Name = {s1._name}\\nAge = {s1._age}\\nMarks = {s1._marks}')\n",
    "\n",
    "print()\n",
    "\n",
    "print(f'School Name = {Student._school_name}')\n",
    "print(f'Name = {s2._name}\\nAge = {s2._age}\\nMarks = {s2._marks}')"
   ]
  },
  {
   "cell_type": "markdown",
   "id": "5069162b-9401-4963-be31-cd3d7fa781b5",
   "metadata": {
    "tags": []
   },
   "source": [
    "<p style=\"color: red\">\n",
    "In java private variables cannot be accessed directly. We get errors.<br>\n",
    "But in python we only have week private variables. So we dont any error even when we use the private variables directly.\n",
    "</p>"
   ]
  },
  {
   "cell_type": "code",
   "execution_count": 3,
   "id": "3fb9a4e0-811d-457c-ba22-c15780d02889",
   "metadata": {
    "tags": []
   },
   "outputs": [
    {
     "name": "stdout",
     "output_type": "stream",
     "text": [
      "True\n"
     ]
    }
   ],
   "source": [
    "# Door Example\n",
    "class Door:\n",
    "    def __init__(self):\n",
    "        self._is_closed = True\n",
    "        self._is_locked = False\n",
    "d1 = Door()\n",
    "d1.is_locked = True # creates a new variable instead of modifying the _is_locked.\n",
    "print(d1.is_locked)"
   ]
  },
  {
   "cell_type": "markdown",
   "id": "85e9b2b3-b0e8-4eb9-ba6a-b5b104020ec3",
   "metadata": {
    "tags": []
   },
   "source": [
    "# methods\n",
    "- methods are behaviors in a class\n",
    "- they perform operations on the instance variables or class variables\n",
    "- They look like function but they just have an extra parameter which self.\n",
    "- The self allows to make use of the instance variables in different methods.\n",
    "- For example we create the instance variables in the init method but we can use those instance variables in other methods of the same class by making use of the self.\n",
    "- self gets the  reference of the current object when we use a specific method from the class\n",
    "- methods look like function. with the def keywork, the method name, paranthesis, parameter.\n",
    "- the only difference is the instance methods are written inside a class and they have the first parameter as self.\n",
    "- There are 3 types of methods available\n",
    "    1. instance method - they belong to instances/ object\n",
    "    2. static method - they dont belong to any object or instance .\n",
    "        - But they can work on multiple instances of the current class \n",
    "        - If a method has some operation related to a class and it does not belong to a single object the it will be a static method\n",
    "    3. class method - Helps to create objects in a little bit different way\n",
    "\n",
    "- Instance method syntax:\n",
    "```python\n",
    "class ClassName:\n",
    "    def __init__(self, param1, param2):\n",
    "        self.var1 = param1\n",
    "        self.var2 = param2\n",
    "    def method_name1(self, param1, param2):\n",
    "        code\n",
    "        return value\n",
    "    def method_name1(self, param1, param2):\n",
    "        code\n",
    "        return value\n",
    "```\n",
    "# Using the methods\n",
    "- We need the dot operator to use the method.\n",
    "- Syntax:\n",
    "```python\n",
    "object_name = ClassName(arg1, arg2) # creating object\n",
    "object_name.method_name(param1, param2) # when the method does not return anything\n",
    "variable_name = object_name.method_name(param1, param2) # when the method returns a value\n",
    "```"
   ]
  },
  {
   "cell_type": "code",
   "execution_count": 1,
   "id": "d8d38f66-e804-411b-87eb-a495178896f4",
   "metadata": {},
   "outputs": [
    {
     "name": "stdout",
     "output_type": "stream",
     "text": [
      "Password changed.\n",
      "Password changed.\n"
     ]
    }
   ],
   "source": [
    "# Door class method to open and close, lock and unlock using a password, changePassword\n",
    "class Door:\n",
    "    def __init__(self):\n",
    "        self._is_closed = True\n",
    "        self._is_locked = False\n",
    "        self._passkey = 42\n",
    "    def close_door(self, password): \n",
    "        # password is provided by the user to close the door \n",
    "        # we check if the provided password matches with the existing _passkey\n",
    "        if self._is_closed :\n",
    "            print('Door is already closed.')\n",
    "        elif self._is_locked:\n",
    "            print('Door is already locked')\n",
    "        elif password == self._passkey:   \n",
    "            self._is_closed = True\n",
    "            print('Door is now closed.')\n",
    "        else:\n",
    "            print('Wrong password')\n",
    "    def open_door(self, password):\n",
    "        if not self._is_closed:\n",
    "            print('The door is already open')\n",
    "        elif self._is_locked:\n",
    "            print('Door is currently locked. Please unlock the door first')\n",
    "        elif password == self._passkey:\n",
    "            self._is_closed = False\n",
    "            print('Door is now opened')\n",
    "        else:\n",
    "            print('Incorrect Password')\n",
    "    def lock_door(self, password):\n",
    "        if self._is_locked :\n",
    "            print('Door is already locked')\n",
    "        elif password == self._passkey:\n",
    "            self._is_closed = True\n",
    "            self._is_locked = True\n",
    "            print('Locked the door now.')\n",
    "        else:\n",
    "            print('Incorrect Password')\n",
    "    def unlock_door(self, password):\n",
    "        if not self._is_locked:\n",
    "            print('Door already unlocked')\n",
    "        elif password == self._passkey:\n",
    "            self._is_locked = False\n",
    "            print('Unlocked the door')\n",
    "        else:\n",
    "            print('Incorrect Password')\n",
    "    def change_password(self, passkey, new_passkey):\n",
    "        if self._passkey == passkey:\n",
    "            self._passkey = new_passkey\n",
    "            print('Password changed.')\n",
    "        else:\n",
    "            print('Your password verification failed')\n",
    "\n",
    "# creating door objects\n",
    "d1 = Door()\n",
    "d2 = Door()\n",
    "d1.change_password(42, 100)\n",
    "d2.change_password(42, 150)"
   ]
  },
  {
   "cell_type": "markdown",
   "id": "3b2cb125-9ce3-480d-aa42-27f9f0c34e32",
   "metadata": {},
   "source": [
    "# docstrings\n",
    "- documetation string.\n",
    "- They are used to specify what a class and each of its methods do.\n",
    "- So that when ever a developer wants to make use of a class that he/she did not create, they can use the docstring to understand its usage.\n",
    "- We use triple quotes\n",
    "- Syntax\n",
    "```python\n",
    "class ClassName:\n",
    "    '''Class Description here'''\n",
    "    def __init__(self, params):\n",
    "        '''init description here'''\n",
    "        code\n",
    "    def method1(self, params):\n",
    "        '''method1 description here'''\n",
    "        code\n",
    "    def method2(self, params):\n",
    "        '''method2 description here'''\n",
    "        code\n",
    "```\n",
    "\n",
    "python docstring convensions -https://peps.python.org/pep-0257/"
   ]
  },
  {
   "cell_type": "code",
   "execution_count": 6,
   "id": "9b4b7ee3-8180-433a-956d-f8efc24d9c8e",
   "metadata": {
    "tags": []
   },
   "outputs": [],
   "source": [
    "# Door class method to open and close, lock and unlock using a password, changePassword\n",
    "class Door:\n",
    "    '''A class that represents an automated door'''\n",
    "    def __init__(self):\n",
    "        '''The constructor that allows to to create a door class. It does not need any parameters.'''\n",
    "        self._is_closed = True\n",
    "        self._is_locked = False\n",
    "        self._passkey = 42\n",
    "    def close_door(self, password): \n",
    "        '''This method helps to close the door. you need to provide valid password to this.'''\n",
    "        # password is provided by the user to close the door \n",
    "        # we check if the provided password matches with the existing _passkey\n",
    "        if self._is_closed :\n",
    "            print('Door is already closed.')\n",
    "        elif self._is_locked:\n",
    "            print('Door is already locked')\n",
    "        elif password == self._passkey:   \n",
    "            self._is_closed = True\n",
    "            print('Door is now closed.')\n",
    "        else:\n",
    "            print('Wrong password')\n",
    "    def open_door(self, password):\n",
    "        '''This method helps to open the door. you need to provide valid password to this.'''\n",
    "        if not self._is_closed:\n",
    "            print('The door is already open')\n",
    "        elif self._is_locked:\n",
    "            print('Door is currently locked. Please unlock the door first')\n",
    "        elif password == self._passkey:\n",
    "            self._is_closed = False\n",
    "            print('Door is now opened')\n",
    "        else:\n",
    "            print('Incorrect Password')\n",
    "    def lock_door(self, password):\n",
    "        '''This method helps to lock the door. you need to provide valid password to this.'''\n",
    "        if self._is_locked :\n",
    "            print('Door is already locked')\n",
    "        elif password == self._passkey:\n",
    "            self._is_closed = True\n",
    "            self._is_locked = True\n",
    "            print('Locked the door now.')\n",
    "        else:\n",
    "            print('Incorrect Password')\n",
    "    def unlock_door(self, password):\n",
    "        '''This method helps to unlock the door. you need to provide valid password to this.'''\n",
    "        if not self._is_locked:\n",
    "            print('Door already unlocked')\n",
    "        elif password == self._passkey:\n",
    "            self._is_locked = False\n",
    "            print('Unlocked the door')\n",
    "        else:\n",
    "            print('Incorrect Password')\n",
    "    def change_password(self, passkey, new_passkey):\n",
    "        '''This method helps to change the existing password so that we dont use default password. \n",
    "        You need to provide the existing password and the newpassword'''\n",
    "        if self._passkey == passkey:\n",
    "            self._passkey = new_passkey\n",
    "            print('Password changed.')\n",
    "        else:\n",
    "            print('Your password verification failed')\n"
   ]
  },
  {
   "cell_type": "code",
   "execution_count": null,
   "id": "e81354ef-015b-444f-99c8-1fa73b922736",
   "metadata": {},
   "outputs": [],
   "source": []
  },
  {
   "cell_type": "markdown",
   "id": "e11cdb3d-37c6-4b53-8462-5b3b191752ae",
   "metadata": {},
   "source": [
    "# using the documentation\n",
    "- we use 2 function to help with the documentaion\n",
    "1. dir - gives us a list of all methods and propeties if it is a class. dir function can be used with imports aswell.\n",
    "2. help - displays the class, methods and documentation\n"
   ]
  },
  {
   "cell_type": "code",
   "execution_count": 4,
   "id": "20100f0f-8e48-4457-9305-49aada2adec5",
   "metadata": {
    "tags": []
   },
   "outputs": [
    {
     "name": "stdout",
     "output_type": "stream",
     "text": [
      "['__class__', '__delattr__', '__dict__', '__dir__', '__doc__', '__eq__', '__format__', '__ge__', '__getattribute__', '__getstate__', '__gt__', '__hash__', '__init__', '__init_subclass__', '__le__', '__lt__', '__module__', '__ne__', '__new__', '__reduce__', '__reduce_ex__', '__repr__', '__setattr__', '__sizeof__', '__str__', '__subclasshook__', '__weakref__', 'change_password', 'close_door', 'lock_door', 'open_door', 'unlock_door']\n"
     ]
    }
   ],
   "source": [
    "print(dir(Door))"
   ]
  },
  {
   "cell_type": "code",
   "execution_count": 5,
   "id": "f94543d5-c972-4575-ae6d-2f867a6506d3",
   "metadata": {
    "tags": []
   },
   "outputs": [
    {
     "name": "stdout",
     "output_type": "stream",
     "text": [
      "Help on class Door in module __main__:\n",
      "\n",
      "class Door(builtins.object)\n",
      " |  A class that represents an automated door\n",
      " |  \n",
      " |  Methods defined here:\n",
      " |  \n",
      " |  __init__(self)\n",
      " |      The constructor that allows to to create a door class. It does not need any parameters.\n",
      " |  \n",
      " |  change_password(self, passkey, new_passkey)\n",
      " |      This method helps to change the existing password so that we dont use default password. \n",
      " |      You need to provide the existing password and the newpassword\n",
      " |  \n",
      " |  close_door(self, password)\n",
      " |      This method helps to close the door. you need to provide valid password to this.\n",
      " |  \n",
      " |  lock_door(self, password)\n",
      " |      This method helps to lock the door. you need to provide valid password to this.\n",
      " |  \n",
      " |  open_door(self, password)\n",
      " |      This method helps to open the door. you need to provide valid password to this.\n",
      " |  \n",
      " |  unlock_door(self, password)\n",
      " |      This method helps to unlock the door. you need to provide valid password to this.\n",
      " |  \n",
      " |  ----------------------------------------------------------------------\n",
      " |  Data descriptors defined here:\n",
      " |  \n",
      " |  __dict__\n",
      " |      dictionary for instance variables (if defined)\n",
      " |  \n",
      " |  __weakref__\n",
      " |      list of weak references to the object (if defined)\n",
      "\n",
      "None\n"
     ]
    }
   ],
   "source": [
    "print(help(Door))"
   ]
  },
  {
   "cell_type": "markdown",
   "id": "d2d2fa98-a5eb-4d8d-a57d-0bb7837677c0",
   "metadata": {},
   "source": [
    "# Abstraction\n",
    "- If we are able to make use of a code without knowing the complete implementaion is called abstraction.\n",
    "- You need to know the name of class, a list of parameters you need to provide and what the class does and what methods are there and their operations.\n",
    "- We need to have proper documentation for a class for it to achieve abstraction.\n",
    "- Nothing extra has to be added."
   ]
  },
  {
   "cell_type": "markdown",
   "id": "d75b2597-f111-4bb9-a9ee-52a881dde417",
   "metadata": {
    "tags": []
   },
   "source": [
    "# Getters and setter\n",
    "- As we use encapsulation, we are not supposed to directly access the values with the underscore.\n",
    "- So we create getter and setter methods which helps us to get a value or set a value from outside the class\n",
    "- getter and setter are simple method. getter returns the values setter receives a value and sets it in the private variable\n",
    "\n",
    "```python\n",
    "def get_value(self):\n",
    "    return value\n",
    "def set_value(self, val):\n",
    "    self._value = val\n",
    "```"
   ]
  },
  {
   "cell_type": "code",
   "execution_count": 12,
   "id": "6079109f-5099-4d4e-9c92-212c64fcfd17",
   "metadata": {
    "tags": []
   },
   "outputs": [
    {
     "name": "stdout",
     "output_type": "stream",
     "text": [
      "Die total: 11\n",
      "Die total: 5\n",
      "Die total: 10\n",
      "Die total: 8\n",
      "Die total: 8\n",
      "Die total: 2\n",
      "Die total: 6\n",
      "Die total: 6\n",
      "Die total: 8\n",
      "Die total: 3\n",
      "Die total: 8\n",
      "Die total: 7\n",
      "Die total: 9\n",
      "Die total: 8\n",
      "Die total: 8\n",
      "Die total: 9\n",
      "Die total: 10\n",
      "Die total: 7\n",
      "Die total: 9\n",
      "Die total: 6\n",
      "Die total: 11\n",
      "Die total: 9\n",
      "Die total: 8\n",
      "Die total: 9\n",
      "Die total: 4\n",
      "Die total: 6\n",
      "Die total: 7\n",
      "Die total: 8\n",
      "Die total: 10\n",
      "Die total: 12\n",
      "You won after 30 tries\n"
     ]
    }
   ],
   "source": [
    "# Dice Roll, game is won if the dice rolls 12\n",
    "import random\n",
    "class Die:\n",
    "    '''Represente a die in Dice roll game.'''\n",
    "    def __init__(self):\n",
    "        '''Constructor to create a die. \n",
    "        Does not need any parameters'''\n",
    "        self._die_face = 1\n",
    "    def roll_die(self):\n",
    "        '''This method rolls the die and saves it in the die_face.\n",
    "        use the get_die_face method to get the atual die_face'''\n",
    "        self._die_face = random.randint(1, 6)\n",
    "    def get_die_face(self):\n",
    "        '''getter method for die_face'''\n",
    "        return self._die_face\n",
    "d1 = Die()\n",
    "d2 = Die()\n",
    "count = 0\n",
    "while True:\n",
    "    count+=1\n",
    "    d1.roll_die()\n",
    "    d2.roll_die()\n",
    "    print(f'Die total: {d1.get_die_face() + d2.get_die_face()}')\n",
    "    total = d1.get_die_face() + d2.get_die_face()\n",
    "    if total == 12:\n",
    "        print(f'You won after {count} tries')\n",
    "        break"
   ]
  },
  {
   "cell_type": "code",
   "execution_count": null,
   "id": "a6360d19-91ad-490b-b020-98a275719919",
   "metadata": {},
   "outputs": [],
   "source": []
  },
  {
   "cell_type": "code",
   "execution_count": null,
   "id": "ccb30313-bd04-4f11-82ad-5646b43f49e2",
   "metadata": {},
   "outputs": [],
   "source": [
    "Static Methods"
   ]
  },
  {
   "cell_type": "code",
   "execution_count": null,
   "id": "3660f1f3-8404-41ee-975d-52078dda6ed7",
   "metadata": {},
   "outputs": [],
   "source": [
    "Class Methods"
   ]
  }
 ],
 "metadata": {
  "kernelspec": {
   "display_name": "Python 3 (ipykernel)",
   "language": "python",
   "name": "python3"
  },
  "language_info": {
   "codemirror_mode": {
    "name": "ipython",
    "version": 3
   },
   "file_extension": ".py",
   "mimetype": "text/x-python",
   "name": "python",
   "nbconvert_exporter": "python",
   "pygments_lexer": "ipython3",
   "version": "3.11.3"
  }
 },
 "nbformat": 4,
 "nbformat_minor": 5
}
