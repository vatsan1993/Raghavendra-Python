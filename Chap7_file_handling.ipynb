{
 "cells": [
  {
   "cell_type": "markdown",
   "id": "60fb225a-6131-4923-b1ca-69864c601d0e",
   "metadata": {
    "tags": []
   },
   "source": [
    "# open function.\n",
    "- we use the open function to work with a file.\n",
    "- A file can be opened in different ways\n",
    "- Syntax:\n",
    "```python\n",
    "file_handle = open('file_path/filename.extention', mode)\n",
    "```\n",
    "- the mode is  used to specify to which operation we are opening the file.\n",
    "- The following modes are available\n",
    "    - r - read\n",
    "    - w - write\n",
    "    - a - append\n",
    "    - rb - read binary (used for images, audio, video)\n",
    "    - wb - write binary\n",
    "    - ab - append binart\n",
    "    - t - text\n",
    "    <p>* - update(both read and write)</p>\n",
    "- file_handle will be an object that we can make use of in out program.\n",
    "- It contains lot of details related to the files and it gives us access to them using different methods.\n",
    "<p style=\"color:red\"> The open function just opens the file does not read it</p>"
   ]
  },
  {
   "cell_type": "markdown",
   "id": "55890c47-d0aa-466a-825f-bbf75dbf1b17",
   "metadata": {
    "tags": []
   },
   "source": [
    "# Close Method.\n",
    "- When we open a file, we need to make sure we close the file.\n",
    "- If we dont the file will be still in the memory and the file operation might not be performed in correct ways.\n",
    "- Syntax:\n",
    "```python\n",
    "file_handle.close()\n",
    "```"
   ]
  },
  {
   "cell_type": "code",
   "execution_count": 3,
   "id": "91e30ed8-1274-468a-9140-63bfec38665a",
   "metadata": {
    "tags": []
   },
   "outputs": [],
   "source": [
    "file_name = 'sample1.txt'\n",
    "file = open(file_name, 'r')\n",
    "file.close()"
   ]
  },
  {
   "cell_type": "markdown",
   "id": "98c44f15-c91e-468e-b0d7-fbd472bd2e57",
   "metadata": {},
   "source": [
    "# Reading content from  the file\n",
    "- the file handle has 3 methods that we can make use of.\n",
    "    1. read - reads all content character by character. It can read specific number of characters aswell.\n",
    "    2. readline - reads a single line. we can also specify the number of characters we want to read \n",
    "    3. readlines - reads all lines and puts them in a list.\n",
    "- We have a cursor that represents which line we have read. \n",
    "- Syntax:\n",
    "```python\n",
    "data_variable = file_handle.method_name()\n",
    "```\n",
    "- the data taken in will be in a string format."
   ]
  },
  {
   "cell_type": "code",
   "execution_count": 5,
   "id": "c32decaa-5cf6-4aee-a084-2b9462943831",
   "metadata": {
    "tags": []
   },
   "outputs": [
    {
     "name": "stdout",
     "output_type": "stream",
     "text": [
      "This is the data in the file.\n",
      "\n"
     ]
    }
   ],
   "source": [
    "# read data from file.txt\n",
    "file_name = 'file1.txt'\n",
    "file = open(file_name, 'r')\n",
    "data = file.read()\n",
    "print(data)\n",
    "file.close()"
   ]
  },
  {
   "cell_type": "code",
   "execution_count": 8,
   "id": "8a2d7faf-1621-43cc-aaf8-047ff541311a",
   "metadata": {
    "tags": []
   },
   "outputs": [
    {
     "name": "stdin",
     "output_type": "stream",
     "text": [
      "Enter the file name file2\n"
     ]
    },
    {
     "name": "stdout",
     "output_type": "stream",
     "text": [
      "This is first line\n",
      "This is second line\n",
      "This is last line\n"
     ]
    }
   ],
   "source": [
    "# reading data with multiple lines.\n",
    "file_name = input('Enter the file name')\n",
    "if '.txt' not in file_name:\n",
    "    file_name = file_name + '.txt'\n",
    "file = open(file_name, 'r')\n",
    "data = file.read() # data is 1 string value containing multiple lines of text.\n",
    "print(data)\n",
    "file.close()"
   ]
  },
  {
   "cell_type": "code",
   "execution_count": 9,
   "id": "d7b71d71-1af8-465f-9531-1ed68297f3c2",
   "metadata": {
    "tags": []
   },
   "outputs": [
    {
     "name": "stdout",
     "output_type": "stream",
     "text": [
      "This is th\n"
     ]
    }
   ],
   "source": [
    "# reading a part of the file.\n",
    "file_name = 'file1.txt'\n",
    "file = open(file_name, 'r')\n",
    "data = file.read(10)\n",
    "print(data)\n",
    "file.close()"
   ]
  },
  {
   "cell_type": "code",
   "execution_count": 12,
   "id": "b99e8e19-5ab9-4108-849c-6b3b7d5ebe6c",
   "metadata": {
    "tags": []
   },
   "outputs": [
    {
     "name": "stdout",
     "output_type": "stream",
     "text": [
      "This is first line\n",
      "\n",
      "This is second line\n",
      "\n"
     ]
    }
   ],
   "source": [
    "# readline\n",
    "file_name = 'file2.txt'\n",
    "file = open(file_name, 'r')\n",
    "first_line = file.readline()\n",
    "second_line = file.readline()\n",
    "print(first_line) \n",
    "# we get an extra space when displaying data because each line has a \\n in the text file\n",
    "# print function also has a \\n automatically printing.\n",
    "print(second_line)\n",
    "file.close()"
   ]
  },
  {
   "cell_type": "code",
   "execution_count": 14,
   "id": "43bb1960-a3c4-49f1-9de4-d7aad130e1cc",
   "metadata": {
    "tags": []
   },
   "outputs": [
    {
     "name": "stdout",
     "output_type": "stream",
     "text": [
      "This is fi\n",
      "rst line\n",
      "\n"
     ]
    }
   ],
   "source": [
    "# reading certain number of characters.\n",
    "file_name = 'file2.txt'\n",
    "file = open(file_name, 'r')\n",
    "first_line = file.readline(10)\n",
    "second_line = file.readline(10)\n",
    "print(first_line) \n",
    "print(second_line)\n",
    "file.close()"
   ]
  },
  {
   "cell_type": "code",
   "execution_count": 15,
   "id": "993517dd-ac0d-4ba6-83d3-e17f8f43cdb8",
   "metadata": {
    "tags": []
   },
   "outputs": [
    {
     "name": "stdout",
     "output_type": "stream",
     "text": [
      "['This is the data in the file.\\n']\n",
      "['This is first line\\n', 'This is second line\\n', 'This is last line']\n"
     ]
    }
   ],
   "source": [
    "# readlines method\n",
    "def read_file(file_name):\n",
    "    file = open(file_name, 'r')\n",
    "    data = file.readlines()\n",
    "    file.close()\n",
    "    return data\n",
    "\n",
    "data = read_file('file1.txt')\n",
    "print(data)\n",
    "data = read_file('file2.txt')\n",
    "print(data)"
   ]
  },
  {
   "cell_type": "code",
   "execution_count": null,
   "id": "7879c8b0-5504-40ab-a970-dcb8bd72e745",
   "metadata": {},
   "outputs": [],
   "source": []
  }
 ],
 "metadata": {
  "kernelspec": {
   "display_name": "Python 3 (ipykernel)",
   "language": "python",
   "name": "python3"
  },
  "language_info": {
   "codemirror_mode": {
    "name": "ipython",
    "version": 3
   },
   "file_extension": ".py",
   "mimetype": "text/x-python",
   "name": "python",
   "nbconvert_exporter": "python",
   "pygments_lexer": "ipython3",
   "version": "3.11.3"
  }
 },
 "nbformat": 4,
 "nbformat_minor": 5
}
